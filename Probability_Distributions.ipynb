{
 "cells": [
  {
   "cell_type": "markdown",
   "metadata": {
    "id": "mPnQxj7P1XbD"
   },
   "source": [
    "# Computing probabilities in Python with \"scipy\""
   ]
  },
  {
   "cell_type": "markdown",
   "metadata": {
    "id": "HyoWdBaB1yxP"
   },
   "source": [
    "# Discrete distributions"
   ]
  },
  {
   "cell_type": "markdown",
   "metadata": {
    "id": "aX2SGXwf5sG8"
   },
   "source": [
    "## PMF:\n",
    "\n",
    "How much probability I will get?"
   ]
  },
  {
   "cell_type": "markdown",
   "metadata": {
    "id": "pxGULohJ3dgc"
   },
   "source": [
    "### Binomial distribution"
   ]
  },
  {
   "cell_type": "code",
   "execution_count": 26,
   "metadata": {},
   "outputs": [],
   "source": [
    "from scipy.stats import binom"
   ]
  },
  {
   "cell_type": "code",
   "execution_count": 27,
   "metadata": {},
   "outputs": [],
   "source": [
    "# Combining probabilities\n",
    "\n",
    "# Listen yourself\n",
    "# If you say: What is the probability of getting X OR Y -> Add probabilities (+)\n",
    "# If you say: What is the probability of getting X AND Y -> Multiply probabilities (*)"
   ]
  },
  {
   "cell_type": "code",
   "execution_count": 28,
   "metadata": {
    "colab": {
     "base_uri": "https://localhost:8080/"
    },
    "executionInfo": {
     "elapsed": 14,
     "status": "ok",
     "timestamp": 1646835028207,
     "user": {
      "displayName": "Ignacio Soteras",
      "photoUrl": "https://lh3.googleusercontent.com/a/default-user=s64",
      "userId": "02050793736257155229"
     },
     "user_tz": -60
    },
    "id": "N51uVzB-075l",
    "outputId": "61bd6b23-7c10-49cf-eda9-b34d78b1fa77"
   },
   "outputs": [
    {
     "data": {
      "text/plain": [
       "0.8124999999999997"
      ]
     },
     "execution_count": 28,
     "metadata": {},
     "output_type": "execute_result"
    }
   ],
   "source": [
    "\n",
    "\n",
    "#binom.pmf(succesful_trials, trials, probability_of_success)\n",
    "# pmf = probability mass function\n",
    "#P(x>1) = P(x=2)+P(x=3)...+P(x=5)\n",
    "P_more_than_1 = sum([binom.pmf(x, 5, 1/2) for x in range(2,6)])\n",
    "P_more_than_1\n",
    "# #P(x>1) = 1- ((Px=0)+P(x=1))\n"
   ]
  },
  {
   "cell_type": "code",
   "execution_count": 29,
   "metadata": {},
   "outputs": [
    {
     "data": {
      "text/plain": [
       "0.31249999999999983"
      ]
     },
     "execution_count": 29,
     "metadata": {},
     "output_type": "execute_result"
    }
   ],
   "source": [
    "# Probability of flipping a coin 5-times and getting 3-times a head.\n",
    "# !!!!! NOTE: This is the probability of a single flip !!!!!!!\n",
    "binom.pmf(3, 5, 1/2)"
   ]
  },
  {
   "cell_type": "markdown",
   "metadata": {
    "id": "V9QjXtKx3kKv"
   },
   "source": [
    "### Poisson distribution"
   ]
  },
  {
   "cell_type": "code",
   "execution_count": 30,
   "metadata": {
    "colab": {
     "base_uri": "https://localhost:8080/"
    },
    "executionInfo": {
     "elapsed": 243,
     "status": "ok",
     "timestamp": 1646836291987,
     "user": {
      "displayName": "Ignacio Soteras",
      "photoUrl": "https://lh3.googleusercontent.com/a/default-user=s64",
      "userId": "02050793736257155229"
     },
     "user_tz": -60
    },
    "id": "zIjFuKQm3AsS",
    "outputId": "db8c8894-7b45-42e2-8cfe-7fc1f4cbdd18"
   },
   "outputs": [
    {
     "data": {
      "text/plain": [
       "0.9014792058890873"
      ]
     },
     "execution_count": 30,
     "metadata": {},
     "output_type": "execute_result"
    }
   ],
   "source": [
    "from scipy.stats import poisson\n",
    "\n",
    "# P(x < value) = P(x = 0) + P(x = 1) + .... P(x = value -1) \n",
    "#poisson.cdf(counts, mean)\n",
    "# poisson.cdf(10, 7) = p(counts = 0, mean = 7) + p(counts = 1, mean = 7) + p(counts = 2, mean = 7) + p(counts = 3, mean = 7)\n",
    "# +....p(counts = 10, mean = 7)\n",
    "poisson.cdf(10, 7)"
   ]
  },
  {
   "cell_type": "markdown",
   "metadata": {
    "id": "7iKh1_qX132b"
   },
   "source": [
    "# Continuous distributions"
   ]
  },
  {
   "cell_type": "markdown",
   "metadata": {
    "id": "n91NwA-V4d5P"
   },
   "source": [
    "# CDF: \n",
    "\n",
    "How much probability I will get if I add the probabilities until a given value?\n",
    "\n",
    "For discrete:\n",
    "$$P(x < value) = \\sum_{values< value} P(x = value)$$\n",
    "\n",
    "For continuous:\n",
    "\n",
    "$$P(x < value) = ∫_{min_value}^{value} P(x = value )dx$$"
   ]
  },
  {
   "cell_type": "markdown",
   "metadata": {
    "id": "kplgz_rl2Nyc"
   },
   "source": [
    "If our distribution is continuous, it doesn't make sense to ask about the probability of getting one particular value. In contrast we can ourselfves what is the probability of getting values below a given one: $P(x < value)$ which is the area under the distribution until value."
   ]
  },
  {
   "cell_type": "markdown",
   "metadata": {
    "id": "uQu2QFHA3hP7"
   },
   "source": [
    "### Uniform distribution"
   ]
  },
  {
   "cell_type": "code",
   "execution_count": 31,
   "metadata": {
    "colab": {
     "base_uri": "https://localhost:8080/"
    },
    "executionInfo": {
     "elapsed": 232,
     "status": "ok",
     "timestamp": 1646835581860,
     "user": {
      "displayName": "Ignacio Soteras",
      "photoUrl": "https://lh3.googleusercontent.com/a/default-user=s64",
      "userId": "02050793736257155229"
     },
     "user_tz": -60
    },
    "id": "XRZVkPur075q",
    "outputId": "9ac3df8e-207a-4630-95de-85d9cda8dff9"
   },
   "outputs": [
    {
     "data": {
      "text/plain": [
       "0.05"
      ]
     },
     "execution_count": 31,
     "metadata": {},
     "output_type": "execute_result"
    }
   ],
   "source": [
    "from scipy.stats import uniform\n",
    "\n",
    "# Whats the probability to get a between min_value and value.\n",
    "# P(x < value)?\n",
    "# P(x < value) = \\int_{min_value}^{value} P(x = value) dx\n",
    "# uniform.cdf(value,min_value,max_value) \n",
    "uniform.cdf(360/20, 0, 360) # cdf = continuous distribution fuction\n",
    "# uniform.cdf(360, 0, 360) == 1.0"
   ]
  },
  {
   "cell_type": "markdown",
   "metadata": {
    "id": "qGUX18kZ3n0X"
   },
   "source": [
    "### Normal distribution"
   ]
  },
  {
   "cell_type": "code",
   "execution_count": 32,
   "metadata": {
    "colab": {
     "base_uri": "https://localhost:8080/"
    },
    "executionInfo": {
     "elapsed": 219,
     "status": "ok",
     "timestamp": 1646835611153,
     "user": {
      "displayName": "Ignacio Soteras",
      "photoUrl": "https://lh3.googleusercontent.com/a/default-user=s64",
      "userId": "02050793736257155229"
     },
     "user_tz": -60
    },
    "id": "ZfKkFoLS075q",
    "outputId": "6bdbd21e-31a1-42fb-cefa-4485d4dea04e"
   },
   "outputs": [
    {
     "data": {
      "text/plain": [
       "0.4142340635304751"
      ]
     },
     "execution_count": 32,
     "metadata": {},
     "output_type": "execute_result"
    }
   ],
   "source": [
    "from scipy.stats import norm\n",
    "\n",
    "# P(x <= value)     \n",
    "#norm.cdf(value, mean, sd)\n",
    "norm.cdf(110.05, 112, 9)\n",
    "\n",
    "# norm.cdf(112, 112, 9) == 0.5\n",
    "# norm.cdf(224, 112, 9) == 1.0"
   ]
  },
  {
   "cell_type": "markdown",
   "metadata": {
    "id": "tCsRFlbt4Xey"
   },
   "source": [
    "### Exponential distribution"
   ]
  },
  {
   "cell_type": "code",
   "execution_count": 33,
   "metadata": {
    "colab": {
     "base_uri": "https://localhost:8080/"
    },
    "executionInfo": {
     "elapsed": 311,
     "status": "ok",
     "timestamp": 1646835874911,
     "user": {
      "displayName": "Ignacio Soteras",
      "photoUrl": "https://lh3.googleusercontent.com/a/default-user=s64",
      "userId": "02050793736257155229"
     },
     "user_tz": -60
    },
    "id": "22R1__KO3Z_f",
    "outputId": "37f9525b-cd27-4f8a-b0e5-6a831e929cf2"
   },
   "outputs": [
    {
     "data": {
      "text/plain": [
       "0.6321205588285577"
      ]
     },
     "execution_count": 33,
     "metadata": {},
     "output_type": "execute_result"
    }
   ],
   "source": [
    "from scipy.stats import expon\n",
    "\n",
    "# P(x <= value)\n",
    "# expon.cdf(value, scale = lambda)\n",
    "expon.cdf(2, 1)"
   ]
  },
  {
   "cell_type": "markdown",
   "metadata": {
    "id": "I2xFtWVF4aYl"
   },
   "source": [
    "### Chi2 distribution"
   ]
  },
  {
   "cell_type": "code",
   "execution_count": 34,
   "metadata": {
    "colab": {
     "base_uri": "https://localhost:8080/"
    },
    "executionInfo": {
     "elapsed": 248,
     "status": "ok",
     "timestamp": 1646835892175,
     "user": {
      "displayName": "Ignacio Soteras",
      "photoUrl": "https://lh3.googleusercontent.com/a/default-user=s64",
      "userId": "02050793736257155229"
     },
     "user_tz": -60
    },
    "id": "xNsaP4dy075r",
    "outputId": "3c27e6c0-a88e-4c28-ab8b-aac890cb5e8a"
   },
   "outputs": [
    {
     "data": {
      "text/plain": [
       "0.3000141641213724"
      ]
     },
     "execution_count": 34,
     "metadata": {},
     "output_type": "execute_result"
    }
   ],
   "source": [
    "from scipy.stats import chi2\n",
    "\n",
    "# P(x <= value)\n",
    "# chi2.cdf(value,degrees_of_freedom)\n",
    "chi2.cdf(3, 5)"
   ]
  },
  {
   "cell_type": "markdown",
   "metadata": {
    "id": "41NRmQKY5A4-"
   },
   "source": [
    "### t-student Distribution"
   ]
  },
  {
   "cell_type": "code",
   "execution_count": 35,
   "metadata": {
    "colab": {
     "base_uri": "https://localhost:8080/"
    },
    "executionInfo": {
     "elapsed": 248,
     "status": "ok",
     "timestamp": 1646836048752,
     "user": {
      "displayName": "Ignacio Soteras",
      "photoUrl": "https://lh3.googleusercontent.com/a/default-user=s64",
      "userId": "02050793736257155229"
     },
     "user_tz": -60
    },
    "id": "OpgM4RY15E5S",
    "outputId": "de58dc3c-e854-4206-dda9-3f0f3f635ef5"
   },
   "outputs": [
    {
     "data": {
      "text/plain": [
       "0.5"
      ]
     },
     "execution_count": 35,
     "metadata": {},
     "output_type": "execute_result"
    }
   ],
   "source": [
    "from scipy.stats import t\n",
    "\n",
    "# P(x <= value)\n",
    "# t.cdf(value, degrees_of_freedom)\n",
    "t.cdf(0, 40)"
   ]
  },
  {
   "cell_type": "markdown",
   "metadata": {
    "id": "6YPkSnix5glL"
   },
   "source": [
    "# Activity\n",
    "\n",
    "* Can you guess why the previous cdf is 0.5?\n",
    "\n",
    "* Increase the degrees of freedom by 3 and compute the new cdf.\n",
    "\n",
    "* Set the number of degrees of freedom to 40 and re-compute the t.cdf\n",
    "\n",
    "* Compare the previous value against the norm.cdf(0, 0, 1). "
   ]
  },
  {
   "cell_type": "markdown",
   "metadata": {
    "id": "BagCGcbw6L35"
   },
   "source": [
    "# PPF\n",
    "\n",
    "Now the question is up to which value I need to add probabilities to get a given amount of probability?\n",
    "\n",
    "In other words, solve the following question:\n",
    "\n",
    "$$P(x < value) = probability $$\n",
    "\n",
    "what is the \"value\" in the previous equation? \n",
    "\n",
    "For example, given the normal distribution what is the value that I need to plug in order to obtain a total probability of 0.5?\n",
    "\n",
    "* P( x < value ) = 0.5\n"
   ]
  },
  {
   "cell_type": "markdown",
   "metadata": {
    "id": "gUHIezSA7Idc"
   },
   "source": [
    "# Activity\n",
    "\n",
    "* What is the \"value\" for the previous example?"
   ]
  },
  {
   "cell_type": "markdown",
   "metadata": {
    "id": "BYpfR6Sc7sRI"
   },
   "source": [
    "**PPFs are the opposite functions of CDFs!!!**"
   ]
  },
  {
   "cell_type": "markdown",
   "metadata": {
    "id": "HxeaWAaD7W9W"
   },
   "source": [
    "## Binomial distribution"
   ]
  },
  {
   "cell_type": "code",
   "execution_count": 36,
   "metadata": {
    "colab": {
     "base_uri": "https://localhost:8080/"
    },
    "executionInfo": {
     "elapsed": 275,
     "status": "ok",
     "timestamp": 1646836249954,
     "user": {
      "displayName": "Ignacio Soteras",
      "photoUrl": "https://lh3.googleusercontent.com/a/default-user=s64",
      "userId": "02050793736257155229"
     },
     "user_tz": -60
    },
    "id": "4y2gTIJ-6iFd",
    "outputId": "b51f0ff6-3dc4-4947-fb75-4b6708dd224c"
   },
   "outputs": [
    {
     "data": {
      "text/plain": [
       "7.0"
      ]
     },
     "execution_count": 36,
     "metadata": {},
     "output_type": "execute_result"
    }
   ],
   "source": [
    "# binom.ppf(total_probability, number_of_trials, probability_of_succes)\n",
    "binom.ppf(0.9,10,0.5)"
   ]
  },
  {
   "cell_type": "markdown",
   "metadata": {
    "id": "jyK4R5sm8m3W"
   },
   "source": [
    "## Poisson"
   ]
  },
  {
   "cell_type": "code",
   "execution_count": 37,
   "metadata": {
    "colab": {
     "base_uri": "https://localhost:8080/"
    },
    "executionInfo": {
     "elapsed": 219,
     "status": "ok",
     "timestamp": 1646836298266,
     "user": {
      "displayName": "Ignacio Soteras",
      "photoUrl": "https://lh3.googleusercontent.com/a/default-user=s64",
      "userId": "02050793736257155229"
     },
     "user_tz": -60
    },
    "id": "eUAomrhh8otl",
    "outputId": "2e27f884-0394-4b2a-e0c1-87715fb73357"
   },
   "outputs": [
    {
     "data": {
      "text/plain": [
       "6.0"
      ]
     },
     "execution_count": 37,
     "metadata": {},
     "output_type": "execute_result"
    }
   ],
   "source": [
    "# poisson.ppf(total_probability, mean)\n",
    "poisson.ppf(0.7, 5)"
   ]
  },
  {
   "cell_type": "markdown",
   "metadata": {
    "id": "IrkinHPl8NYt"
   },
   "source": [
    "## Uniform distribution"
   ]
  },
  {
   "cell_type": "code",
   "execution_count": 38,
   "metadata": {
    "colab": {
     "base_uri": "https://localhost:8080/"
    },
    "executionInfo": {
     "elapsed": 253,
     "status": "ok",
     "timestamp": 1646836310843,
     "user": {
      "displayName": "Ignacio Soteras",
      "photoUrl": "https://lh3.googleusercontent.com/a/default-user=s64",
      "userId": "02050793736257155229"
     },
     "user_tz": -60
    },
    "id": "37Ub_2qR8PAt",
    "outputId": "f75b3ae5-92cf-4e6b-fb1f-059f03976a27"
   },
   "outputs": [
    {
     "data": {
      "text/plain": [
       "6.2"
      ]
     },
     "execution_count": 38,
     "metadata": {},
     "output_type": "execute_result"
    }
   ],
   "source": [
    "## uniform.ppf(total_probability, min_value, max_value)\n",
    "\n",
    "uniform.ppf(0.6, 2, 7)"
   ]
  },
  {
   "cell_type": "markdown",
   "metadata": {
    "id": "QpIpHn3x9PIV"
   },
   "source": [
    "## Normal distribution"
   ]
  },
  {
   "cell_type": "code",
   "execution_count": 39,
   "metadata": {
    "colab": {
     "base_uri": "https://localhost:8080/"
    },
    "executionInfo": {
     "elapsed": 250,
     "status": "ok",
     "timestamp": 1646836482271,
     "user": {
      "displayName": "Ignacio Soteras",
      "photoUrl": "https://lh3.googleusercontent.com/a/default-user=s64",
      "userId": "02050793736257155229"
     },
     "user_tz": -60
    },
    "id": "5SvNojHx9RkX",
    "outputId": "01d0e3b4-9192-4ed7-f75b-fa9681f16cf5"
   },
   "outputs": [
    {
     "data": {
      "text/plain": [
       "0.8416212335729143"
      ]
     },
     "execution_count": 39,
     "metadata": {},
     "output_type": "execute_result"
    }
   ],
   "source": [
    "## norm.ppf(total_probability, mean, sd)\n",
    "\n",
    "norm.ppf(0.8,0,1)"
   ]
  },
  {
   "cell_type": "code",
   "execution_count": 40,
   "metadata": {
    "colab": {
     "base_uri": "https://localhost:8080/"
    },
    "executionInfo": {
     "elapsed": 511,
     "status": "ok",
     "timestamp": 1646582456362,
     "user": {
      "displayName": "Ignacio Soteras",
      "photoUrl": "https://lh3.googleusercontent.com/a/default-user=s64",
      "userId": "02050793736257155229"
     },
     "user_tz": -60
    },
    "id": "BBIrggHd9h96",
    "outputId": "9d40eb8a-6dde-4f67-8ed0-10123f508de9"
   },
   "outputs": [
    {
     "data": {
      "text/plain": [
       "0.8"
      ]
     },
     "execution_count": 40,
     "metadata": {},
     "output_type": "execute_result"
    }
   ],
   "source": [
    "norm.cdf(0.8416212335729143,0,1)"
   ]
  },
  {
   "cell_type": "markdown",
   "metadata": {
    "id": "a_8a_Pv09wxo"
   },
   "source": [
    "## Exponential distribution"
   ]
  },
  {
   "cell_type": "code",
   "execution_count": 41,
   "metadata": {
    "colab": {
     "base_uri": "https://localhost:8080/"
    },
    "executionInfo": {
     "elapsed": 4,
     "status": "ok",
     "timestamp": 1646836590161,
     "user": {
      "displayName": "Ignacio Soteras",
      "photoUrl": "https://lh3.googleusercontent.com/a/default-user=s64",
      "userId": "02050793736257155229"
     },
     "user_tz": -60
    },
    "id": "uWstffWm9zP8",
    "outputId": "f9bdbaed-8e27-4069-c602-e40db0c39e2d"
   },
   "outputs": [
    {
     "data": {
      "text/plain": [
       "3.203972804325936"
      ]
     },
     "execution_count": 41,
     "metadata": {},
     "output_type": "execute_result"
    }
   ],
   "source": [
    "## expon.ppf(total_probability, lambda)\n",
    "\n",
    "expon.ppf(0.7, 2)"
   ]
  },
  {
   "cell_type": "code",
   "execution_count": 42,
   "metadata": {
    "colab": {
     "base_uri": "https://localhost:8080/"
    },
    "executionInfo": {
     "elapsed": 261,
     "status": "ok",
     "timestamp": 1646836619534,
     "user": {
      "displayName": "Ignacio Soteras",
      "photoUrl": "https://lh3.googleusercontent.com/a/default-user=s64",
      "userId": "02050793736257155229"
     },
     "user_tz": -60
    },
    "id": "CaFxS3Wt9_AR",
    "outputId": "fa23b377-40a4-4408-eb92-889a3e5d3618"
   },
   "outputs": [
    {
     "data": {
      "text/plain": [
       "0.7"
      ]
     },
     "execution_count": 42,
     "metadata": {},
     "output_type": "execute_result"
    }
   ],
   "source": [
    "expon.cdf(3.203972804325936, 2)"
   ]
  },
  {
   "cell_type": "markdown",
   "metadata": {
    "id": "GOqtHskC-FND"
   },
   "source": [
    "## Chi2 distribution"
   ]
  },
  {
   "cell_type": "code",
   "execution_count": 43,
   "metadata": {
    "colab": {
     "base_uri": "https://localhost:8080/"
    },
    "executionInfo": {
     "elapsed": 330,
     "status": "ok",
     "timestamp": 1646836754865,
     "user": {
      "displayName": "Ignacio Soteras",
      "photoUrl": "https://lh3.googleusercontent.com/a/default-user=s64",
      "userId": "02050793736257155229"
     },
     "user_tz": -60
    },
    "id": "DVETO2pe-X2a",
    "outputId": "2a756c60-ca55-4cd4-a0d2-bf2d2633c4ff"
   },
   "outputs": [
    {
     "data": {
      "text/plain": [
       "13.441957574973113"
      ]
     },
     "execution_count": 43,
     "metadata": {},
     "output_type": "execute_result"
    }
   ],
   "source": [
    "## chi2.ppf(total_probability, degrees_of_freedom)\n",
    "chi2.ppf(0.8, 10)"
   ]
  },
  {
   "cell_type": "code",
   "execution_count": 44,
   "metadata": {
    "colab": {
     "base_uri": "https://localhost:8080/"
    },
    "executionInfo": {
     "elapsed": 223,
     "status": "ok",
     "timestamp": 1646836767413,
     "user": {
      "displayName": "Ignacio Soteras",
      "photoUrl": "https://lh3.googleusercontent.com/a/default-user=s64",
      "userId": "02050793736257155229"
     },
     "user_tz": -60
    },
    "id": "c7k5lv3n-k7N",
    "outputId": "314269e1-db78-4e6f-f981-dbe2b5265043"
   },
   "outputs": [
    {
     "data": {
      "text/plain": [
       "0.8"
      ]
     },
     "execution_count": 44,
     "metadata": {},
     "output_type": "execute_result"
    }
   ],
   "source": [
    "chi2.cdf(13.441957574973113,10)"
   ]
  },
  {
   "cell_type": "markdown",
   "metadata": {
    "id": "WlsXihhM-yXq"
   },
   "source": [
    "## t-student Distribution"
   ]
  },
  {
   "cell_type": "code",
   "execution_count": 45,
   "metadata": {
    "colab": {
     "base_uri": "https://localhost:8080/"
    },
    "executionInfo": {
     "elapsed": 252,
     "status": "ok",
     "timestamp": 1646836790089,
     "user": {
      "displayName": "Ignacio Soteras",
      "photoUrl": "https://lh3.googleusercontent.com/a/default-user=s64",
      "userId": "02050793736257155229"
     },
     "user_tz": -60
    },
    "id": "zKyXPh9l-2uh",
    "outputId": "d21c70d9-0df2-4f93-b9d3-6e359c165171"
   },
   "outputs": [
    {
     "data": {
      "text/plain": [
       "2.015048372669157"
      ]
     },
     "execution_count": 45,
     "metadata": {},
     "output_type": "execute_result"
    }
   ],
   "source": [
    "## t.ppf(total_probability, degrees_of_freedom)\n",
    "t.ppf(0.95, 5)"
   ]
  },
  {
   "cell_type": "code",
   "execution_count": 46,
   "metadata": {
    "colab": {
     "base_uri": "https://localhost:8080/"
    },
    "executionInfo": {
     "elapsed": 262,
     "status": "ok",
     "timestamp": 1646836800248,
     "user": {
      "displayName": "Ignacio Soteras",
      "photoUrl": "https://lh3.googleusercontent.com/a/default-user=s64",
      "userId": "02050793736257155229"
     },
     "user_tz": -60
    },
    "id": "_UMeaVyC_C7c",
    "outputId": "da6e977f-d8ce-47c6-ab7b-e325987ced85"
   },
   "outputs": [
    {
     "data": {
      "text/plain": [
       "0.9499999999576474"
      ]
     },
     "execution_count": 46,
     "metadata": {},
     "output_type": "execute_result"
    }
   ],
   "source": [
    "t.cdf(2.015048372669157,5)"
   ]
  }
 ],
 "metadata": {
  "colab": {
   "name": "L4.06 Probability Distributions.ipynb",
   "provenance": []
  },
  "kernelspec": {
   "display_name": "Python 3 (ipykernel)",
   "language": "python",
   "name": "python3"
  },
  "language_info": {
   "codemirror_mode": {
    "name": "ipython",
    "version": 3
   },
   "file_extension": ".py",
   "mimetype": "text/x-python",
   "name": "python",
   "nbconvert_exporter": "python",
   "pygments_lexer": "ipython3",
   "version": "3.10.7"
  }
 },
 "nbformat": 4,
 "nbformat_minor": 1
}
