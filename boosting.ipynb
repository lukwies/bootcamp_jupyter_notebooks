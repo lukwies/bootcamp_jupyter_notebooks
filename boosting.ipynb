{
 "cells": [
  {
   "cell_type": "markdown",
   "metadata": {
    "id": "77D3orsksdQY"
   },
   "source": [
    "## Loading libraries"
   ]
  },
  {
   "cell_type": "code",
   "execution_count": 1,
   "metadata": {
    "executionInfo": {
     "elapsed": 483,
     "status": "ok",
     "timestamp": 1648714454411,
     "user": {
      "displayName": "Ignacio Soteras",
      "userId": "02050793736257155229"
     },
     "user_tz": -120
    },
    "id": "q5PBvNJjrvjH"
   },
   "outputs": [],
   "source": [
    "import pandas as pd\n",
    "import numpy as np\n",
    "\n",
    "from sklearn.datasets import load_boston\n",
    "from sklearn.model_selection import train_test_split\n",
    "from sklearn.tree import DecisionTreeRegressor\n",
    "\n",
    "from sklearn.preprocessing import OneHotEncoder\n",
    "from sklearn.model_selection import train_test_split\n",
    "from sklearn.ensemble import RandomForestClassifier"
   ]
  },
  {
   "cell_type": "markdown",
   "metadata": {
    "id": "CwdIn2qpsmLV"
   },
   "source": [
    "## Loading data"
   ]
  },
  {
   "cell_type": "code",
   "execution_count": 2,
   "metadata": {
    "colab": {
     "base_uri": "https://localhost:8080/",
     "height": 1000
    },
    "executionInfo": {
     "elapsed": 398,
     "status": "ok",
     "timestamp": 1648714478179,
     "user": {
      "displayName": "Ignacio Soteras",
      "userId": "02050793736257155229"
     },
     "user_tz": -120
    },
    "id": "O4o5yfX7sona",
    "outputId": "d289dfe0-08c4-4374-c6d0-36efdc1f19da"
   },
   "outputs": [
    {
     "name": "stderr",
     "output_type": "stream",
     "text": [
      "/home/peilnix/.local/lib/python3.10/site-packages/sklearn/utils/deprecation.py:87: FutureWarning: Function load_boston is deprecated; `load_boston` is deprecated in 1.0 and will be removed in 1.2.\n",
      "\n",
      "    The Boston housing prices dataset has an ethical problem. You can refer to\n",
      "    the documentation of this function for further details.\n",
      "\n",
      "    The scikit-learn maintainers therefore strongly discourage the use of this\n",
      "    dataset unless the purpose of the code is to study and educate about\n",
      "    ethical issues in data science and machine learning.\n",
      "\n",
      "    In this special case, you can fetch the dataset from the original\n",
      "    source::\n",
      "\n",
      "        import pandas as pd\n",
      "        import numpy as np\n",
      "\n",
      "        data_url = \"http://lib.stat.cmu.edu/datasets/boston\"\n",
      "        raw_df = pd.read_csv(data_url, sep=\"\\s+\", skiprows=22, header=None)\n",
      "        data = np.hstack([raw_df.values[::2, :], raw_df.values[1::2, :2]])\n",
      "        target = raw_df.values[1::2, 2]\n",
      "\n",
      "    Alternative datasets include the California housing dataset (i.e.\n",
      "    :func:`~sklearn.datasets.fetch_california_housing`) and the Ames housing\n",
      "    dataset. You can load the datasets as follows::\n",
      "\n",
      "        from sklearn.datasets import fetch_california_housing\n",
      "        housing = fetch_california_housing()\n",
      "\n",
      "    for the California housing dataset and::\n",
      "\n",
      "        from sklearn.datasets import fetch_openml\n",
      "        housing = fetch_openml(name=\"house_prices\", as_frame=True)\n",
      "\n",
      "    for the Ames housing dataset.\n",
      "  warnings.warn(msg, category=FutureWarning)\n"
     ]
    },
    {
     "data": {
      "text/html": [
       "<div>\n",
       "<style scoped>\n",
       "    .dataframe tbody tr th:only-of-type {\n",
       "        vertical-align: middle;\n",
       "    }\n",
       "\n",
       "    .dataframe tbody tr th {\n",
       "        vertical-align: top;\n",
       "    }\n",
       "\n",
       "    .dataframe thead th {\n",
       "        text-align: right;\n",
       "    }\n",
       "</style>\n",
       "<table border=\"1\" class=\"dataframe\">\n",
       "  <thead>\n",
       "    <tr style=\"text-align: right;\">\n",
       "      <th></th>\n",
       "      <th>CRIM</th>\n",
       "      <th>ZN</th>\n",
       "      <th>INDUS</th>\n",
       "      <th>CHAS</th>\n",
       "      <th>NOX</th>\n",
       "      <th>RM</th>\n",
       "      <th>AGE</th>\n",
       "      <th>DIS</th>\n",
       "      <th>RAD</th>\n",
       "      <th>TAX</th>\n",
       "      <th>PTRATIO</th>\n",
       "      <th>B</th>\n",
       "      <th>LSTAT</th>\n",
       "    </tr>\n",
       "  </thead>\n",
       "  <tbody>\n",
       "    <tr>\n",
       "      <th>0</th>\n",
       "      <td>0.00632</td>\n",
       "      <td>18.0</td>\n",
       "      <td>2.31</td>\n",
       "      <td>0.0</td>\n",
       "      <td>0.538</td>\n",
       "      <td>6.575</td>\n",
       "      <td>65.2</td>\n",
       "      <td>4.0900</td>\n",
       "      <td>1.0</td>\n",
       "      <td>296.0</td>\n",
       "      <td>15.3</td>\n",
       "      <td>396.90</td>\n",
       "      <td>4.98</td>\n",
       "    </tr>\n",
       "    <tr>\n",
       "      <th>1</th>\n",
       "      <td>0.02731</td>\n",
       "      <td>0.0</td>\n",
       "      <td>7.07</td>\n",
       "      <td>0.0</td>\n",
       "      <td>0.469</td>\n",
       "      <td>6.421</td>\n",
       "      <td>78.9</td>\n",
       "      <td>4.9671</td>\n",
       "      <td>2.0</td>\n",
       "      <td>242.0</td>\n",
       "      <td>17.8</td>\n",
       "      <td>396.90</td>\n",
       "      <td>9.14</td>\n",
       "    </tr>\n",
       "    <tr>\n",
       "      <th>2</th>\n",
       "      <td>0.02729</td>\n",
       "      <td>0.0</td>\n",
       "      <td>7.07</td>\n",
       "      <td>0.0</td>\n",
       "      <td>0.469</td>\n",
       "      <td>7.185</td>\n",
       "      <td>61.1</td>\n",
       "      <td>4.9671</td>\n",
       "      <td>2.0</td>\n",
       "      <td>242.0</td>\n",
       "      <td>17.8</td>\n",
       "      <td>392.83</td>\n",
       "      <td>4.03</td>\n",
       "    </tr>\n",
       "    <tr>\n",
       "      <th>3</th>\n",
       "      <td>0.03237</td>\n",
       "      <td>0.0</td>\n",
       "      <td>2.18</td>\n",
       "      <td>0.0</td>\n",
       "      <td>0.458</td>\n",
       "      <td>6.998</td>\n",
       "      <td>45.8</td>\n",
       "      <td>6.0622</td>\n",
       "      <td>3.0</td>\n",
       "      <td>222.0</td>\n",
       "      <td>18.7</td>\n",
       "      <td>394.63</td>\n",
       "      <td>2.94</td>\n",
       "    </tr>\n",
       "    <tr>\n",
       "      <th>4</th>\n",
       "      <td>0.06905</td>\n",
       "      <td>0.0</td>\n",
       "      <td>2.18</td>\n",
       "      <td>0.0</td>\n",
       "      <td>0.458</td>\n",
       "      <td>7.147</td>\n",
       "      <td>54.2</td>\n",
       "      <td>6.0622</td>\n",
       "      <td>3.0</td>\n",
       "      <td>222.0</td>\n",
       "      <td>18.7</td>\n",
       "      <td>396.90</td>\n",
       "      <td>5.33</td>\n",
       "    </tr>\n",
       "  </tbody>\n",
       "</table>\n",
       "</div>"
      ],
      "text/plain": [
       "      CRIM    ZN  INDUS  CHAS    NOX     RM   AGE     DIS  RAD    TAX  \\\n",
       "0  0.00632  18.0   2.31   0.0  0.538  6.575  65.2  4.0900  1.0  296.0   \n",
       "1  0.02731   0.0   7.07   0.0  0.469  6.421  78.9  4.9671  2.0  242.0   \n",
       "2  0.02729   0.0   7.07   0.0  0.469  7.185  61.1  4.9671  2.0  242.0   \n",
       "3  0.03237   0.0   2.18   0.0  0.458  6.998  45.8  6.0622  3.0  222.0   \n",
       "4  0.06905   0.0   2.18   0.0  0.458  7.147  54.2  6.0622  3.0  222.0   \n",
       "\n",
       "   PTRATIO       B  LSTAT  \n",
       "0     15.3  396.90   4.98  \n",
       "1     17.8  396.90   9.14  \n",
       "2     17.8  392.83   4.03  \n",
       "3     18.7  394.63   2.94  \n",
       "4     18.7  396.90   5.33  "
      ]
     },
     "metadata": {},
     "output_type": "display_data"
    },
    {
     "data": {
      "text/html": [
       "<div>\n",
       "<style scoped>\n",
       "    .dataframe tbody tr th:only-of-type {\n",
       "        vertical-align: middle;\n",
       "    }\n",
       "\n",
       "    .dataframe tbody tr th {\n",
       "        vertical-align: top;\n",
       "    }\n",
       "\n",
       "    .dataframe thead th {\n",
       "        text-align: right;\n",
       "    }\n",
       "</style>\n",
       "<table border=\"1\" class=\"dataframe\">\n",
       "  <thead>\n",
       "    <tr style=\"text-align: right;\">\n",
       "      <th></th>\n",
       "      <th>labels</th>\n",
       "    </tr>\n",
       "  </thead>\n",
       "  <tbody>\n",
       "    <tr>\n",
       "      <th>0</th>\n",
       "      <td>24.0</td>\n",
       "    </tr>\n",
       "    <tr>\n",
       "      <th>1</th>\n",
       "      <td>21.6</td>\n",
       "    </tr>\n",
       "    <tr>\n",
       "      <th>2</th>\n",
       "      <td>34.7</td>\n",
       "    </tr>\n",
       "    <tr>\n",
       "      <th>3</th>\n",
       "      <td>33.4</td>\n",
       "    </tr>\n",
       "    <tr>\n",
       "      <th>4</th>\n",
       "      <td>36.2</td>\n",
       "    </tr>\n",
       "  </tbody>\n",
       "</table>\n",
       "</div>"
      ],
      "text/plain": [
       "   labels\n",
       "0    24.0\n",
       "1    21.6\n",
       "2    34.7\n",
       "3    33.4\n",
       "4    36.2"
      ]
     },
     "metadata": {},
     "output_type": "display_data"
    }
   ],
   "source": [
    "boston = load_boston()\n",
    "features = pd.DataFrame(boston['data'], columns = boston['feature_names'])\n",
    "labels = pd.DataFrame(boston['target'], columns = ['labels'])\n",
    "display(features.head())\n",
    "display(labels.head())"
   ]
  },
  {
   "cell_type": "markdown",
   "metadata": {
    "id": "jr--ajB2uhkr"
   },
   "source": [
    "## Training - test split"
   ]
  },
  {
   "cell_type": "code",
   "execution_count": 4,
   "metadata": {
    "executionInfo": {
     "elapsed": 258,
     "status": "ok",
     "timestamp": 1648714535218,
     "user": {
      "displayName": "Ignacio Soteras",
      "userId": "02050793736257155229"
     },
     "user_tz": -120
    },
    "id": "U_wxTi9mulck"
   },
   "outputs": [],
   "source": [
    "from sklearn.model_selection import train_test_split\n",
    "\n",
    "X = features\n",
    "y = labels\n",
    "\n",
    "X_train, X_test, y_train, y_test = train_test_split(X, y, test_size=0.25, random_state=0)\n",
    "\n",
    "X_train = pd.DataFrame(X_train, columns=X.columns)\n",
    "X_test = pd.DataFrame(X_test, columns=X.columns)"
   ]
  },
  {
   "cell_type": "markdown",
   "metadata": {
    "id": "xoBLhZetxA9R"
   },
   "source": [
    "## Gradient boosting"
   ]
  },
  {
   "cell_type": "code",
   "execution_count": 5,
   "metadata": {
    "colab": {
     "base_uri": "https://localhost:8080/"
    },
    "executionInfo": {
     "elapsed": 410,
     "status": "ok",
     "timestamp": 1648714602776,
     "user": {
      "displayName": "Ignacio Soteras",
      "userId": "02050793736257155229"
     },
     "user_tz": -120
    },
    "id": "Z27i3FuYrMvA",
    "outputId": "a9a80534-037d-4f8a-f6ae-c4db15c26db3"
   },
   "outputs": [
    {
     "name": "stdout",
     "output_type": "stream",
     "text": [
      "The R2 of the model in the TRAIN set is: 0.98\n",
      "The R2 of the model in the TEST  set is: 0.82\n"
     ]
    },
    {
     "name": "stderr",
     "output_type": "stream",
     "text": [
      "/home/peilnix/.local/lib/python3.10/site-packages/sklearn/ensemble/_gb.py:570: DataConversionWarning: A column-vector y was passed when a 1d array was expected. Please change the shape of y to (n_samples, ), for example using ravel().\n",
      "  y = column_or_1d(y, warn=True)\n"
     ]
    }
   ],
   "source": [
    "from sklearn.ensemble import GradientBoostingRegressor\n",
    "\n",
    "# Uses decision trees, so no need to scale (but you can)\n",
    "gb = GradientBoostingRegressor()\n",
    "\n",
    "gb.fit(X_train,y_train)\n",
    "\n",
    "y_train_pred = gb.predict(X_train)\n",
    "y_test_pred  = gb.predict(X_test)\n",
    "\n",
    "print(\"The R2 of the model in the TRAIN set is: {:.2f}\".format(gb.score(X_train,y_train)))\n",
    "print(\"The R2 of the model in the TEST  set is: {:.2f}\".format(gb.score(X_test,y_test)))"
   ]
  },
  {
   "cell_type": "markdown",
   "metadata": {
    "id": "M3lT50elskGU"
   },
   "source": [
    "## Playing with the parameters\n",
    "\n"
   ]
  },
  {
   "cell_type": "code",
   "execution_count": 6,
   "metadata": {
    "colab": {
     "base_uri": "https://localhost:8080/"
    },
    "executionInfo": {
     "elapsed": 7260,
     "status": "ok",
     "timestamp": 1648714765730,
     "user": {
      "displayName": "Ignacio Soteras",
      "userId": "02050793736257155229"
     },
     "user_tz": -120
    },
    "id": "P6J6eVlAxFlP",
    "outputId": "eeeae54f-3852-4b21-9462-6f81d4abe683"
   },
   "outputs": [
    {
     "name": "stdout",
     "output_type": "stream",
     "text": [
      "Fitting 5 folds for each of 24 candidates, totalling 120 fits\n"
     ]
    },
    {
     "name": "stderr",
     "output_type": "stream",
     "text": [
      "/home/peilnix/.local/lib/python3.10/site-packages/sklearn/ensemble/_gb.py:570: DataConversionWarning: A column-vector y was passed when a 1d array was expected. Please change the shape of y to (n_samples, ), for example using ravel().\n",
      "  y = column_or_1d(y, warn=True)\n",
      "/home/peilnix/.local/lib/python3.10/site-packages/sklearn/ensemble/_gb.py:570: DataConversionWarning: A column-vector y was passed when a 1d array was expected. Please change the shape of y to (n_samples, ), for example using ravel().\n",
      "  y = column_or_1d(y, warn=True)\n",
      "/home/peilnix/.local/lib/python3.10/site-packages/sklearn/ensemble/_gb.py:570: DataConversionWarning: A column-vector y was passed when a 1d array was expected. Please change the shape of y to (n_samples, ), for example using ravel().\n",
      "  y = column_or_1d(y, warn=True)\n",
      "/home/peilnix/.local/lib/python3.10/site-packages/sklearn/ensemble/_gb.py:570: DataConversionWarning: A column-vector y was passed when a 1d array was expected. Please change the shape of y to (n_samples, ), for example using ravel().\n",
      "  y = column_or_1d(y, warn=True)\n",
      "/home/peilnix/.local/lib/python3.10/site-packages/sklearn/ensemble/_gb.py:570: DataConversionWarning: A column-vector y was passed when a 1d array was expected. Please change the shape of y to (n_samples, ), for example using ravel().\n",
      "  y = column_or_1d(y, warn=True)\n",
      "/home/peilnix/.local/lib/python3.10/site-packages/sklearn/ensemble/_gb.py:570: DataConversionWarning: A column-vector y was passed when a 1d array was expected. Please change the shape of y to (n_samples, ), for example using ravel().\n",
      "  y = column_or_1d(y, warn=True)\n",
      "/home/peilnix/.local/lib/python3.10/site-packages/sklearn/ensemble/_gb.py:570: DataConversionWarning: A column-vector y was passed when a 1d array was expected. Please change the shape of y to (n_samples, ), for example using ravel().\n",
      "  y = column_or_1d(y, warn=True)\n",
      "/home/peilnix/.local/lib/python3.10/site-packages/sklearn/ensemble/_gb.py:570: DataConversionWarning: A column-vector y was passed when a 1d array was expected. Please change the shape of y to (n_samples, ), for example using ravel().\n",
      "  y = column_or_1d(y, warn=True)\n",
      "/home/peilnix/.local/lib/python3.10/site-packages/sklearn/ensemble/_gb.py:570: DataConversionWarning: A column-vector y was passed when a 1d array was expected. Please change the shape of y to (n_samples, ), for example using ravel().\n",
      "  y = column_or_1d(y, warn=True)\n",
      "/home/peilnix/.local/lib/python3.10/site-packages/sklearn/ensemble/_gb.py:570: DataConversionWarning: A column-vector y was passed when a 1d array was expected. Please change the shape of y to (n_samples, ), for example using ravel().\n",
      "  y = column_or_1d(y, warn=True)\n",
      "/home/peilnix/.local/lib/python3.10/site-packages/sklearn/ensemble/_gb.py:570: DataConversionWarning: A column-vector y was passed when a 1d array was expected. Please change the shape of y to (n_samples, ), for example using ravel().\n",
      "  y = column_or_1d(y, warn=True)\n",
      "/home/peilnix/.local/lib/python3.10/site-packages/sklearn/ensemble/_gb.py:570: DataConversionWarning: A column-vector y was passed when a 1d array was expected. Please change the shape of y to (n_samples, ), for example using ravel().\n",
      "  y = column_or_1d(y, warn=True)\n",
      "/home/peilnix/.local/lib/python3.10/site-packages/sklearn/ensemble/_gb.py:570: DataConversionWarning: A column-vector y was passed when a 1d array was expected. Please change the shape of y to (n_samples, ), for example using ravel().\n",
      "  y = column_or_1d(y, warn=True)\n",
      "/home/peilnix/.local/lib/python3.10/site-packages/sklearn/ensemble/_gb.py:570: DataConversionWarning: A column-vector y was passed when a 1d array was expected. Please change the shape of y to (n_samples, ), for example using ravel().\n",
      "  y = column_or_1d(y, warn=True)\n",
      "/home/peilnix/.local/lib/python3.10/site-packages/sklearn/ensemble/_gb.py:570: DataConversionWarning: A column-vector y was passed when a 1d array was expected. Please change the shape of y to (n_samples, ), for example using ravel().\n",
      "  y = column_or_1d(y, warn=True)\n",
      "/home/peilnix/.local/lib/python3.10/site-packages/sklearn/ensemble/_gb.py:570: DataConversionWarning: A column-vector y was passed when a 1d array was expected. Please change the shape of y to (n_samples, ), for example using ravel().\n",
      "  y = column_or_1d(y, warn=True)\n",
      "/home/peilnix/.local/lib/python3.10/site-packages/sklearn/ensemble/_gb.py:570: DataConversionWarning: A column-vector y was passed when a 1d array was expected. Please change the shape of y to (n_samples, ), for example using ravel().\n",
      "  y = column_or_1d(y, warn=True)\n",
      "/home/peilnix/.local/lib/python3.10/site-packages/sklearn/ensemble/_gb.py:570: DataConversionWarning: A column-vector y was passed when a 1d array was expected. Please change the shape of y to (n_samples, ), for example using ravel().\n",
      "  y = column_or_1d(y, warn=True)\n",
      "/home/peilnix/.local/lib/python3.10/site-packages/sklearn/ensemble/_gb.py:570: DataConversionWarning: A column-vector y was passed when a 1d array was expected. Please change the shape of y to (n_samples, ), for example using ravel().\n",
      "  y = column_or_1d(y, warn=True)\n",
      "/home/peilnix/.local/lib/python3.10/site-packages/sklearn/ensemble/_gb.py:570: DataConversionWarning: A column-vector y was passed when a 1d array was expected. Please change the shape of y to (n_samples, ), for example using ravel().\n",
      "  y = column_or_1d(y, warn=True)\n",
      "/home/peilnix/.local/lib/python3.10/site-packages/sklearn/ensemble/_gb.py:570: DataConversionWarning: A column-vector y was passed when a 1d array was expected. Please change the shape of y to (n_samples, ), for example using ravel().\n",
      "  y = column_or_1d(y, warn=True)\n",
      "/home/peilnix/.local/lib/python3.10/site-packages/sklearn/ensemble/_gb.py:570: DataConversionWarning: A column-vector y was passed when a 1d array was expected. Please change the shape of y to (n_samples, ), for example using ravel().\n",
      "  y = column_or_1d(y, warn=True)\n",
      "/home/peilnix/.local/lib/python3.10/site-packages/sklearn/ensemble/_gb.py:570: DataConversionWarning: A column-vector y was passed when a 1d array was expected. Please change the shape of y to (n_samples, ), for example using ravel().\n",
      "  y = column_or_1d(y, warn=True)\n",
      "/home/peilnix/.local/lib/python3.10/site-packages/sklearn/ensemble/_gb.py:570: DataConversionWarning: A column-vector y was passed when a 1d array was expected. Please change the shape of y to (n_samples, ), for example using ravel().\n",
      "  y = column_or_1d(y, warn=True)\n",
      "/home/peilnix/.local/lib/python3.10/site-packages/sklearn/ensemble/_gb.py:570: DataConversionWarning: A column-vector y was passed when a 1d array was expected. Please change the shape of y to (n_samples, ), for example using ravel().\n",
      "  y = column_or_1d(y, warn=True)\n",
      "/home/peilnix/.local/lib/python3.10/site-packages/sklearn/ensemble/_gb.py:570: DataConversionWarning: A column-vector y was passed when a 1d array was expected. Please change the shape of y to (n_samples, ), for example using ravel().\n",
      "  y = column_or_1d(y, warn=True)\n",
      "/home/peilnix/.local/lib/python3.10/site-packages/sklearn/ensemble/_gb.py:570: DataConversionWarning: A column-vector y was passed when a 1d array was expected. Please change the shape of y to (n_samples, ), for example using ravel().\n",
      "  y = column_or_1d(y, warn=True)\n",
      "/home/peilnix/.local/lib/python3.10/site-packages/sklearn/ensemble/_gb.py:570: DataConversionWarning: A column-vector y was passed when a 1d array was expected. Please change the shape of y to (n_samples, ), for example using ravel().\n",
      "  y = column_or_1d(y, warn=True)\n",
      "/home/peilnix/.local/lib/python3.10/site-packages/sklearn/ensemble/_gb.py:570: DataConversionWarning: A column-vector y was passed when a 1d array was expected. Please change the shape of y to (n_samples, ), for example using ravel().\n",
      "  y = column_or_1d(y, warn=True)\n",
      "/home/peilnix/.local/lib/python3.10/site-packages/sklearn/ensemble/_gb.py:570: DataConversionWarning: A column-vector y was passed when a 1d array was expected. Please change the shape of y to (n_samples, ), for example using ravel().\n",
      "  y = column_or_1d(y, warn=True)\n",
      "/home/peilnix/.local/lib/python3.10/site-packages/sklearn/ensemble/_gb.py:570: DataConversionWarning: A column-vector y was passed when a 1d array was expected. Please change the shape of y to (n_samples, ), for example using ravel().\n",
      "  y = column_or_1d(y, warn=True)\n",
      "/home/peilnix/.local/lib/python3.10/site-packages/sklearn/ensemble/_gb.py:570: DataConversionWarning: A column-vector y was passed when a 1d array was expected. Please change the shape of y to (n_samples, ), for example using ravel().\n",
      "  y = column_or_1d(y, warn=True)\n",
      "/home/peilnix/.local/lib/python3.10/site-packages/sklearn/ensemble/_gb.py:570: DataConversionWarning: A column-vector y was passed when a 1d array was expected. Please change the shape of y to (n_samples, ), for example using ravel().\n",
      "  y = column_or_1d(y, warn=True)\n",
      "/home/peilnix/.local/lib/python3.10/site-packages/sklearn/ensemble/_gb.py:570: DataConversionWarning: A column-vector y was passed when a 1d array was expected. Please change the shape of y to (n_samples, ), for example using ravel().\n",
      "  y = column_or_1d(y, warn=True)\n",
      "/home/peilnix/.local/lib/python3.10/site-packages/sklearn/ensemble/_gb.py:570: DataConversionWarning: A column-vector y was passed when a 1d array was expected. Please change the shape of y to (n_samples, ), for example using ravel().\n",
      "  y = column_or_1d(y, warn=True)\n",
      "/home/peilnix/.local/lib/python3.10/site-packages/sklearn/ensemble/_gb.py:570: DataConversionWarning: A column-vector y was passed when a 1d array was expected. Please change the shape of y to (n_samples, ), for example using ravel().\n",
      "  y = column_or_1d(y, warn=True)\n"
     ]
    },
    {
     "name": "stderr",
     "output_type": "stream",
     "text": [
      "/home/peilnix/.local/lib/python3.10/site-packages/sklearn/ensemble/_gb.py:570: DataConversionWarning: A column-vector y was passed when a 1d array was expected. Please change the shape of y to (n_samples, ), for example using ravel().\n",
      "  y = column_or_1d(y, warn=True)\n",
      "/home/peilnix/.local/lib/python3.10/site-packages/sklearn/ensemble/_gb.py:570: DataConversionWarning: A column-vector y was passed when a 1d array was expected. Please change the shape of y to (n_samples, ), for example using ravel().\n",
      "  y = column_or_1d(y, warn=True)\n",
      "/home/peilnix/.local/lib/python3.10/site-packages/sklearn/ensemble/_gb.py:570: DataConversionWarning: A column-vector y was passed when a 1d array was expected. Please change the shape of y to (n_samples, ), for example using ravel().\n",
      "  y = column_or_1d(y, warn=True)\n",
      "/home/peilnix/.local/lib/python3.10/site-packages/sklearn/ensemble/_gb.py:570: DataConversionWarning: A column-vector y was passed when a 1d array was expected. Please change the shape of y to (n_samples, ), for example using ravel().\n",
      "  y = column_or_1d(y, warn=True)\n",
      "/home/peilnix/.local/lib/python3.10/site-packages/sklearn/ensemble/_gb.py:570: DataConversionWarning: A column-vector y was passed when a 1d array was expected. Please change the shape of y to (n_samples, ), for example using ravel().\n",
      "  y = column_or_1d(y, warn=True)\n",
      "/home/peilnix/.local/lib/python3.10/site-packages/sklearn/ensemble/_gb.py:570: DataConversionWarning: A column-vector y was passed when a 1d array was expected. Please change the shape of y to (n_samples, ), for example using ravel().\n",
      "  y = column_or_1d(y, warn=True)\n",
      "/home/peilnix/.local/lib/python3.10/site-packages/sklearn/ensemble/_gb.py:570: DataConversionWarning: A column-vector y was passed when a 1d array was expected. Please change the shape of y to (n_samples, ), for example using ravel().\n",
      "  y = column_or_1d(y, warn=True)\n",
      "/home/peilnix/.local/lib/python3.10/site-packages/sklearn/ensemble/_gb.py:570: DataConversionWarning: A column-vector y was passed when a 1d array was expected. Please change the shape of y to (n_samples, ), for example using ravel().\n",
      "  y = column_or_1d(y, warn=True)\n",
      "/home/peilnix/.local/lib/python3.10/site-packages/sklearn/ensemble/_gb.py:570: DataConversionWarning: A column-vector y was passed when a 1d array was expected. Please change the shape of y to (n_samples, ), for example using ravel().\n",
      "  y = column_or_1d(y, warn=True)\n",
      "/home/peilnix/.local/lib/python3.10/site-packages/sklearn/ensemble/_gb.py:570: DataConversionWarning: A column-vector y was passed when a 1d array was expected. Please change the shape of y to (n_samples, ), for example using ravel().\n",
      "  y = column_or_1d(y, warn=True)\n",
      "/home/peilnix/.local/lib/python3.10/site-packages/sklearn/ensemble/_gb.py:570: DataConversionWarning: A column-vector y was passed when a 1d array was expected. Please change the shape of y to (n_samples, ), for example using ravel().\n",
      "  y = column_or_1d(y, warn=True)\n",
      "/home/peilnix/.local/lib/python3.10/site-packages/sklearn/ensemble/_gb.py:570: DataConversionWarning: A column-vector y was passed when a 1d array was expected. Please change the shape of y to (n_samples, ), for example using ravel().\n",
      "  y = column_or_1d(y, warn=True)\n",
      "/home/peilnix/.local/lib/python3.10/site-packages/sklearn/ensemble/_gb.py:570: DataConversionWarning: A column-vector y was passed when a 1d array was expected. Please change the shape of y to (n_samples, ), for example using ravel().\n",
      "  y = column_or_1d(y, warn=True)\n",
      "/home/peilnix/.local/lib/python3.10/site-packages/sklearn/ensemble/_gb.py:570: DataConversionWarning: A column-vector y was passed when a 1d array was expected. Please change the shape of y to (n_samples, ), for example using ravel().\n",
      "  y = column_or_1d(y, warn=True)\n",
      "/home/peilnix/.local/lib/python3.10/site-packages/sklearn/ensemble/_gb.py:570: DataConversionWarning: A column-vector y was passed when a 1d array was expected. Please change the shape of y to (n_samples, ), for example using ravel().\n",
      "  y = column_or_1d(y, warn=True)\n",
      "/home/peilnix/.local/lib/python3.10/site-packages/sklearn/ensemble/_gb.py:570: DataConversionWarning: A column-vector y was passed when a 1d array was expected. Please change the shape of y to (n_samples, ), for example using ravel().\n",
      "  y = column_or_1d(y, warn=True)\n",
      "/home/peilnix/.local/lib/python3.10/site-packages/sklearn/ensemble/_gb.py:570: DataConversionWarning: A column-vector y was passed when a 1d array was expected. Please change the shape of y to (n_samples, ), for example using ravel().\n",
      "  y = column_or_1d(y, warn=True)\n",
      "/home/peilnix/.local/lib/python3.10/site-packages/sklearn/ensemble/_gb.py:570: DataConversionWarning: A column-vector y was passed when a 1d array was expected. Please change the shape of y to (n_samples, ), for example using ravel().\n",
      "  y = column_or_1d(y, warn=True)\n",
      "/home/peilnix/.local/lib/python3.10/site-packages/sklearn/ensemble/_gb.py:570: DataConversionWarning: A column-vector y was passed when a 1d array was expected. Please change the shape of y to (n_samples, ), for example using ravel().\n",
      "  y = column_or_1d(y, warn=True)\n",
      "/home/peilnix/.local/lib/python3.10/site-packages/sklearn/ensemble/_gb.py:570: DataConversionWarning: A column-vector y was passed when a 1d array was expected. Please change the shape of y to (n_samples, ), for example using ravel().\n",
      "  y = column_or_1d(y, warn=True)\n",
      "/home/peilnix/.local/lib/python3.10/site-packages/sklearn/ensemble/_gb.py:570: DataConversionWarning: A column-vector y was passed when a 1d array was expected. Please change the shape of y to (n_samples, ), for example using ravel().\n",
      "  y = column_or_1d(y, warn=True)\n",
      "/home/peilnix/.local/lib/python3.10/site-packages/sklearn/ensemble/_gb.py:570: DataConversionWarning: A column-vector y was passed when a 1d array was expected. Please change the shape of y to (n_samples, ), for example using ravel().\n",
      "  y = column_or_1d(y, warn=True)\n",
      "/home/peilnix/.local/lib/python3.10/site-packages/sklearn/ensemble/_gb.py:570: DataConversionWarning: A column-vector y was passed when a 1d array was expected. Please change the shape of y to (n_samples, ), for example using ravel().\n",
      "  y = column_or_1d(y, warn=True)\n",
      "/home/peilnix/.local/lib/python3.10/site-packages/sklearn/ensemble/_gb.py:570: DataConversionWarning: A column-vector y was passed when a 1d array was expected. Please change the shape of y to (n_samples, ), for example using ravel().\n",
      "  y = column_or_1d(y, warn=True)\n",
      "/home/peilnix/.local/lib/python3.10/site-packages/sklearn/ensemble/_gb.py:570: DataConversionWarning: A column-vector y was passed when a 1d array was expected. Please change the shape of y to (n_samples, ), for example using ravel().\n",
      "  y = column_or_1d(y, warn=True)\n",
      "/home/peilnix/.local/lib/python3.10/site-packages/sklearn/ensemble/_gb.py:570: DataConversionWarning: A column-vector y was passed when a 1d array was expected. Please change the shape of y to (n_samples, ), for example using ravel().\n",
      "  y = column_or_1d(y, warn=True)\n",
      "/home/peilnix/.local/lib/python3.10/site-packages/sklearn/ensemble/_gb.py:570: DataConversionWarning: A column-vector y was passed when a 1d array was expected. Please change the shape of y to (n_samples, ), for example using ravel().\n",
      "  y = column_or_1d(y, warn=True)\n",
      "/home/peilnix/.local/lib/python3.10/site-packages/sklearn/ensemble/_gb.py:570: DataConversionWarning: A column-vector y was passed when a 1d array was expected. Please change the shape of y to (n_samples, ), for example using ravel().\n",
      "  y = column_or_1d(y, warn=True)\n",
      "/home/peilnix/.local/lib/python3.10/site-packages/sklearn/ensemble/_gb.py:570: DataConversionWarning: A column-vector y was passed when a 1d array was expected. Please change the shape of y to (n_samples, ), for example using ravel().\n",
      "  y = column_or_1d(y, warn=True)\n",
      "/home/peilnix/.local/lib/python3.10/site-packages/sklearn/ensemble/_gb.py:570: DataConversionWarning: A column-vector y was passed when a 1d array was expected. Please change the shape of y to (n_samples, ), for example using ravel().\n",
      "  y = column_or_1d(y, warn=True)\n",
      "/home/peilnix/.local/lib/python3.10/site-packages/sklearn/ensemble/_gb.py:570: DataConversionWarning: A column-vector y was passed when a 1d array was expected. Please change the shape of y to (n_samples, ), for example using ravel().\n",
      "  y = column_or_1d(y, warn=True)\n",
      "/home/peilnix/.local/lib/python3.10/site-packages/sklearn/ensemble/_gb.py:570: DataConversionWarning: A column-vector y was passed when a 1d array was expected. Please change the shape of y to (n_samples, ), for example using ravel().\n",
      "  y = column_or_1d(y, warn=True)\n",
      "/home/peilnix/.local/lib/python3.10/site-packages/sklearn/ensemble/_gb.py:570: DataConversionWarning: A column-vector y was passed when a 1d array was expected. Please change the shape of y to (n_samples, ), for example using ravel().\n",
      "  y = column_or_1d(y, warn=True)\n",
      "/home/peilnix/.local/lib/python3.10/site-packages/sklearn/ensemble/_gb.py:570: DataConversionWarning: A column-vector y was passed when a 1d array was expected. Please change the shape of y to (n_samples, ), for example using ravel().\n",
      "  y = column_or_1d(y, warn=True)\n",
      "/home/peilnix/.local/lib/python3.10/site-packages/sklearn/ensemble/_gb.py:570: DataConversionWarning: A column-vector y was passed when a 1d array was expected. Please change the shape of y to (n_samples, ), for example using ravel().\n",
      "  y = column_or_1d(y, warn=True)\n"
     ]
    },
    {
     "name": "stderr",
     "output_type": "stream",
     "text": [
      "/home/peilnix/.local/lib/python3.10/site-packages/sklearn/ensemble/_gb.py:570: DataConversionWarning: A column-vector y was passed when a 1d array was expected. Please change the shape of y to (n_samples, ), for example using ravel().\n",
      "  y = column_or_1d(y, warn=True)\n",
      "/home/peilnix/.local/lib/python3.10/site-packages/sklearn/ensemble/_gb.py:570: DataConversionWarning: A column-vector y was passed when a 1d array was expected. Please change the shape of y to (n_samples, ), for example using ravel().\n",
      "  y = column_or_1d(y, warn=True)\n",
      "/home/peilnix/.local/lib/python3.10/site-packages/sklearn/ensemble/_gb.py:570: DataConversionWarning: A column-vector y was passed when a 1d array was expected. Please change the shape of y to (n_samples, ), for example using ravel().\n",
      "  y = column_or_1d(y, warn=True)\n",
      "/home/peilnix/.local/lib/python3.10/site-packages/sklearn/ensemble/_gb.py:570: DataConversionWarning: A column-vector y was passed when a 1d array was expected. Please change the shape of y to (n_samples, ), for example using ravel().\n",
      "  y = column_or_1d(y, warn=True)\n",
      "/home/peilnix/.local/lib/python3.10/site-packages/sklearn/ensemble/_gb.py:570: DataConversionWarning: A column-vector y was passed when a 1d array was expected. Please change the shape of y to (n_samples, ), for example using ravel().\n",
      "  y = column_or_1d(y, warn=True)\n",
      "/home/peilnix/.local/lib/python3.10/site-packages/sklearn/ensemble/_gb.py:570: DataConversionWarning: A column-vector y was passed when a 1d array was expected. Please change the shape of y to (n_samples, ), for example using ravel().\n",
      "  y = column_or_1d(y, warn=True)\n",
      "/home/peilnix/.local/lib/python3.10/site-packages/sklearn/ensemble/_gb.py:570: DataConversionWarning: A column-vector y was passed when a 1d array was expected. Please change the shape of y to (n_samples, ), for example using ravel().\n",
      "  y = column_or_1d(y, warn=True)\n",
      "/home/peilnix/.local/lib/python3.10/site-packages/sklearn/ensemble/_gb.py:570: DataConversionWarning: A column-vector y was passed when a 1d array was expected. Please change the shape of y to (n_samples, ), for example using ravel().\n",
      "  y = column_or_1d(y, warn=True)\n",
      "/home/peilnix/.local/lib/python3.10/site-packages/sklearn/ensemble/_gb.py:570: DataConversionWarning: A column-vector y was passed when a 1d array was expected. Please change the shape of y to (n_samples, ), for example using ravel().\n",
      "  y = column_or_1d(y, warn=True)\n",
      "/home/peilnix/.local/lib/python3.10/site-packages/sklearn/ensemble/_gb.py:570: DataConversionWarning: A column-vector y was passed when a 1d array was expected. Please change the shape of y to (n_samples, ), for example using ravel().\n",
      "  y = column_or_1d(y, warn=True)\n",
      "/home/peilnix/.local/lib/python3.10/site-packages/sklearn/ensemble/_gb.py:570: DataConversionWarning: A column-vector y was passed when a 1d array was expected. Please change the shape of y to (n_samples, ), for example using ravel().\n",
      "  y = column_or_1d(y, warn=True)\n",
      "/home/peilnix/.local/lib/python3.10/site-packages/sklearn/ensemble/_gb.py:570: DataConversionWarning: A column-vector y was passed when a 1d array was expected. Please change the shape of y to (n_samples, ), for example using ravel().\n",
      "  y = column_or_1d(y, warn=True)\n",
      "/home/peilnix/.local/lib/python3.10/site-packages/sklearn/ensemble/_gb.py:570: DataConversionWarning: A column-vector y was passed when a 1d array was expected. Please change the shape of y to (n_samples, ), for example using ravel().\n",
      "  y = column_or_1d(y, warn=True)\n",
      "/home/peilnix/.local/lib/python3.10/site-packages/sklearn/ensemble/_gb.py:570: DataConversionWarning: A column-vector y was passed when a 1d array was expected. Please change the shape of y to (n_samples, ), for example using ravel().\n",
      "  y = column_or_1d(y, warn=True)\n",
      "/home/peilnix/.local/lib/python3.10/site-packages/sklearn/ensemble/_gb.py:570: DataConversionWarning: A column-vector y was passed when a 1d array was expected. Please change the shape of y to (n_samples, ), for example using ravel().\n",
      "  y = column_or_1d(y, warn=True)\n",
      "/home/peilnix/.local/lib/python3.10/site-packages/sklearn/ensemble/_gb.py:570: DataConversionWarning: A column-vector y was passed when a 1d array was expected. Please change the shape of y to (n_samples, ), for example using ravel().\n",
      "  y = column_or_1d(y, warn=True)\n",
      "/home/peilnix/.local/lib/python3.10/site-packages/sklearn/ensemble/_gb.py:570: DataConversionWarning: A column-vector y was passed when a 1d array was expected. Please change the shape of y to (n_samples, ), for example using ravel().\n",
      "  y = column_or_1d(y, warn=True)\n",
      "/home/peilnix/.local/lib/python3.10/site-packages/sklearn/ensemble/_gb.py:570: DataConversionWarning: A column-vector y was passed when a 1d array was expected. Please change the shape of y to (n_samples, ), for example using ravel().\n",
      "  y = column_or_1d(y, warn=True)\n",
      "/home/peilnix/.local/lib/python3.10/site-packages/sklearn/ensemble/_gb.py:570: DataConversionWarning: A column-vector y was passed when a 1d array was expected. Please change the shape of y to (n_samples, ), for example using ravel().\n",
      "  y = column_or_1d(y, warn=True)\n",
      "/home/peilnix/.local/lib/python3.10/site-packages/sklearn/ensemble/_gb.py:570: DataConversionWarning: A column-vector y was passed when a 1d array was expected. Please change the shape of y to (n_samples, ), for example using ravel().\n",
      "  y = column_or_1d(y, warn=True)\n",
      "/home/peilnix/.local/lib/python3.10/site-packages/sklearn/ensemble/_gb.py:570: DataConversionWarning: A column-vector y was passed when a 1d array was expected. Please change the shape of y to (n_samples, ), for example using ravel().\n",
      "  y = column_or_1d(y, warn=True)\n"
     ]
    },
    {
     "name": "stdout",
     "output_type": "stream",
     "text": [
      "[CV 1/5; 1/24] START max_depth=3, max_features=sqrt, min_samples_leaf=1, min_samples_split=2, n_estimators=50\n",
      "[CV 1/5; 1/24] END max_depth=3, max_features=sqrt, min_samples_leaf=1, min_samples_split=2, n_estimators=50;, score=(train=0.964, test=0.926) total time=   0.1s\n",
      "[CV 5/5; 1/24] START max_depth=3, max_features=sqrt, min_samples_leaf=1, min_samples_split=2, n_estimators=50\n",
      "[CV 5/5; 1/24] END max_depth=3, max_features=sqrt, min_samples_leaf=1, min_samples_split=2, n_estimators=50;, score=(train=0.967, test=0.903) total time=   0.1s\n",
      "[CV 1/5; 2/24] START max_depth=3, max_features=sqrt, min_samples_leaf=1, min_samples_split=2, n_estimators=100\n",
      "[CV 1/5; 2/24] END max_depth=3, max_features=sqrt, min_samples_leaf=1, min_samples_split=2, n_estimators=100;, score=(train=0.983, test=0.934) total time=   0.1s\n",
      "[CV 3/5; 2/24] START max_depth=3, max_features=sqrt, min_samples_leaf=1, min_samples_split=2, n_estimators=100\n",
      "[CV 3/5; 2/24] END max_depth=3, max_features=sqrt, min_samples_leaf=1, min_samples_split=2, n_estimators=100;, score=(train=0.983, test=0.890) total time=   0.2s\n",
      "[CV 1/5; 3/24] START max_depth=3, max_features=sqrt, min_samples_leaf=1, min_samples_split=2, n_estimators=150\n",
      "[CV 1/5; 3/24] END max_depth=3, max_features=sqrt, min_samples_leaf=1, min_samples_split=2, n_estimators=150;, score=(train=0.990, test=0.935) total time=   0.2s\n",
      "[CV 3/5; 3/24] START max_depth=3, max_features=sqrt, min_samples_leaf=1, min_samples_split=2, n_estimators=150\n",
      "[CV 3/5; 3/24] END max_depth=3, max_features=sqrt, min_samples_leaf=1, min_samples_split=2, n_estimators=150;, score=(train=0.990, test=0.893) total time=   0.2s\n",
      "[CV 1/5; 4/24] START max_depth=3, max_features=sqrt, min_samples_leaf=1, min_samples_split=4, n_estimators=50\n",
      "[CV 1/5; 4/24] END max_depth=3, max_features=sqrt, min_samples_leaf=1, min_samples_split=4, n_estimators=50;, score=(train=0.963, test=0.925) total time=   0.1s\n",
      "[CV 2/5; 4/24] START max_depth=3, max_features=sqrt, min_samples_leaf=1, min_samples_split=4, n_estimators=50\n",
      "[CV 2/5; 4/24] END max_depth=3, max_features=sqrt, min_samples_leaf=1, min_samples_split=4, n_estimators=50;, score=(train=0.970, test=0.769) total time=   0.1s\n",
      "[CV 3/5; 4/24] START max_depth=3, max_features=sqrt, min_samples_leaf=1, min_samples_split=4, n_estimators=50\n",
      "[CV 3/5; 4/24] END max_depth=3, max_features=sqrt, min_samples_leaf=1, min_samples_split=4, n_estimators=50;, score=(train=0.964, test=0.884) total time=   0.1s\n",
      "[CV 5/5; 4/24] START max_depth=3, max_features=sqrt, min_samples_leaf=1, min_samples_split=4, n_estimators=50\n",
      "[CV 5/5; 4/24] END max_depth=3, max_features=sqrt, min_samples_leaf=1, min_samples_split=4, n_estimators=50;, score=(train=0.965, test=0.902) total time=   0.1s\n",
      "[CV 2/5; 5/24] START max_depth=3, max_features=sqrt, min_samples_leaf=1, min_samples_split=4, n_estimators=100\n",
      "[CV 2/5; 5/24] END max_depth=3, max_features=sqrt, min_samples_leaf=1, min_samples_split=4, n_estimators=100;, score=(train=0.986, test=0.767) total time=   0.1s\n",
      "[CV 4/5; 5/24] START max_depth=3, max_features=sqrt, min_samples_leaf=1, min_samples_split=4, n_estimators=100\n",
      "[CV 4/5; 5/24] END max_depth=3, max_features=sqrt, min_samples_leaf=1, min_samples_split=4, n_estimators=100;, score=(train=0.982, test=0.843) total time=   0.1s\n",
      "[CV 5/5; 5/24] START max_depth=3, max_features=sqrt, min_samples_leaf=1, min_samples_split=4, n_estimators=100\n",
      "[CV 5/5; 5/24] END max_depth=3, max_features=sqrt, min_samples_leaf=1, min_samples_split=4, n_estimators=100;, score=(train=0.983, test=0.917) total time=   0.1s\n",
      "[CV 2/5; 6/24] START max_depth=3, max_features=sqrt, min_samples_leaf=1, min_samples_split=4, n_estimators=150\n",
      "[CV 2/5; 6/24] END max_depth=3, max_features=sqrt, min_samples_leaf=1, min_samples_split=4, n_estimators=150;, score=(train=0.991, test=0.769) total time=   0.2s\n",
      "[CV 2/5; 7/24] START max_depth=3, max_features=sqrt, min_samples_leaf=2, min_samples_split=2, n_estimators=50\n",
      "[CV 2/5; 7/24] END max_depth=3, max_features=sqrt, min_samples_leaf=2, min_samples_split=2, n_estimators=50;, score=(train=0.969, test=0.773) total time=   0.1s\n",
      "[CV 3/5; 7/24] START max_depth=3, max_features=sqrt, min_samples_leaf=2, min_samples_split=2, n_estimators=50\n",
      "[CV 3/5; 7/24] END max_depth=3, max_features=sqrt, min_samples_leaf=2, min_samples_split=2, n_estimators=50;, score=(train=0.965, test=0.887) total time=   0.1s\n",
      "[CV 1/5; 8/24] START max_depth=3, max_features=sqrt, min_samples_leaf=2, min_samples_split=2, n_estimators=100\n",
      "[CV 1/5; 8/24] END max_depth=3, max_features=sqrt, min_samples_leaf=2, min_samples_split=2, n_estimators=100;, score=(train=0.982, test=0.929) total time=   0.1s\n",
      "[CV 4/5; 8/24] START max_depth=3, max_features=sqrt, min_samples_leaf=2, min_samples_split=2, n_estimators=100\n",
      "[CV 4/5; 8/24] END max_depth=3, max_features=sqrt, min_samples_leaf=2, min_samples_split=2, n_estimators=100;, score=(train=0.980, test=0.843) total time=   0.1s\n",
      "[CV 2/5; 9/24] START max_depth=3, max_features=sqrt, min_samples_leaf=2, min_samples_split=2, n_estimators=150\n",
      "[CV 2/5; 9/24] END max_depth=3, max_features=sqrt, min_samples_leaf=2, min_samples_split=2, n_estimators=150;, score=(train=0.990, test=0.774) total time=   0.2s\n",
      "[CV 1/5; 10/24] START max_depth=3, max_features=sqrt, min_samples_leaf=2, min_samples_split=4, n_estimators=50\n",
      "[CV 1/5; 10/24] END max_depth=3, max_features=sqrt, min_samples_leaf=2, min_samples_split=4, n_estimators=50;, score=(train=0.962, test=0.923) total time=   0.1s\n",
      "[CV 4/5; 10/24] START max_depth=3, max_features=sqrt, min_samples_leaf=2, min_samples_split=4, n_estimators=50\n",
      "[CV 4/5; 10/24] END max_depth=3, max_features=sqrt, min_samples_leaf=2, min_samples_split=4, n_estimators=50;, score=(train=0.961, test=0.823) total time=   0.1s\n",
      "[CV 2/5; 11/24] START max_depth=3, max_features=sqrt, min_samples_leaf=2, min_samples_split=4, n_estimators=100\n",
      "[CV 2/5; 11/24] END max_depth=3, max_features=sqrt, min_samples_leaf=2, min_samples_split=4, n_estimators=100;, score=(train=0.984, test=0.774) total time=   0.1s\n",
      "[CV 1/5; 12/24] START max_depth=3, max_features=sqrt, min_samples_leaf=2, min_samples_split=4, n_estimators=150\n",
      "[CV 1/5; 12/24] END max_depth=3, max_features=sqrt, min_samples_leaf=2, min_samples_split=4, n_estimators=150;, score=(train=0.989, test=0.930) total time=   0.2s\n",
      "[CV 5/5; 12/24] START max_depth=3, max_features=sqrt, min_samples_leaf=2, min_samples_split=4, n_estimators=150\n",
      "[CV 5/5; 12/24] END max_depth=3, max_features=sqrt, min_samples_leaf=2, min_samples_split=4, n_estimators=150;, score=(train=0.989, test=0.918) total time=   0.2s\n",
      "[CV 2/5; 14/24] START max_depth=5, max_features=sqrt, min_samples_leaf=1, min_samples_split=2, n_estimators=100\n",
      "[CV 2/5; 14/24] END max_depth=5, max_features=sqrt, min_samples_leaf=1, min_samples_split=2, n_estimators=100;, score=(train=0.999, test=0.813) total time=   0.2s\n",
      "[CV 1/5; 15/24] START max_depth=5, max_features=sqrt, min_samples_leaf=1, min_samples_split=2, n_estimators=150\n",
      "[CV 1/5; 15/24] END max_depth=5, max_features=sqrt, min_samples_leaf=1, min_samples_split=2, n_estimators=150;, score=(train=1.000, test=0.926) total time=   0.3s\n",
      "[CV 5/5; 15/24] START max_depth=5, max_features=sqrt, min_samples_leaf=1, min_samples_split=2, n_estimators=150\n",
      "[CV 5/5; 15/24] END max_depth=5, max_features=sqrt, min_samples_leaf=1, min_samples_split=2, n_estimators=150;, score=(train=1.000, test=0.923) total time=   0.2s\n",
      "[CV 1/5; 17/24] START max_depth=5, max_features=sqrt, min_samples_leaf=1, min_samples_split=4, n_estimators=100\n",
      "[CV 1/5; 17/24] END max_depth=5, max_features=sqrt, min_samples_leaf=1, min_samples_split=4, n_estimators=100;, score=(train=0.998, test=0.918) total time=   0.1s\n",
      "[CV 5/5; 17/24] START max_depth=5, max_features=sqrt, min_samples_leaf=1, min_samples_split=4, n_estimators=100\n",
      "[CV 5/5; 17/24] END max_depth=5, max_features=sqrt, min_samples_leaf=1, min_samples_split=4, n_estimators=100;, score=(train=0.998, test=0.880) total time=   0.1s\n",
      "[CV 4/5; 18/24] START max_depth=5, max_features=sqrt, min_samples_leaf=1, min_samples_split=4, n_estimators=150\n",
      "[CV 4/5; 18/24] END max_depth=5, max_features=sqrt, min_samples_leaf=1, min_samples_split=4, n_estimators=150;, score=(train=1.000, test=0.850) total time=   0.2s\n"
     ]
    },
    {
     "name": "stderr",
     "output_type": "stream",
     "text": [
      "/home/peilnix/.local/lib/python3.10/site-packages/sklearn/ensemble/_gb.py:570: DataConversionWarning: A column-vector y was passed when a 1d array was expected. Please change the shape of y to (n_samples, ), for example using ravel().\n",
      "  y = column_or_1d(y, warn=True)\n",
      "/home/peilnix/.local/lib/python3.10/site-packages/sklearn/ensemble/_gb.py:570: DataConversionWarning: A column-vector y was passed when a 1d array was expected. Please change the shape of y to (n_samples, ), for example using ravel().\n",
      "  y = column_or_1d(y, warn=True)\n",
      "/home/peilnix/.local/lib/python3.10/site-packages/sklearn/ensemble/_gb.py:570: DataConversionWarning: A column-vector y was passed when a 1d array was expected. Please change the shape of y to (n_samples, ), for example using ravel().\n",
      "  y = column_or_1d(y, warn=True)\n",
      "/home/peilnix/.local/lib/python3.10/site-packages/sklearn/ensemble/_gb.py:570: DataConversionWarning: A column-vector y was passed when a 1d array was expected. Please change the shape of y to (n_samples, ), for example using ravel().\n",
      "  y = column_or_1d(y, warn=True)\n",
      "/home/peilnix/.local/lib/python3.10/site-packages/sklearn/ensemble/_gb.py:570: DataConversionWarning: A column-vector y was passed when a 1d array was expected. Please change the shape of y to (n_samples, ), for example using ravel().\n",
      "  y = column_or_1d(y, warn=True)\n",
      "/home/peilnix/.local/lib/python3.10/site-packages/sklearn/ensemble/_gb.py:570: DataConversionWarning: A column-vector y was passed when a 1d array was expected. Please change the shape of y to (n_samples, ), for example using ravel().\n",
      "  y = column_or_1d(y, warn=True)\n",
      "/home/peilnix/.local/lib/python3.10/site-packages/sklearn/ensemble/_gb.py:570: DataConversionWarning: A column-vector y was passed when a 1d array was expected. Please change the shape of y to (n_samples, ), for example using ravel().\n",
      "  y = column_or_1d(y, warn=True)\n",
      "/home/peilnix/.local/lib/python3.10/site-packages/sklearn/ensemble/_gb.py:570: DataConversionWarning: A column-vector y was passed when a 1d array was expected. Please change the shape of y to (n_samples, ), for example using ravel().\n",
      "  y = column_or_1d(y, warn=True)\n",
      "/home/peilnix/.local/lib/python3.10/site-packages/sklearn/ensemble/_gb.py:570: DataConversionWarning: A column-vector y was passed when a 1d array was expected. Please change the shape of y to (n_samples, ), for example using ravel().\n",
      "  y = column_or_1d(y, warn=True)\n",
      "/home/peilnix/.local/lib/python3.10/site-packages/sklearn/ensemble/_gb.py:570: DataConversionWarning: A column-vector y was passed when a 1d array was expected. Please change the shape of y to (n_samples, ), for example using ravel().\n",
      "  y = column_or_1d(y, warn=True)\n"
     ]
    },
    {
     "name": "stdout",
     "output_type": "stream",
     "text": [
      "[CV 2/5; 1/24] START max_depth=3, max_features=sqrt, min_samples_leaf=1, min_samples_split=2, n_estimators=50\n",
      "[CV 2/5; 1/24] END max_depth=3, max_features=sqrt, min_samples_leaf=1, min_samples_split=2, n_estimators=50;, score=(train=0.970, test=0.761) total time=   0.1s\n",
      "[CV 2/5; 2/24] START max_depth=3, max_features=sqrt, min_samples_leaf=1, min_samples_split=2, n_estimators=100\n",
      "[CV 2/5; 2/24] END max_depth=3, max_features=sqrt, min_samples_leaf=1, min_samples_split=2, n_estimators=100;, score=(train=0.986, test=0.757) total time=   0.1s\n",
      "[CV 4/5; 2/24] START max_depth=3, max_features=sqrt, min_samples_leaf=1, min_samples_split=2, n_estimators=100\n",
      "[CV 4/5; 2/24] END max_depth=3, max_features=sqrt, min_samples_leaf=1, min_samples_split=2, n_estimators=100;, score=(train=0.983, test=0.856) total time=   0.1s\n",
      "[CV 5/5; 2/24] START max_depth=3, max_features=sqrt, min_samples_leaf=1, min_samples_split=2, n_estimators=100\n",
      "[CV 5/5; 2/24] END max_depth=3, max_features=sqrt, min_samples_leaf=1, min_samples_split=2, n_estimators=100;, score=(train=0.983, test=0.914) total time=   0.1s\n",
      "[CV 2/5; 3/24] START max_depth=3, max_features=sqrt, min_samples_leaf=1, min_samples_split=2, n_estimators=150\n",
      "[CV 2/5; 3/24] END max_depth=3, max_features=sqrt, min_samples_leaf=1, min_samples_split=2, n_estimators=150;, score=(train=0.991, test=0.757) total time=   0.2s\n",
      "[CV 4/5; 3/24] START max_depth=3, max_features=sqrt, min_samples_leaf=1, min_samples_split=2, n_estimators=150\n",
      "[CV 4/5; 3/24] END max_depth=3, max_features=sqrt, min_samples_leaf=1, min_samples_split=2, n_estimators=150;, score=(train=0.990, test=0.862) total time=   0.1s\n",
      "[CV 5/5; 3/24] START max_depth=3, max_features=sqrt, min_samples_leaf=1, min_samples_split=2, n_estimators=150\n",
      "[CV 5/5; 3/24] END max_depth=3, max_features=sqrt, min_samples_leaf=1, min_samples_split=2, n_estimators=150;, score=(train=0.989, test=0.916) total time=   0.2s\n",
      "[CV 4/5; 4/24] START max_depth=3, max_features=sqrt, min_samples_leaf=1, min_samples_split=4, n_estimators=50\n",
      "[CV 4/5; 4/24] END max_depth=3, max_features=sqrt, min_samples_leaf=1, min_samples_split=4, n_estimators=50;, score=(train=0.964, test=0.831) total time=   0.1s\n",
      "[CV 1/5; 5/24] START max_depth=3, max_features=sqrt, min_samples_leaf=1, min_samples_split=4, n_estimators=100\n",
      "[CV 1/5; 5/24] END max_depth=3, max_features=sqrt, min_samples_leaf=1, min_samples_split=4, n_estimators=100;, score=(train=0.982, test=0.934) total time=   0.2s\n",
      "[CV 3/5; 5/24] START max_depth=3, max_features=sqrt, min_samples_leaf=1, min_samples_split=4, n_estimators=100\n",
      "[CV 3/5; 5/24] END max_depth=3, max_features=sqrt, min_samples_leaf=1, min_samples_split=4, n_estimators=100;, score=(train=0.983, test=0.888) total time=   0.2s\n",
      "[CV 1/5; 6/24] START max_depth=3, max_features=sqrt, min_samples_leaf=1, min_samples_split=4, n_estimators=150\n",
      "[CV 1/5; 6/24] END max_depth=3, max_features=sqrt, min_samples_leaf=1, min_samples_split=4, n_estimators=150;, score=(train=0.989, test=0.935) total time=   0.3s\n",
      "[CV 1/5; 7/24] START max_depth=3, max_features=sqrt, min_samples_leaf=2, min_samples_split=2, n_estimators=50\n",
      "[CV 1/5; 7/24] END max_depth=3, max_features=sqrt, min_samples_leaf=2, min_samples_split=2, n_estimators=50;, score=(train=0.962, test=0.923) total time=   0.1s\n",
      "[CV 4/5; 7/24] START max_depth=3, max_features=sqrt, min_samples_leaf=2, min_samples_split=2, n_estimators=50\n",
      "[CV 4/5; 7/24] END max_depth=3, max_features=sqrt, min_samples_leaf=2, min_samples_split=2, n_estimators=50;, score=(train=0.961, test=0.823) total time=   0.1s\n",
      "[CV 3/5; 8/24] START max_depth=3, max_features=sqrt, min_samples_leaf=2, min_samples_split=2, n_estimators=100\n",
      "[CV 3/5; 8/24] END max_depth=3, max_features=sqrt, min_samples_leaf=2, min_samples_split=2, n_estimators=100;, score=(train=0.982, test=0.893) total time=   0.2s\n",
      "[CV 5/5; 9/24] START max_depth=3, max_features=sqrt, min_samples_leaf=2, min_samples_split=2, n_estimators=150\n",
      "[CV 5/5; 9/24] END max_depth=3, max_features=sqrt, min_samples_leaf=2, min_samples_split=2, n_estimators=150;, score=(train=0.989, test=0.918) total time=   0.3s\n",
      "[CV 3/5; 11/24] START max_depth=3, max_features=sqrt, min_samples_leaf=2, min_samples_split=4, n_estimators=100\n",
      "[CV 3/5; 11/24] END max_depth=3, max_features=sqrt, min_samples_leaf=2, min_samples_split=4, n_estimators=100;, score=(train=0.982, test=0.893) total time=   0.2s\n",
      "[CV 3/5; 12/24] START max_depth=3, max_features=sqrt, min_samples_leaf=2, min_samples_split=4, n_estimators=150\n",
      "[CV 3/5; 12/24] END max_depth=3, max_features=sqrt, min_samples_leaf=2, min_samples_split=4, n_estimators=150;, score=(train=0.988, test=0.896) total time=   0.2s\n",
      "[CV 2/5; 13/24] START max_depth=5, max_features=sqrt, min_samples_leaf=1, min_samples_split=2, n_estimators=50\n",
      "[CV 2/5; 13/24] END max_depth=5, max_features=sqrt, min_samples_leaf=1, min_samples_split=2, n_estimators=50;, score=(train=0.995, test=0.814) total time=   0.1s\n",
      "[CV 5/5; 13/24] START max_depth=5, max_features=sqrt, min_samples_leaf=1, min_samples_split=2, n_estimators=50\n",
      "[CV 5/5; 13/24] END max_depth=5, max_features=sqrt, min_samples_leaf=1, min_samples_split=2, n_estimators=50;, score=(train=0.994, test=0.919) total time=   0.1s\n",
      "[CV 4/5; 14/24] START max_depth=5, max_features=sqrt, min_samples_leaf=1, min_samples_split=2, n_estimators=100\n",
      "[CV 4/5; 14/24] END max_depth=5, max_features=sqrt, min_samples_leaf=1, min_samples_split=2, n_estimators=100;, score=(train=0.999, test=0.849) total time=   0.1s\n",
      "[CV 3/5; 15/24] START max_depth=5, max_features=sqrt, min_samples_leaf=1, min_samples_split=2, n_estimators=150\n",
      "[CV 3/5; 15/24] END max_depth=5, max_features=sqrt, min_samples_leaf=1, min_samples_split=2, n_estimators=150;, score=(train=1.000, test=0.907) total time=   0.2s\n",
      "[CV 1/5; 16/24] START max_depth=5, max_features=sqrt, min_samples_leaf=1, min_samples_split=4, n_estimators=50\n",
      "[CV 1/5; 16/24] END max_depth=5, max_features=sqrt, min_samples_leaf=1, min_samples_split=4, n_estimators=50;, score=(train=0.993, test=0.917) total time=   0.1s\n",
      "[CV 2/5; 16/24] START max_depth=5, max_features=sqrt, min_samples_leaf=1, min_samples_split=4, n_estimators=50\n",
      "[CV 2/5; 16/24] END max_depth=5, max_features=sqrt, min_samples_leaf=1, min_samples_split=4, n_estimators=50;, score=(train=0.994, test=0.801) total time=   0.1s\n",
      "[CV 5/5; 16/24] START max_depth=5, max_features=sqrt, min_samples_leaf=1, min_samples_split=4, n_estimators=50\n",
      "[CV 5/5; 16/24] END max_depth=5, max_features=sqrt, min_samples_leaf=1, min_samples_split=4, n_estimators=50;, score=(train=0.994, test=0.876) total time=   0.1s\n",
      "[CV 4/5; 17/24] START max_depth=5, max_features=sqrt, min_samples_leaf=1, min_samples_split=4, n_estimators=100\n",
      "[CV 4/5; 17/24] END max_depth=5, max_features=sqrt, min_samples_leaf=1, min_samples_split=4, n_estimators=100;, score=(train=0.998, test=0.848) total time=   0.1s\n",
      "[CV 2/5; 18/24] START max_depth=5, max_features=sqrt, min_samples_leaf=1, min_samples_split=4, n_estimators=150\n",
      "[CV 2/5; 18/24] END max_depth=5, max_features=sqrt, min_samples_leaf=1, min_samples_split=4, n_estimators=150;, score=(train=1.000, test=0.798) total time=   0.2s\n",
      "[CV 5/5; 18/24] START max_depth=5, max_features=sqrt, min_samples_leaf=1, min_samples_split=4, n_estimators=150\n",
      "[CV 5/5; 18/24] END max_depth=5, max_features=sqrt, min_samples_leaf=1, min_samples_split=4, n_estimators=150;, score=(train=1.000, test=0.879) total time=   0.2s\n",
      "[CV 4/5; 19/24] START max_depth=5, max_features=sqrt, min_samples_leaf=2, min_samples_split=2, n_estimators=50\n",
      "[CV 4/5; 19/24] END max_depth=5, max_features=sqrt, min_samples_leaf=2, min_samples_split=2, n_estimators=50;, score=(train=0.992, test=0.845) total time=   0.1s\n",
      "[CV 1/5; 20/24] START max_depth=5, max_features=sqrt, min_samples_leaf=2, min_samples_split=2, n_estimators=100\n",
      "[CV 1/5; 20/24] END max_depth=5, max_features=sqrt, min_samples_leaf=2, min_samples_split=2, n_estimators=100;, score=(train=0.998, test=0.914) total time=   0.2s\n",
      "[CV 5/5; 20/24] START max_depth=5, max_features=sqrt, min_samples_leaf=2, min_samples_split=2, n_estimators=100\n"
     ]
    },
    {
     "name": "stderr",
     "output_type": "stream",
     "text": [
      "/home/peilnix/.local/lib/python3.10/site-packages/sklearn/ensemble/_gb.py:570: DataConversionWarning: A column-vector y was passed when a 1d array was expected. Please change the shape of y to (n_samples, ), for example using ravel().\n",
      "  y = column_or_1d(y, warn=True)\n",
      "/home/peilnix/.local/lib/python3.10/site-packages/sklearn/ensemble/_gb.py:570: DataConversionWarning: A column-vector y was passed when a 1d array was expected. Please change the shape of y to (n_samples, ), for example using ravel().\n",
      "  y = column_or_1d(y, warn=True)\n",
      "/home/peilnix/.local/lib/python3.10/site-packages/sklearn/ensemble/_gb.py:570: DataConversionWarning: A column-vector y was passed when a 1d array was expected. Please change the shape of y to (n_samples, ), for example using ravel().\n",
      "  y = column_or_1d(y, warn=True)\n",
      "/home/peilnix/.local/lib/python3.10/site-packages/sklearn/ensemble/_gb.py:570: DataConversionWarning: A column-vector y was passed when a 1d array was expected. Please change the shape of y to (n_samples, ), for example using ravel().\n",
      "  y = column_or_1d(y, warn=True)\n",
      "/home/peilnix/.local/lib/python3.10/site-packages/sklearn/ensemble/_gb.py:570: DataConversionWarning: A column-vector y was passed when a 1d array was expected. Please change the shape of y to (n_samples, ), for example using ravel().\n",
      "  y = column_or_1d(y, warn=True)\n",
      "/home/peilnix/.local/lib/python3.10/site-packages/sklearn/ensemble/_gb.py:570: DataConversionWarning: A column-vector y was passed when a 1d array was expected. Please change the shape of y to (n_samples, ), for example using ravel().\n",
      "  y = column_or_1d(y, warn=True)\n",
      "/home/peilnix/.local/lib/python3.10/site-packages/sklearn/ensemble/_gb.py:570: DataConversionWarning: A column-vector y was passed when a 1d array was expected. Please change the shape of y to (n_samples, ), for example using ravel().\n",
      "  y = column_or_1d(y, warn=True)\n",
      "/home/peilnix/.local/lib/python3.10/site-packages/sklearn/ensemble/_gb.py:570: DataConversionWarning: A column-vector y was passed when a 1d array was expected. Please change the shape of y to (n_samples, ), for example using ravel().\n",
      "  y = column_or_1d(y, warn=True)\n",
      "/home/peilnix/.local/lib/python3.10/site-packages/sklearn/ensemble/_gb.py:570: DataConversionWarning: A column-vector y was passed when a 1d array was expected. Please change the shape of y to (n_samples, ), for example using ravel().\n",
      "  y = column_or_1d(y, warn=True)\n",
      "/home/peilnix/.local/lib/python3.10/site-packages/sklearn/ensemble/_gb.py:570: DataConversionWarning: A column-vector y was passed when a 1d array was expected. Please change the shape of y to (n_samples, ), for example using ravel().\n",
      "  y = column_or_1d(y, warn=True)\n",
      "/home/peilnix/.local/lib/python3.10/site-packages/sklearn/ensemble/_gb.py:570: DataConversionWarning: A column-vector y was passed when a 1d array was expected. Please change the shape of y to (n_samples, ), for example using ravel().\n",
      "  y = column_or_1d(y, warn=True)\n",
      "/home/peilnix/.local/lib/python3.10/site-packages/sklearn/ensemble/_gb.py:570: DataConversionWarning: A column-vector y was passed when a 1d array was expected. Please change the shape of y to (n_samples, ), for example using ravel().\n",
      "  y = column_or_1d(y, warn=True)\n",
      "/home/peilnix/.local/lib/python3.10/site-packages/sklearn/ensemble/_gb.py:570: DataConversionWarning: A column-vector y was passed when a 1d array was expected. Please change the shape of y to (n_samples, ), for example using ravel().\n",
      "  y = column_or_1d(y, warn=True)\n",
      "/home/peilnix/.local/lib/python3.10/site-packages/sklearn/ensemble/_gb.py:570: DataConversionWarning: A column-vector y was passed when a 1d array was expected. Please change the shape of y to (n_samples, ), for example using ravel().\n",
      "  y = column_or_1d(y, warn=True)\n",
      "/home/peilnix/.local/lib/python3.10/site-packages/sklearn/ensemble/_gb.py:570: DataConversionWarning: A column-vector y was passed when a 1d array was expected. Please change the shape of y to (n_samples, ), for example using ravel().\n",
      "  y = column_or_1d(y, warn=True)\n",
      "/home/peilnix/.local/lib/python3.10/site-packages/sklearn/ensemble/_gb.py:570: DataConversionWarning: A column-vector y was passed when a 1d array was expected. Please change the shape of y to (n_samples, ), for example using ravel().\n",
      "  y = column_or_1d(y, warn=True)\n",
      "/home/peilnix/.local/lib/python3.10/site-packages/sklearn/ensemble/_gb.py:570: DataConversionWarning: A column-vector y was passed when a 1d array was expected. Please change the shape of y to (n_samples, ), for example using ravel().\n",
      "  y = column_or_1d(y, warn=True)\n",
      "/home/peilnix/.local/lib/python3.10/site-packages/sklearn/ensemble/_gb.py:570: DataConversionWarning: A column-vector y was passed when a 1d array was expected. Please change the shape of y to (n_samples, ), for example using ravel().\n",
      "  y = column_or_1d(y, warn=True)\n",
      "/home/peilnix/.local/lib/python3.10/site-packages/sklearn/ensemble/_gb.py:570: DataConversionWarning: A column-vector y was passed when a 1d array was expected. Please change the shape of y to (n_samples, ), for example using ravel().\n",
      "  y = column_or_1d(y, warn=True)\n"
     ]
    },
    {
     "data": {
      "text/plain": [
       "{'max_depth': 5,\n",
       " 'max_features': 'sqrt',\n",
       " 'min_samples_leaf': 1,\n",
       " 'min_samples_split': 2,\n",
       " 'n_estimators': 150}"
      ]
     },
     "execution_count": 6,
     "metadata": {},
     "output_type": "execute_result"
    },
    {
     "name": "stdout",
     "output_type": "stream",
     "text": [
      "[CV 3/5; 1/24] START max_depth=3, max_features=sqrt, min_samples_leaf=1, min_samples_split=2, n_estimators=50\n",
      "[CV 3/5; 1/24] END max_depth=3, max_features=sqrt, min_samples_leaf=1, min_samples_split=2, n_estimators=50;, score=(train=0.964, test=0.884) total time=   0.1s\n",
      "[CV 5/5; 6/24] START max_depth=3, max_features=sqrt, min_samples_leaf=1, min_samples_split=4, n_estimators=150\n",
      "[CV 5/5; 6/24] END max_depth=3, max_features=sqrt, min_samples_leaf=1, min_samples_split=4, n_estimators=150;, score=(train=0.989, test=0.920) total time=   0.3s\n",
      "[CV 5/5; 8/24] START max_depth=3, max_features=sqrt, min_samples_leaf=2, min_samples_split=2, n_estimators=100\n",
      "[CV 5/5; 8/24] END max_depth=3, max_features=sqrt, min_samples_leaf=2, min_samples_split=2, n_estimators=100;, score=(train=0.982, test=0.916) total time=   0.1s\n",
      "[CV 3/5; 9/24] START max_depth=3, max_features=sqrt, min_samples_leaf=2, min_samples_split=2, n_estimators=150\n",
      "[CV 3/5; 9/24] END max_depth=3, max_features=sqrt, min_samples_leaf=2, min_samples_split=2, n_estimators=150;, score=(train=0.988, test=0.896) total time=   0.2s\n",
      "[CV 3/5; 10/24] START max_depth=3, max_features=sqrt, min_samples_leaf=2, min_samples_split=4, n_estimators=50\n",
      "[CV 3/5; 10/24] END max_depth=3, max_features=sqrt, min_samples_leaf=2, min_samples_split=4, n_estimators=50;, score=(train=0.965, test=0.887) total time=   0.1s\n",
      "[CV 1/5; 11/24] START max_depth=3, max_features=sqrt, min_samples_leaf=2, min_samples_split=4, n_estimators=100\n",
      "[CV 1/5; 11/24] END max_depth=3, max_features=sqrt, min_samples_leaf=2, min_samples_split=4, n_estimators=100;, score=(train=0.982, test=0.929) total time=   0.2s\n",
      "[CV 2/5; 12/24] START max_depth=3, max_features=sqrt, min_samples_leaf=2, min_samples_split=4, n_estimators=150\n",
      "[CV 2/5; 12/24] END max_depth=3, max_features=sqrt, min_samples_leaf=2, min_samples_split=4, n_estimators=150;, score=(train=0.990, test=0.774) total time=   0.3s\n",
      "[CV 4/5; 13/24] START max_depth=5, max_features=sqrt, min_samples_leaf=1, min_samples_split=2, n_estimators=50\n",
      "[CV 4/5; 13/24] END max_depth=5, max_features=sqrt, min_samples_leaf=1, min_samples_split=2, n_estimators=50;, score=(train=0.993, test=0.842) total time=   0.1s\n",
      "[CV 3/5; 14/24] START max_depth=5, max_features=sqrt, min_samples_leaf=1, min_samples_split=2, n_estimators=100\n",
      "[CV 3/5; 14/24] END max_depth=5, max_features=sqrt, min_samples_leaf=1, min_samples_split=2, n_estimators=100;, score=(train=0.999, test=0.906) total time=   0.2s\n",
      "[CV 2/5; 15/24] START max_depth=5, max_features=sqrt, min_samples_leaf=1, min_samples_split=2, n_estimators=150\n",
      "[CV 2/5; 15/24] END max_depth=5, max_features=sqrt, min_samples_leaf=1, min_samples_split=2, n_estimators=150;, score=(train=1.000, test=0.813) total time=   0.3s\n",
      "[CV 3/5; 16/24] START max_depth=5, max_features=sqrt, min_samples_leaf=1, min_samples_split=4, n_estimators=50\n",
      "[CV 3/5; 16/24] END max_depth=5, max_features=sqrt, min_samples_leaf=1, min_samples_split=4, n_estimators=50;, score=(train=0.994, test=0.911) total time=   0.1s\n",
      "[CV 3/5; 17/24] START max_depth=5, max_features=sqrt, min_samples_leaf=1, min_samples_split=4, n_estimators=100\n",
      "[CV 3/5; 17/24] END max_depth=5, max_features=sqrt, min_samples_leaf=1, min_samples_split=4, n_estimators=100;, score=(train=0.998, test=0.914) total time=   0.2s\n",
      "[CV 3/5; 18/24] START max_depth=5, max_features=sqrt, min_samples_leaf=1, min_samples_split=4, n_estimators=150\n",
      "[CV 3/5; 18/24] END max_depth=5, max_features=sqrt, min_samples_leaf=1, min_samples_split=4, n_estimators=150;, score=(train=1.000, test=0.915) total time=   0.5s\n",
      "[CV 3/5; 20/24] START max_depth=5, max_features=sqrt, min_samples_leaf=2, min_samples_split=2, n_estimators=100\n",
      "[CV 3/5; 20/24] END max_depth=5, max_features=sqrt, min_samples_leaf=2, min_samples_split=2, n_estimators=100;, score=(train=0.998, test=0.884) total time=   0.2s\n",
      "[CV 1/5; 21/24] START max_depth=5, max_features=sqrt, min_samples_leaf=2, min_samples_split=2, n_estimators=150\n",
      "[CV 1/5; 21/24] END max_depth=5, max_features=sqrt, min_samples_leaf=2, min_samples_split=2, n_estimators=150;, score=(train=1.000, test=0.913) total time=   0.2s\n",
      "[CV 5/5; 21/24] START max_depth=5, max_features=sqrt, min_samples_leaf=2, min_samples_split=2, n_estimators=150\n",
      "[CV 5/5; 21/24] END max_depth=5, max_features=sqrt, min_samples_leaf=2, min_samples_split=2, n_estimators=150;, score=(train=0.999, test=0.894) total time=   0.2s\n",
      "[CV 2/5; 22/24] START max_depth=5, max_features=sqrt, min_samples_leaf=2, min_samples_split=4, n_estimators=50\n",
      "[CV 2/5; 22/24] END max_depth=5, max_features=sqrt, min_samples_leaf=2, min_samples_split=4, n_estimators=50;, score=(train=0.994, test=0.804) total time=   0.1s\n",
      "[CV 5/5; 22/24] START max_depth=5, max_features=sqrt, min_samples_leaf=2, min_samples_split=4, n_estimators=50\n",
      "[CV 5/5; 22/24] END max_depth=5, max_features=sqrt, min_samples_leaf=2, min_samples_split=4, n_estimators=50;, score=(train=0.993, test=0.892) total time=   0.1s\n",
      "[CV 4/5; 23/24] START max_depth=5, max_features=sqrt, min_samples_leaf=2, min_samples_split=4, n_estimators=100\n",
      "[CV 4/5; 23/24] END max_depth=5, max_features=sqrt, min_samples_leaf=2, min_samples_split=4, n_estimators=100;, score=(train=0.998, test=0.854) total time=   0.2s\n",
      "[CV 3/5; 24/24] START max_depth=5, max_features=sqrt, min_samples_leaf=2, min_samples_split=4, n_estimators=150\n",
      "[CV 3/5; 24/24] END max_depth=5, max_features=sqrt, min_samples_leaf=2, min_samples_split=4, n_estimators=150;, score=(train=0.999, test=0.885) total time=   0.2s\n",
      "[CV 1/5; 19/24] START max_depth=5, max_features=sqrt, min_samples_leaf=2, min_samples_split=2, n_estimators=50\n",
      "[CV 1/5; 19/24] END max_depth=5, max_features=sqrt, min_samples_leaf=2, min_samples_split=2, n_estimators=50;, score=(train=0.992, test=0.914) total time=   0.1s\n",
      "[CV 3/5; 19/24] START max_depth=5, max_features=sqrt, min_samples_leaf=2, min_samples_split=2, n_estimators=50\n",
      "[CV 3/5; 19/24] END max_depth=5, max_features=sqrt, min_samples_leaf=2, min_samples_split=2, n_estimators=50;, score=(train=0.993, test=0.881) total time=   0.1s\n",
      "[CV 5/5; 19/24] START max_depth=5, max_features=sqrt, min_samples_leaf=2, min_samples_split=2, n_estimators=50\n",
      "[CV 5/5; 19/24] END max_depth=5, max_features=sqrt, min_samples_leaf=2, min_samples_split=2, n_estimators=50;, score=(train=0.993, test=0.892) total time=   0.1s\n",
      "[CV 4/5; 20/24] START max_depth=5, max_features=sqrt, min_samples_leaf=2, min_samples_split=2, n_estimators=100\n",
      "[CV 4/5; 20/24] END max_depth=5, max_features=sqrt, min_samples_leaf=2, min_samples_split=2, n_estimators=100;, score=(train=0.998, test=0.854) total time=   0.3s\n",
      "[CV 4/5; 21/24] START max_depth=5, max_features=sqrt, min_samples_leaf=2, min_samples_split=2, n_estimators=150\n",
      "[CV 4/5; 21/24] END max_depth=5, max_features=sqrt, min_samples_leaf=2, min_samples_split=2, n_estimators=150;, score=(train=0.999, test=0.856) total time=   0.3s\n",
      "[CV 1/5; 23/24] START max_depth=5, max_features=sqrt, min_samples_leaf=2, min_samples_split=4, n_estimators=100\n",
      "[CV 1/5; 23/24] END max_depth=5, max_features=sqrt, min_samples_leaf=2, min_samples_split=4, n_estimators=100;, score=(train=0.998, test=0.914) total time=   0.1s\n",
      "[CV 5/5; 23/24] START max_depth=5, max_features=sqrt, min_samples_leaf=2, min_samples_split=4, n_estimators=100\n",
      "[CV 5/5; 23/24] END max_depth=5, max_features=sqrt, min_samples_leaf=2, min_samples_split=4, n_estimators=100;, score=(train=0.998, test=0.896) total time=   0.1s\n",
      "[CV 4/5; 24/24] START max_depth=5, max_features=sqrt, min_samples_leaf=2, min_samples_split=4, n_estimators=150\n",
      "[CV 4/5; 24/24] END max_depth=5, max_features=sqrt, min_samples_leaf=2, min_samples_split=4, n_estimators=150;, score=(train=0.999, test=0.856) total time=   0.2s\n",
      "[CV 4/5; 1/24] START max_depth=3, max_features=sqrt, min_samples_leaf=1, min_samples_split=2, n_estimators=50\n",
      "[CV 4/5; 1/24] END max_depth=3, max_features=sqrt, min_samples_leaf=1, min_samples_split=2, n_estimators=50;, score=(train=0.964, test=0.836) total time=   0.1s\n",
      "[CV 3/5; 6/24] START max_depth=3, max_features=sqrt, min_samples_leaf=1, min_samples_split=4, n_estimators=150\n",
      "[CV 3/5; 6/24] END max_depth=3, max_features=sqrt, min_samples_leaf=1, min_samples_split=4, n_estimators=150;, score=(train=0.990, test=0.891) total time=   0.2s\n",
      "[CV 4/5; 6/24] START max_depth=3, max_features=sqrt, min_samples_leaf=1, min_samples_split=4, n_estimators=150\n",
      "[CV 4/5; 6/24] END max_depth=3, max_features=sqrt, min_samples_leaf=1, min_samples_split=4, n_estimators=150;, score=(train=0.989, test=0.848) total time=   0.1s\n",
      "[CV 5/5; 7/24] START max_depth=3, max_features=sqrt, min_samples_leaf=2, min_samples_split=2, n_estimators=50\n",
      "[CV 5/5; 7/24] END max_depth=3, max_features=sqrt, min_samples_leaf=2, min_samples_split=2, n_estimators=50;, score=(train=0.964, test=0.905) total time=   0.1s\n",
      "[CV 2/5; 8/24] START max_depth=3, max_features=sqrt, min_samples_leaf=2, min_samples_split=2, n_estimators=100\n",
      "[CV 2/5; 8/24] END max_depth=3, max_features=sqrt, min_samples_leaf=2, min_samples_split=2, n_estimators=100;, score=(train=0.984, test=0.774) total time=   0.1s\n",
      "[CV 1/5; 9/24] START max_depth=3, max_features=sqrt, min_samples_leaf=2, min_samples_split=2, n_estimators=150\n",
      "[CV 1/5; 9/24] END max_depth=3, max_features=sqrt, min_samples_leaf=2, min_samples_split=2, n_estimators=150;, score=(train=0.989, test=0.930) total time=   0.1s\n",
      "[CV 4/5; 9/24] START max_depth=3, max_features=sqrt, min_samples_leaf=2, min_samples_split=2, n_estimators=150\n",
      "[CV 4/5; 9/24] END max_depth=3, max_features=sqrt, min_samples_leaf=2, min_samples_split=2, n_estimators=150;, score=(train=0.988, test=0.845) total time=   0.2s\n",
      "[CV 2/5; 10/24] START max_depth=3, max_features=sqrt, min_samples_leaf=2, min_samples_split=4, n_estimators=50\n",
      "[CV 2/5; 10/24] END max_depth=3, max_features=sqrt, min_samples_leaf=2, min_samples_split=4, n_estimators=50;, score=(train=0.969, test=0.773) total time=   0.1s\n",
      "[CV 5/5; 10/24] START max_depth=3, max_features=sqrt, min_samples_leaf=2, min_samples_split=4, n_estimators=50\n",
      "[CV 5/5; 10/24] END max_depth=3, max_features=sqrt, min_samples_leaf=2, min_samples_split=4, n_estimators=50;, score=(train=0.964, test=0.905) total time=   0.1s\n",
      "[CV 4/5; 11/24] START max_depth=3, max_features=sqrt, min_samples_leaf=2, min_samples_split=4, n_estimators=100\n",
      "[CV 4/5; 11/24] END max_depth=3, max_features=sqrt, min_samples_leaf=2, min_samples_split=4, n_estimators=100;, score=(train=0.980, test=0.843) total time=   0.1s\n",
      "[CV 5/5; 11/24] START max_depth=3, max_features=sqrt, min_samples_leaf=2, min_samples_split=4, n_estimators=100\n",
      "[CV 5/5; 11/24] END max_depth=3, max_features=sqrt, min_samples_leaf=2, min_samples_split=4, n_estimators=100;, score=(train=0.982, test=0.916) total time=   0.1s\n",
      "[CV 4/5; 12/24] START max_depth=3, max_features=sqrt, min_samples_leaf=2, min_samples_split=4, n_estimators=150\n",
      "[CV 4/5; 12/24] END max_depth=3, max_features=sqrt, min_samples_leaf=2, min_samples_split=4, n_estimators=150;, score=(train=0.988, test=0.845) total time=   0.1s\n",
      "[CV 1/5; 13/24] START max_depth=5, max_features=sqrt, min_samples_leaf=1, min_samples_split=2, n_estimators=50\n",
      "[CV 1/5; 13/24] END max_depth=5, max_features=sqrt, min_samples_leaf=1, min_samples_split=2, n_estimators=50;, score=(train=0.994, test=0.924) total time=   0.1s\n",
      "[CV 3/5; 13/24] START max_depth=5, max_features=sqrt, min_samples_leaf=1, min_samples_split=2, n_estimators=50\n",
      "[CV 3/5; 13/24] END max_depth=5, max_features=sqrt, min_samples_leaf=1, min_samples_split=2, n_estimators=50;, score=(train=0.994, test=0.900) total time=   0.1s\n",
      "[CV 1/5; 14/24] START max_depth=5, max_features=sqrt, min_samples_leaf=1, min_samples_split=2, n_estimators=100\n",
      "[CV 1/5; 14/24] END max_depth=5, max_features=sqrt, min_samples_leaf=1, min_samples_split=2, n_estimators=100;, score=(train=0.998, test=0.927) total time=   0.1s\n",
      "[CV 5/5; 14/24] START max_depth=5, max_features=sqrt, min_samples_leaf=1, min_samples_split=2, n_estimators=100\n",
      "[CV 5/5; 14/24] END max_depth=5, max_features=sqrt, min_samples_leaf=1, min_samples_split=2, n_estimators=100;, score=(train=0.999, test=0.923) total time=   0.2s\n",
      "[CV 4/5; 15/24] START max_depth=5, max_features=sqrt, min_samples_leaf=1, min_samples_split=2, n_estimators=150\n",
      "[CV 4/5; 15/24] END max_depth=5, max_features=sqrt, min_samples_leaf=1, min_samples_split=2, n_estimators=150;, score=(train=1.000, test=0.850) total time=   0.2s\n",
      "[CV 4/5; 16/24] START max_depth=5, max_features=sqrt, min_samples_leaf=1, min_samples_split=4, n_estimators=50\n",
      "[CV 4/5; 16/24] END max_depth=5, max_features=sqrt, min_samples_leaf=1, min_samples_split=4, n_estimators=50;, score=(train=0.992, test=0.845) total time=   0.1s\n",
      "[CV 2/5; 17/24] START max_depth=5, max_features=sqrt, min_samples_leaf=1, min_samples_split=4, n_estimators=100\n",
      "[CV 2/5; 17/24] END max_depth=5, max_features=sqrt, min_samples_leaf=1, min_samples_split=4, n_estimators=100;, score=(train=0.999, test=0.798) total time=   0.1s\n",
      "[CV 1/5; 18/24] START max_depth=5, max_features=sqrt, min_samples_leaf=1, min_samples_split=4, n_estimators=150\n",
      "[CV 1/5; 18/24] END max_depth=5, max_features=sqrt, min_samples_leaf=1, min_samples_split=4, n_estimators=150;, score=(train=1.000, test=0.916) total time=   0.4s\n",
      "[CV 2/5; 19/24] START max_depth=5, max_features=sqrt, min_samples_leaf=2, min_samples_split=2, n_estimators=50\n",
      "[CV 2/5; 19/24] END max_depth=5, max_features=sqrt, min_samples_leaf=2, min_samples_split=2, n_estimators=50;, score=(train=0.994, test=0.804) total time=   0.2s\n",
      "[CV 2/5; 20/24] START max_depth=5, max_features=sqrt, min_samples_leaf=2, min_samples_split=2, n_estimators=100\n",
      "[CV 2/5; 20/24] END max_depth=5, max_features=sqrt, min_samples_leaf=2, min_samples_split=2, n_estimators=100;, score=(train=0.998, test=0.806) total time=   0.3s\n",
      "[CV 3/5; 21/24] START max_depth=5, max_features=sqrt, min_samples_leaf=2, min_samples_split=2, n_estimators=150\n",
      "[CV 3/5; 21/24] END max_depth=5, max_features=sqrt, min_samples_leaf=2, min_samples_split=2, n_estimators=150;, score=(train=0.999, test=0.885) total time=   0.3s\n",
      "[CV 4/5; 22/24] START max_depth=5, max_features=sqrt, min_samples_leaf=2, min_samples_split=4, n_estimators=50\n",
      "[CV 4/5; 22/24] END max_depth=5, max_features=sqrt, min_samples_leaf=2, min_samples_split=4, n_estimators=50;, score=(train=0.992, test=0.845) total time=   0.1s\n",
      "[CV 3/5; 23/24] START max_depth=5, max_features=sqrt, min_samples_leaf=2, min_samples_split=4, n_estimators=100\n",
      "[CV 3/5; 23/24] END max_depth=5, max_features=sqrt, min_samples_leaf=2, min_samples_split=4, n_estimators=100;, score=(train=0.998, test=0.884) total time=   0.1s\n",
      "[CV 2/5; 24/24] START max_depth=5, max_features=sqrt, min_samples_leaf=2, min_samples_split=4, n_estimators=150\n",
      "[CV 2/5; 24/24] END max_depth=5, max_features=sqrt, min_samples_leaf=2, min_samples_split=4, n_estimators=150;, score=(train=1.000, test=0.808) total time=   0.2s\n"
     ]
    },
    {
     "name": "stdout",
     "output_type": "stream",
     "text": [
      "[CV 5/5; 20/24] END max_depth=5, max_features=sqrt, min_samples_leaf=2, min_samples_split=2, n_estimators=100;, score=(train=0.998, test=0.896) total time=   0.1s\n",
      "[CV 2/5; 21/24] START max_depth=5, max_features=sqrt, min_samples_leaf=2, min_samples_split=2, n_estimators=150\n",
      "[CV 2/5; 21/24] END max_depth=5, max_features=sqrt, min_samples_leaf=2, min_samples_split=2, n_estimators=150;, score=(train=1.000, test=0.808) total time=   0.2s\n",
      "[CV 1/5; 22/24] START max_depth=5, max_features=sqrt, min_samples_leaf=2, min_samples_split=4, n_estimators=50\n",
      "[CV 1/5; 22/24] END max_depth=5, max_features=sqrt, min_samples_leaf=2, min_samples_split=4, n_estimators=50;, score=(train=0.992, test=0.914) total time=   0.1s\n",
      "[CV 3/5; 22/24] START max_depth=5, max_features=sqrt, min_samples_leaf=2, min_samples_split=4, n_estimators=50\n",
      "[CV 3/5; 22/24] END max_depth=5, max_features=sqrt, min_samples_leaf=2, min_samples_split=4, n_estimators=50;, score=(train=0.993, test=0.881) total time=   0.1s\n",
      "[CV 2/5; 23/24] START max_depth=5, max_features=sqrt, min_samples_leaf=2, min_samples_split=4, n_estimators=100\n",
      "[CV 2/5; 23/24] END max_depth=5, max_features=sqrt, min_samples_leaf=2, min_samples_split=4, n_estimators=100;, score=(train=0.998, test=0.806) total time=   0.1s\n",
      "[CV 1/5; 24/24] START max_depth=5, max_features=sqrt, min_samples_leaf=2, min_samples_split=4, n_estimators=150\n",
      "[CV 1/5; 24/24] END max_depth=5, max_features=sqrt, min_samples_leaf=2, min_samples_split=4, n_estimators=150;, score=(train=1.000, test=0.913) total time=   0.2s\n",
      "[CV 5/5; 24/24] START max_depth=5, max_features=sqrt, min_samples_leaf=2, min_samples_split=4, n_estimators=150\n",
      "[CV 5/5; 24/24] END max_depth=5, max_features=sqrt, min_samples_leaf=2, min_samples_split=4, n_estimators=150;, score=(train=0.999, test=0.894) total time=   0.1s\n"
     ]
    }
   ],
   "source": [
    "from sklearn.model_selection import GridSearchCV\n",
    "\n",
    "# Possible parameters to check\n",
    "param_grid = {\n",
    "    'n_estimators': [50, 100, 150], # 3 * 2 * 2 * 2 * 1 = 3 * 8 = 24\n",
    "    'min_samples_split': [2, 4], \n",
    "    'min_samples_leaf' : [1, 2],\n",
    "    'max_depth':[3,5],\n",
    "    'max_features': ['sqrt']\n",
    "    }\n",
    "\n",
    "gb = GradientBoostingRegressor(random_state=100)\n",
    "\n",
    "# param_grid:          Model hyper parameters to check\n",
    "# cv:                  Number of folds\n",
    "# return_train_score:  Get also training set score\n",
    "grid_search = GridSearchCV(gb, param_grid, cv=5, return_train_score=True, n_jobs=-1, verbose = 20)\n",
    "\n",
    "grid_search.fit(X_train,y_train)\n",
    "grid_search.best_params_ #To check the best set of parameters returned"
   ]
  },
  {
   "cell_type": "markdown",
   "metadata": {
    "id": "BCrCx3OFCZMm"
   },
   "source": [
    "## Fitting the model with the best parameter set"
   ]
  },
  {
   "cell_type": "code",
   "execution_count": 14,
   "metadata": {
    "colab": {
     "base_uri": "https://localhost:8080/"
    },
    "executionInfo": {
     "elapsed": 275,
     "status": "ok",
     "timestamp": 1648715131889,
     "user": {
      "displayName": "Ignacio Soteras",
      "userId": "02050793736257155229"
     },
     "user_tz": -120
    },
    "id": "RDSm67tGEmeV",
    "outputId": "d072c3a6-9c5f-45dc-ea13-8c016889451f"
   },
   "outputs": [
    {
     "data": {
      "text/plain": [
       "(379,)"
      ]
     },
     "execution_count": 14,
     "metadata": {},
     "output_type": "execute_result"
    }
   ],
   "source": [
    "y_train['labels'].shape"
   ]
  },
  {
   "cell_type": "code",
   "execution_count": 8,
   "metadata": {
    "colab": {
     "base_uri": "https://localhost:8080/"
    },
    "executionInfo": {
     "elapsed": 934,
     "status": "ok",
     "timestamp": 1648715152139,
     "user": {
      "displayName": "Ignacio Soteras",
      "userId": "02050793736257155229"
     },
     "user_tz": -120
    },
    "id": "TlxyXRPbCU_K",
    "outputId": "f88166af-d607-4326-d82b-bedb5cdfa523"
   },
   "outputs": [
    {
     "name": "stdout",
     "output_type": "stream",
     "text": [
      "The mean R2 of over the folds was 0.87\n"
     ]
    }
   ],
   "source": [
    "from sklearn.model_selection import cross_val_score\n",
    "\n",
    "gb = GradientBoostingRegressor(random_state=100, max_features='sqrt',\n",
    "                               min_samples_leaf=1, min_samples_split=2,\n",
    "                               n_estimators=150)\n",
    "\n",
    "cross_val_scores = cross_val_score(gb, X_train, y_train['labels'], cv=10)\n",
    "print(\"The mean R2 of over the folds was {:.2f}\".format(np.mean(cross_val_scores)))"
   ]
  },
  {
   "cell_type": "code",
   "execution_count": 9,
   "metadata": {
    "scrolled": true
   },
   "outputs": [
    {
     "data": {
      "text/plain": [
       "array([0.91683427, 0.9264351 , 0.69299464, 0.78708399, 0.9204681 ,\n",
       "       0.87918526, 0.75232337, 0.92272542, 0.95760041, 0.90372936])"
      ]
     },
     "execution_count": 9,
     "metadata": {},
     "output_type": "execute_result"
    }
   ],
   "source": [
    "cross_val_scores"
   ]
  },
  {
   "cell_type": "code",
   "execution_count": 10,
   "metadata": {},
   "outputs": [
    {
     "name": "stderr",
     "output_type": "stream",
     "text": [
      "/home/peilnix/.local/lib/python3.10/site-packages/sklearn/ensemble/_gb.py:570: DataConversionWarning: A column-vector y was passed when a 1d array was expected. Please change the shape of y to (n_samples, ), for example using ravel().\n",
      "  y = column_or_1d(y, warn=True)\n"
     ]
    },
    {
     "data": {
      "text/plain": [
       "0.6970919027480347"
      ]
     },
     "execution_count": 10,
     "metadata": {},
     "output_type": "execute_result"
    }
   ],
   "source": [
    "gb.fit(X_train, y_train)\n",
    "gb.score(X_test, y_test)"
   ]
  },
  {
   "cell_type": "code",
   "execution_count": null,
   "metadata": {},
   "outputs": [],
   "source": []
  }
 ],
 "metadata": {
  "colab": {
   "authorship_tag": "ABX9TyOzzfutvwJpNA0bZ5RPOPHs",
   "name": "7.08.ipynb",
   "provenance": []
  },
  "kernelspec": {
   "display_name": "Python 3 (ipykernel)",
   "language": "python",
   "name": "python3"
  },
  "language_info": {
   "codemirror_mode": {
    "name": "ipython",
    "version": 3
   },
   "file_extension": ".py",
   "mimetype": "text/x-python",
   "name": "python",
   "nbconvert_exporter": "python",
   "pygments_lexer": "ipython3",
   "version": "3.10.8"
  }
 },
 "nbformat": 4,
 "nbformat_minor": 1
}
