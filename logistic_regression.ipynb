{
 "cells": [
  {
   "cell_type": "code",
   "execution_count": 1,
   "metadata": {
    "id": "r97zMfY1myrW"
   },
   "outputs": [
    {
     "name": "stdout",
     "output_type": "stream",
     "text": [
      "········\n"
     ]
    }
   ],
   "source": [
    "# prep: import modules and get pwd\n",
    "import pymysql\n",
    "from sqlalchemy import create_engine\n",
    "import pandas as pd\n",
    "import getpass  # To get the password without showing the input\n",
    "password = getpass.getpass()"
   ]
  },
  {
   "cell_type": "code",
   "execution_count": 2,
   "metadata": {
    "id": "zvASXwGtmyrd"
   },
   "outputs": [
    {
     "data": {
      "text/html": [
       "<div>\n",
       "<style scoped>\n",
       "    .dataframe tbody tr th:only-of-type {\n",
       "        vertical-align: middle;\n",
       "    }\n",
       "\n",
       "    .dataframe tbody tr th {\n",
       "        vertical-align: top;\n",
       "    }\n",
       "\n",
       "    .dataframe thead th {\n",
       "        text-align: right;\n",
       "    }\n",
       "</style>\n",
       "<table border=\"1\" class=\"dataframe\">\n",
       "  <thead>\n",
       "    <tr style=\"text-align: right;\">\n",
       "      <th></th>\n",
       "      <th>type</th>\n",
       "      <th>operation</th>\n",
       "      <th>t_amount</th>\n",
       "      <th>balance</th>\n",
       "      <th>k_symbol</th>\n",
       "      <th>l_amount</th>\n",
       "      <th>duration</th>\n",
       "      <th>payments</th>\n",
       "      <th>status</th>\n",
       "    </tr>\n",
       "  </thead>\n",
       "  <tbody>\n",
       "    <tr>\n",
       "      <th>0</th>\n",
       "      <td>PRIJEM</td>\n",
       "      <td>VKLAD</td>\n",
       "      <td>700.0</td>\n",
       "      <td>700.0</td>\n",
       "      <td></td>\n",
       "      <td>NaN</td>\n",
       "      <td>NaN</td>\n",
       "      <td>NaN</td>\n",
       "      <td>None</td>\n",
       "    </tr>\n",
       "    <tr>\n",
       "      <th>1</th>\n",
       "      <td>PRIJEM</td>\n",
       "      <td>VKLAD</td>\n",
       "      <td>900.0</td>\n",
       "      <td>900.0</td>\n",
       "      <td></td>\n",
       "      <td>NaN</td>\n",
       "      <td>NaN</td>\n",
       "      <td>NaN</td>\n",
       "      <td>None</td>\n",
       "    </tr>\n",
       "    <tr>\n",
       "      <th>2</th>\n",
       "      <td>PRIJEM</td>\n",
       "      <td>VKLAD</td>\n",
       "      <td>1000.0</td>\n",
       "      <td>1000.0</td>\n",
       "      <td></td>\n",
       "      <td>NaN</td>\n",
       "      <td>NaN</td>\n",
       "      <td>NaN</td>\n",
       "      <td>None</td>\n",
       "    </tr>\n",
       "    <tr>\n",
       "      <th>3</th>\n",
       "      <td>PRIJEM</td>\n",
       "      <td>VKLAD</td>\n",
       "      <td>600.0</td>\n",
       "      <td>600.0</td>\n",
       "      <td></td>\n",
       "      <td>NaN</td>\n",
       "      <td>NaN</td>\n",
       "      <td>NaN</td>\n",
       "      <td>None</td>\n",
       "    </tr>\n",
       "    <tr>\n",
       "      <th>4</th>\n",
       "      <td>PRIJEM</td>\n",
       "      <td>VKLAD</td>\n",
       "      <td>400.0</td>\n",
       "      <td>400.0</td>\n",
       "      <td></td>\n",
       "      <td>NaN</td>\n",
       "      <td>NaN</td>\n",
       "      <td>NaN</td>\n",
       "      <td>None</td>\n",
       "    </tr>\n",
       "  </tbody>\n",
       "</table>\n",
       "</div>"
      ],
      "text/plain": [
       "     type operation  t_amount  balance k_symbol  l_amount  duration  payments  \\\n",
       "0  PRIJEM     VKLAD     700.0    700.0                NaN       NaN       NaN   \n",
       "1  PRIJEM     VKLAD     900.0    900.0                NaN       NaN       NaN   \n",
       "2  PRIJEM     VKLAD    1000.0   1000.0                NaN       NaN       NaN   \n",
       "3  PRIJEM     VKLAD     600.0    600.0                NaN       NaN       NaN   \n",
       "4  PRIJEM     VKLAD     400.0    400.0                NaN       NaN       NaN   \n",
       "\n",
       "  status  \n",
       "0   None  \n",
       "1   None  \n",
       "2   None  \n",
       "3   None  \n",
       "4   None  "
      ]
     },
     "execution_count": 2,
     "metadata": {},
     "output_type": "execute_result"
    }
   ],
   "source": [
    "# get the data\n",
    "connection_string = 'mysql+pymysql://root:' + password + '@localhost/bank'\n",
    "engine = create_engine(connection_string)\n",
    "query = '''select t.type, t.operation, t.amount as t_amount, t.balance, t.k_symbol, l.amount as l_amount, l.duration, l.payments, l.status\n",
    "from trans t\n",
    "left join loan l\n",
    "on t.account_id = l.account_id;'''\n",
    "\n",
    "data = pd.read_sql_query(query, engine)\n",
    "data.head()"
   ]
  },
  {
   "cell_type": "code",
   "execution_count": 3,
   "metadata": {
    "id": "0pBKmkFbmyre"
   },
   "outputs": [
    {
     "data": {
      "text/plain": [
       "(868019, 9)"
      ]
     },
     "execution_count": 3,
     "metadata": {},
     "output_type": "execute_result"
    }
   ],
   "source": [
    "data.shape"
   ]
  },
  {
   "cell_type": "code",
   "execution_count": 5,
   "metadata": {
    "id": "FgLik82qmyrf"
   },
   "outputs": [
    {
     "data": {
      "text/html": [
       "<div>\n",
       "<style scoped>\n",
       "    .dataframe tbody tr th:only-of-type {\n",
       "        vertical-align: middle;\n",
       "    }\n",
       "\n",
       "    .dataframe tbody tr th {\n",
       "        vertical-align: top;\n",
       "    }\n",
       "\n",
       "    .dataframe thead th {\n",
       "        text-align: right;\n",
       "    }\n",
       "</style>\n",
       "<table border=\"1\" class=\"dataframe\">\n",
       "  <thead>\n",
       "    <tr style=\"text-align: right;\">\n",
       "      <th></th>\n",
       "      <th>A1</th>\n",
       "      <th>A2</th>\n",
       "      <th>A3</th>\n",
       "      <th>A4</th>\n",
       "      <th>A5</th>\n",
       "      <th>A6</th>\n",
       "      <th>A7</th>\n",
       "      <th>A8</th>\n",
       "      <th>A9</th>\n",
       "      <th>A10</th>\n",
       "      <th>A11</th>\n",
       "      <th>A12</th>\n",
       "      <th>A13</th>\n",
       "      <th>A14</th>\n",
       "      <th>A15</th>\n",
       "      <th>A16</th>\n",
       "    </tr>\n",
       "  </thead>\n",
       "  <tbody>\n",
       "    <tr>\n",
       "      <th>0</th>\n",
       "      <td>1</td>\n",
       "      <td>Hl.m. Praha</td>\n",
       "      <td>Prague</td>\n",
       "      <td>1204953</td>\n",
       "      <td>0</td>\n",
       "      <td>0</td>\n",
       "      <td>0</td>\n",
       "      <td>1</td>\n",
       "      <td>1</td>\n",
       "      <td>100.0</td>\n",
       "      <td>12541</td>\n",
       "      <td>0.29</td>\n",
       "      <td>0.43</td>\n",
       "      <td>167</td>\n",
       "      <td>85677</td>\n",
       "      <td>99107</td>\n",
       "    </tr>\n",
       "    <tr>\n",
       "      <th>1</th>\n",
       "      <td>2</td>\n",
       "      <td>Benesov</td>\n",
       "      <td>central Bohemia</td>\n",
       "      <td>88884</td>\n",
       "      <td>80</td>\n",
       "      <td>26</td>\n",
       "      <td>6</td>\n",
       "      <td>2</td>\n",
       "      <td>5</td>\n",
       "      <td>46.7</td>\n",
       "      <td>8507</td>\n",
       "      <td>1.67</td>\n",
       "      <td>1.85</td>\n",
       "      <td>132</td>\n",
       "      <td>2159</td>\n",
       "      <td>2674</td>\n",
       "    </tr>\n",
       "    <tr>\n",
       "      <th>2</th>\n",
       "      <td>3</td>\n",
       "      <td>Beroun</td>\n",
       "      <td>central Bohemia</td>\n",
       "      <td>75232</td>\n",
       "      <td>55</td>\n",
       "      <td>26</td>\n",
       "      <td>4</td>\n",
       "      <td>1</td>\n",
       "      <td>5</td>\n",
       "      <td>41.7</td>\n",
       "      <td>8980</td>\n",
       "      <td>1.95</td>\n",
       "      <td>2.21</td>\n",
       "      <td>111</td>\n",
       "      <td>2824</td>\n",
       "      <td>2813</td>\n",
       "    </tr>\n",
       "    <tr>\n",
       "      <th>3</th>\n",
       "      <td>4</td>\n",
       "      <td>Kladno</td>\n",
       "      <td>central Bohemia</td>\n",
       "      <td>149893</td>\n",
       "      <td>63</td>\n",
       "      <td>29</td>\n",
       "      <td>6</td>\n",
       "      <td>2</td>\n",
       "      <td>6</td>\n",
       "      <td>67.4</td>\n",
       "      <td>9753</td>\n",
       "      <td>4.64</td>\n",
       "      <td>5.05</td>\n",
       "      <td>109</td>\n",
       "      <td>5244</td>\n",
       "      <td>5892</td>\n",
       "    </tr>\n",
       "    <tr>\n",
       "      <th>4</th>\n",
       "      <td>5</td>\n",
       "      <td>Kolin</td>\n",
       "      <td>central Bohemia</td>\n",
       "      <td>95616</td>\n",
       "      <td>65</td>\n",
       "      <td>30</td>\n",
       "      <td>4</td>\n",
       "      <td>1</td>\n",
       "      <td>6</td>\n",
       "      <td>51.4</td>\n",
       "      <td>9307</td>\n",
       "      <td>3.85</td>\n",
       "      <td>4.43</td>\n",
       "      <td>118</td>\n",
       "      <td>2616</td>\n",
       "      <td>3040</td>\n",
       "    </tr>\n",
       "    <tr>\n",
       "      <th>...</th>\n",
       "      <td>...</td>\n",
       "      <td>...</td>\n",
       "      <td>...</td>\n",
       "      <td>...</td>\n",
       "      <td>...</td>\n",
       "      <td>...</td>\n",
       "      <td>...</td>\n",
       "      <td>...</td>\n",
       "      <td>...</td>\n",
       "      <td>...</td>\n",
       "      <td>...</td>\n",
       "      <td>...</td>\n",
       "      <td>...</td>\n",
       "      <td>...</td>\n",
       "      <td>...</td>\n",
       "      <td>...</td>\n",
       "    </tr>\n",
       "    <tr>\n",
       "      <th>72</th>\n",
       "      <td>73</td>\n",
       "      <td>Opava</td>\n",
       "      <td>north Moravia</td>\n",
       "      <td>182027</td>\n",
       "      <td>17</td>\n",
       "      <td>49</td>\n",
       "      <td>12</td>\n",
       "      <td>2</td>\n",
       "      <td>7</td>\n",
       "      <td>56.4</td>\n",
       "      <td>8746</td>\n",
       "      <td>3.33</td>\n",
       "      <td>3.74</td>\n",
       "      <td>90</td>\n",
       "      <td>4355</td>\n",
       "      <td>4433</td>\n",
       "    </tr>\n",
       "    <tr>\n",
       "      <th>73</th>\n",
       "      <td>74</td>\n",
       "      <td>Ostrava - mesto</td>\n",
       "      <td>north Moravia</td>\n",
       "      <td>323870</td>\n",
       "      <td>0</td>\n",
       "      <td>0</td>\n",
       "      <td>0</td>\n",
       "      <td>1</td>\n",
       "      <td>1</td>\n",
       "      <td>100.0</td>\n",
       "      <td>10673</td>\n",
       "      <td>4.75</td>\n",
       "      <td>5.44</td>\n",
       "      <td>100</td>\n",
       "      <td>18782</td>\n",
       "      <td>18347</td>\n",
       "    </tr>\n",
       "    <tr>\n",
       "      <th>74</th>\n",
       "      <td>75</td>\n",
       "      <td>Prerov</td>\n",
       "      <td>north Moravia</td>\n",
       "      <td>138032</td>\n",
       "      <td>67</td>\n",
       "      <td>30</td>\n",
       "      <td>4</td>\n",
       "      <td>2</td>\n",
       "      <td>5</td>\n",
       "      <td>64.6</td>\n",
       "      <td>8819</td>\n",
       "      <td>5.38</td>\n",
       "      <td>5.66</td>\n",
       "      <td>99</td>\n",
       "      <td>4063</td>\n",
       "      <td>4505</td>\n",
       "    </tr>\n",
       "    <tr>\n",
       "      <th>75</th>\n",
       "      <td>76</td>\n",
       "      <td>Sumperk</td>\n",
       "      <td>north Moravia</td>\n",
       "      <td>127369</td>\n",
       "      <td>31</td>\n",
       "      <td>32</td>\n",
       "      <td>13</td>\n",
       "      <td>2</td>\n",
       "      <td>7</td>\n",
       "      <td>51.2</td>\n",
       "      <td>8369</td>\n",
       "      <td>4.73</td>\n",
       "      <td>5.88</td>\n",
       "      <td>107</td>\n",
       "      <td>3736</td>\n",
       "      <td>2807</td>\n",
       "    </tr>\n",
       "    <tr>\n",
       "      <th>76</th>\n",
       "      <td>77</td>\n",
       "      <td>Vsetin</td>\n",
       "      <td>north Moravia</td>\n",
       "      <td>148545</td>\n",
       "      <td>8</td>\n",
       "      <td>35</td>\n",
       "      <td>12</td>\n",
       "      <td>3</td>\n",
       "      <td>4</td>\n",
       "      <td>53.5</td>\n",
       "      <td>8909</td>\n",
       "      <td>4.01</td>\n",
       "      <td>5.56</td>\n",
       "      <td>113</td>\n",
       "      <td>3460</td>\n",
       "      <td>3590</td>\n",
       "    </tr>\n",
       "  </tbody>\n",
       "</table>\n",
       "<p>77 rows × 16 columns</p>\n",
       "</div>"
      ],
      "text/plain": [
       "    A1               A2               A3       A4  A5  A6  A7  A8  A9    A10  \\\n",
       "0    1      Hl.m. Praha           Prague  1204953   0   0   0   1   1  100.0   \n",
       "1    2          Benesov  central Bohemia    88884  80  26   6   2   5   46.7   \n",
       "2    3           Beroun  central Bohemia    75232  55  26   4   1   5   41.7   \n",
       "3    4           Kladno  central Bohemia   149893  63  29   6   2   6   67.4   \n",
       "4    5            Kolin  central Bohemia    95616  65  30   4   1   6   51.4   \n",
       "..  ..              ...              ...      ...  ..  ..  ..  ..  ..    ...   \n",
       "72  73            Opava    north Moravia   182027  17  49  12   2   7   56.4   \n",
       "73  74  Ostrava - mesto    north Moravia   323870   0   0   0   1   1  100.0   \n",
       "74  75           Prerov    north Moravia   138032  67  30   4   2   5   64.6   \n",
       "75  76          Sumperk    north Moravia   127369  31  32  13   2   7   51.2   \n",
       "76  77           Vsetin    north Moravia   148545   8  35  12   3   4   53.5   \n",
       "\n",
       "      A11   A12   A13  A14    A15    A16  \n",
       "0   12541  0.29  0.43  167  85677  99107  \n",
       "1    8507  1.67  1.85  132   2159   2674  \n",
       "2    8980  1.95  2.21  111   2824   2813  \n",
       "3    9753  4.64  5.05  109   5244   5892  \n",
       "4    9307  3.85  4.43  118   2616   3040  \n",
       "..    ...   ...   ...  ...    ...    ...  \n",
       "72   8746  3.33  3.74   90   4355   4433  \n",
       "73  10673  4.75  5.44  100  18782  18347  \n",
       "74   8819  5.38  5.66   99   4063   4505  \n",
       "75   8369  4.73  5.88  107   3736   2807  \n",
       "76   8909  4.01  5.56  113   3460   3590  \n",
       "\n",
       "[77 rows x 16 columns]"
      ]
     },
     "execution_count": 5,
     "metadata": {},
     "output_type": "execute_result"
    }
   ],
   "source": [
    "# Activity 1\n",
    "#  pd.read_sql_table will accept a table name and will retrieve the whole table. \n",
    "#  You can also read a whole table with pd.read_sql_query. Try it on the table 'district'.\n",
    "\n",
    "pd.read_sql_query(\"select * from bank.district\", engine)\n",
    "\n",
    "\n",
    "\n",
    "\n",
    "\n",
    "\n",
    "\n"
   ]
  },
  {
   "cell_type": "code",
   "execution_count": 6,
   "metadata": {
    "id": "rn9906pcmyrf"
   },
   "outputs": [
    {
     "data": {
      "text/plain": [
       "pandas.core.frame.DataFrame"
      ]
     },
     "execution_count": 6,
     "metadata": {},
     "output_type": "execute_result"
    }
   ],
   "source": [
    "district = pd.read_sql_table('district', engine) # select * from district;\n",
    "district.head()\n",
    "type(district)"
   ]
  },
  {
   "cell_type": "code",
   "execution_count": 7,
   "metadata": {
    "id": "d8F8oOS9myrf"
   },
   "outputs": [
    {
     "data": {
      "text/plain": [
       "pandas.core.frame.DataFrame"
      ]
     },
     "execution_count": 7,
     "metadata": {},
     "output_type": "execute_result"
    }
   ],
   "source": [
    "district = pd.read_sql_query('select * from district', engine)\n",
    "type(district)\n",
    "# End Activity "
   ]
  },
  {
   "cell_type": "code",
   "execution_count": 8,
   "metadata": {
    "id": "_Hpcxl_7myrf"
   },
   "outputs": [
    {
     "data": {
      "text/plain": [
       "None    711938\n",
       "C        72288\n",
       "A        64599\n",
       "B         9765\n",
       "D         9429\n",
       "Name: status, dtype: int64"
      ]
     },
     "execution_count": 8,
     "metadata": {},
     "output_type": "execute_result"
    }
   ],
   "source": [
    "data['status'].value_counts(dropna=False)"
   ]
  },
  {
   "cell_type": "code",
   "execution_count": 9,
   "metadata": {
    "id": "1TDBRctWmyrg"
   },
   "outputs": [
    {
     "data": {
      "text/plain": [
       "(868019, 9)"
      ]
     },
     "execution_count": 9,
     "metadata": {},
     "output_type": "execute_result"
    }
   ],
   "source": [
    "data.shape"
   ]
  },
  {
   "cell_type": "code",
   "execution_count": 10,
   "metadata": {
    "id": "KkC4ie7Zmyrg"
   },
   "outputs": [
    {
     "data": {
      "text/plain": [
       "type          object\n",
       "operation     object\n",
       "t_amount     float64\n",
       "balance      float64\n",
       "k_symbol      object\n",
       "l_amount     float64\n",
       "duration     float64\n",
       "payments     float64\n",
       "status        object\n",
       "dtype: object"
      ]
     },
     "execution_count": 10,
     "metadata": {},
     "output_type": "execute_result"
    }
   ],
   "source": [
    "data.dtypes"
   ]
  },
  {
   "cell_type": "code",
   "execution_count": 11,
   "metadata": {
    "id": "WYGheK8wmyrg"
   },
   "outputs": [
    {
     "data": {
      "text/plain": [
       "type              0\n",
       "operation         0\n",
       "t_amount          0\n",
       "balance           0\n",
       "k_symbol          0\n",
       "l_amount     711938\n",
       "duration     711938\n",
       "payments     711938\n",
       "status       711938\n",
       "dtype: int64"
      ]
     },
     "execution_count": 11,
     "metadata": {},
     "output_type": "execute_result"
    }
   ],
   "source": [
    "data.isna().sum()"
   ]
  },
  {
   "cell_type": "code",
   "execution_count": 12,
   "metadata": {
    "id": "PlKRZXiJmyrh"
   },
   "outputs": [],
   "source": [
    "data = data[data['status'].isna()==False] # what rows are we dropping here?"
   ]
  },
  {
   "cell_type": "code",
   "execution_count": 13,
   "metadata": {},
   "outputs": [
    {
     "data": {
      "text/plain": [
       "array(['', 'UROK', ' ', 'SIPO', 'SLUZBY', 'POJISTNE', 'UVER',\n",
       "       'SANKC. UROK'], dtype=object)"
      ]
     },
     "execution_count": 13,
     "metadata": {},
     "output_type": "execute_result"
    }
   ],
   "source": [
    "data['k_symbol'].unique()"
   ]
  },
  {
   "cell_type": "code",
   "execution_count": 18,
   "metadata": {},
   "outputs": [
    {
     "data": {
      "text/html": [
       "<div>\n",
       "<style scoped>\n",
       "    .dataframe tbody tr th:only-of-type {\n",
       "        vertical-align: middle;\n",
       "    }\n",
       "\n",
       "    .dataframe tbody tr th {\n",
       "        vertical-align: top;\n",
       "    }\n",
       "\n",
       "    .dataframe thead th {\n",
       "        text-align: right;\n",
       "    }\n",
       "</style>\n",
       "<table border=\"1\" class=\"dataframe\">\n",
       "  <thead>\n",
       "    <tr style=\"text-align: right;\">\n",
       "      <th>k_symbol</th>\n",
       "      <th>emtpy</th>\n",
       "      <th>white</th>\n",
       "      <th>POJISTNE</th>\n",
       "      <th>SANKC. UROK</th>\n",
       "      <th>SIPO</th>\n",
       "      <th>SLUZBY</th>\n",
       "      <th>UROK</th>\n",
       "      <th>UVER</th>\n",
       "    </tr>\n",
       "    <tr>\n",
       "      <th>duration</th>\n",
       "      <th></th>\n",
       "      <th></th>\n",
       "      <th></th>\n",
       "      <th></th>\n",
       "      <th></th>\n",
       "      <th></th>\n",
       "      <th></th>\n",
       "      <th></th>\n",
       "    </tr>\n",
       "  </thead>\n",
       "  <tbody>\n",
       "    <tr>\n",
       "      <th>12.0</th>\n",
       "      <td>15875</td>\n",
       "      <td>1533</td>\n",
       "      <td>597</td>\n",
       "      <td>136</td>\n",
       "      <td>2160</td>\n",
       "      <td>4764</td>\n",
       "      <td>6349</td>\n",
       "      <td>803</td>\n",
       "    </tr>\n",
       "    <tr>\n",
       "      <th>24.0</th>\n",
       "      <td>16782</td>\n",
       "      <td>1169</td>\n",
       "      <td>461</td>\n",
       "      <td>142</td>\n",
       "      <td>2239</td>\n",
       "      <td>5119</td>\n",
       "      <td>6825</td>\n",
       "      <td>1404</td>\n",
       "    </tr>\n",
       "    <tr>\n",
       "      <th>36.0</th>\n",
       "      <td>13351</td>\n",
       "      <td>966</td>\n",
       "      <td>438</td>\n",
       "      <td>74</td>\n",
       "      <td>2059</td>\n",
       "      <td>4366</td>\n",
       "      <td>5568</td>\n",
       "      <td>1594</td>\n",
       "    </tr>\n",
       "    <tr>\n",
       "      <th>48.0</th>\n",
       "      <td>13678</td>\n",
       "      <td>987</td>\n",
       "      <td>364</td>\n",
       "      <td>105</td>\n",
       "      <td>1762</td>\n",
       "      <td>4465</td>\n",
       "      <td>6074</td>\n",
       "      <td>1830</td>\n",
       "    </tr>\n",
       "    <tr>\n",
       "      <th>60.0</th>\n",
       "      <td>14260</td>\n",
       "      <td>1324</td>\n",
       "      <td>552</td>\n",
       "      <td>132</td>\n",
       "      <td>2262</td>\n",
       "      <td>4878</td>\n",
       "      <td>6521</td>\n",
       "      <td>2113</td>\n",
       "    </tr>\n",
       "  </tbody>\n",
       "</table>\n",
       "</div>"
      ],
      "text/plain": [
       "k_symbol  emtpy  white  POJISTNE  SANKC. UROK  SIPO  SLUZBY  UROK  UVER\n",
       "duration                                                               \n",
       "12.0      15875   1533       597          136  2160    4764  6349   803\n",
       "24.0      16782   1169       461          142  2239    5119  6825  1404\n",
       "36.0      13351    966       438           74  2059    4366  5568  1594\n",
       "48.0      13678    987       364          105  1762    4465  6074  1830\n",
       "60.0      14260   1324       552          132  2262    4878  6521  2113"
      ]
     },
     "execution_count": 18,
     "metadata": {},
     "output_type": "execute_result"
    }
   ],
   "source": [
    "pd.crosstab(data['duration'],data['k_symbol']).rename(columns={\"\":\"emtpy\",\" \":\"white\"})"
   ]
  },
  {
   "cell_type": "code",
   "execution_count": 17,
   "metadata": {},
   "outputs": [
    {
     "data": {
      "text/html": [
       "<div>\n",
       "<style scoped>\n",
       "    .dataframe tbody tr th:only-of-type {\n",
       "        vertical-align: middle;\n",
       "    }\n",
       "\n",
       "    .dataframe tbody tr th {\n",
       "        vertical-align: top;\n",
       "    }\n",
       "\n",
       "    .dataframe thead th {\n",
       "        text-align: right;\n",
       "    }\n",
       "</style>\n",
       "<table border=\"1\" class=\"dataframe\">\n",
       "  <thead>\n",
       "    <tr style=\"text-align: right;\">\n",
       "      <th></th>\n",
       "      <th></th>\n",
       "      <th>type</th>\n",
       "      <th>operation</th>\n",
       "      <th>t_amount</th>\n",
       "      <th>balance</th>\n",
       "      <th>l_amount</th>\n",
       "      <th>payments</th>\n",
       "      <th>status</th>\n",
       "    </tr>\n",
       "    <tr>\n",
       "      <th>duration</th>\n",
       "      <th>k_symbol</th>\n",
       "      <th></th>\n",
       "      <th></th>\n",
       "      <th></th>\n",
       "      <th></th>\n",
       "      <th></th>\n",
       "      <th></th>\n",
       "      <th></th>\n",
       "    </tr>\n",
       "  </thead>\n",
       "  <tbody>\n",
       "    <tr>\n",
       "      <th rowspan=\"8\" valign=\"top\">12.0</th>\n",
       "      <th></th>\n",
       "      <td>15875</td>\n",
       "      <td>15875</td>\n",
       "      <td>15875</td>\n",
       "      <td>15875</td>\n",
       "      <td>15875</td>\n",
       "      <td>15875</td>\n",
       "      <td>15875</td>\n",
       "    </tr>\n",
       "    <tr>\n",
       "      <th></th>\n",
       "      <td>1533</td>\n",
       "      <td>1533</td>\n",
       "      <td>1533</td>\n",
       "      <td>1533</td>\n",
       "      <td>1533</td>\n",
       "      <td>1533</td>\n",
       "      <td>1533</td>\n",
       "    </tr>\n",
       "    <tr>\n",
       "      <th>POJISTNE</th>\n",
       "      <td>597</td>\n",
       "      <td>597</td>\n",
       "      <td>597</td>\n",
       "      <td>597</td>\n",
       "      <td>597</td>\n",
       "      <td>597</td>\n",
       "      <td>597</td>\n",
       "    </tr>\n",
       "    <tr>\n",
       "      <th>SANKC. UROK</th>\n",
       "      <td>136</td>\n",
       "      <td>136</td>\n",
       "      <td>136</td>\n",
       "      <td>136</td>\n",
       "      <td>136</td>\n",
       "      <td>136</td>\n",
       "      <td>136</td>\n",
       "    </tr>\n",
       "    <tr>\n",
       "      <th>SIPO</th>\n",
       "      <td>2160</td>\n",
       "      <td>2160</td>\n",
       "      <td>2160</td>\n",
       "      <td>2160</td>\n",
       "      <td>2160</td>\n",
       "      <td>2160</td>\n",
       "      <td>2160</td>\n",
       "    </tr>\n",
       "    <tr>\n",
       "      <th>SLUZBY</th>\n",
       "      <td>4764</td>\n",
       "      <td>4764</td>\n",
       "      <td>4764</td>\n",
       "      <td>4764</td>\n",
       "      <td>4764</td>\n",
       "      <td>4764</td>\n",
       "      <td>4764</td>\n",
       "    </tr>\n",
       "    <tr>\n",
       "      <th>UROK</th>\n",
       "      <td>6349</td>\n",
       "      <td>6349</td>\n",
       "      <td>6349</td>\n",
       "      <td>6349</td>\n",
       "      <td>6349</td>\n",
       "      <td>6349</td>\n",
       "      <td>6349</td>\n",
       "    </tr>\n",
       "    <tr>\n",
       "      <th>UVER</th>\n",
       "      <td>803</td>\n",
       "      <td>803</td>\n",
       "      <td>803</td>\n",
       "      <td>803</td>\n",
       "      <td>803</td>\n",
       "      <td>803</td>\n",
       "      <td>803</td>\n",
       "    </tr>\n",
       "    <tr>\n",
       "      <th rowspan=\"8\" valign=\"top\">24.0</th>\n",
       "      <th></th>\n",
       "      <td>16782</td>\n",
       "      <td>16782</td>\n",
       "      <td>16782</td>\n",
       "      <td>16782</td>\n",
       "      <td>16782</td>\n",
       "      <td>16782</td>\n",
       "      <td>16782</td>\n",
       "    </tr>\n",
       "    <tr>\n",
       "      <th></th>\n",
       "      <td>1169</td>\n",
       "      <td>1169</td>\n",
       "      <td>1169</td>\n",
       "      <td>1169</td>\n",
       "      <td>1169</td>\n",
       "      <td>1169</td>\n",
       "      <td>1169</td>\n",
       "    </tr>\n",
       "    <tr>\n",
       "      <th>POJISTNE</th>\n",
       "      <td>461</td>\n",
       "      <td>461</td>\n",
       "      <td>461</td>\n",
       "      <td>461</td>\n",
       "      <td>461</td>\n",
       "      <td>461</td>\n",
       "      <td>461</td>\n",
       "    </tr>\n",
       "    <tr>\n",
       "      <th>SANKC. UROK</th>\n",
       "      <td>142</td>\n",
       "      <td>142</td>\n",
       "      <td>142</td>\n",
       "      <td>142</td>\n",
       "      <td>142</td>\n",
       "      <td>142</td>\n",
       "      <td>142</td>\n",
       "    </tr>\n",
       "    <tr>\n",
       "      <th>SIPO</th>\n",
       "      <td>2239</td>\n",
       "      <td>2239</td>\n",
       "      <td>2239</td>\n",
       "      <td>2239</td>\n",
       "      <td>2239</td>\n",
       "      <td>2239</td>\n",
       "      <td>2239</td>\n",
       "    </tr>\n",
       "    <tr>\n",
       "      <th>SLUZBY</th>\n",
       "      <td>5119</td>\n",
       "      <td>5119</td>\n",
       "      <td>5119</td>\n",
       "      <td>5119</td>\n",
       "      <td>5119</td>\n",
       "      <td>5119</td>\n",
       "      <td>5119</td>\n",
       "    </tr>\n",
       "    <tr>\n",
       "      <th>UROK</th>\n",
       "      <td>6825</td>\n",
       "      <td>6825</td>\n",
       "      <td>6825</td>\n",
       "      <td>6825</td>\n",
       "      <td>6825</td>\n",
       "      <td>6825</td>\n",
       "      <td>6825</td>\n",
       "    </tr>\n",
       "    <tr>\n",
       "      <th>UVER</th>\n",
       "      <td>1404</td>\n",
       "      <td>1404</td>\n",
       "      <td>1404</td>\n",
       "      <td>1404</td>\n",
       "      <td>1404</td>\n",
       "      <td>1404</td>\n",
       "      <td>1404</td>\n",
       "    </tr>\n",
       "    <tr>\n",
       "      <th rowspan=\"8\" valign=\"top\">36.0</th>\n",
       "      <th></th>\n",
       "      <td>13351</td>\n",
       "      <td>13351</td>\n",
       "      <td>13351</td>\n",
       "      <td>13351</td>\n",
       "      <td>13351</td>\n",
       "      <td>13351</td>\n",
       "      <td>13351</td>\n",
       "    </tr>\n",
       "    <tr>\n",
       "      <th></th>\n",
       "      <td>966</td>\n",
       "      <td>966</td>\n",
       "      <td>966</td>\n",
       "      <td>966</td>\n",
       "      <td>966</td>\n",
       "      <td>966</td>\n",
       "      <td>966</td>\n",
       "    </tr>\n",
       "    <tr>\n",
       "      <th>POJISTNE</th>\n",
       "      <td>438</td>\n",
       "      <td>438</td>\n",
       "      <td>438</td>\n",
       "      <td>438</td>\n",
       "      <td>438</td>\n",
       "      <td>438</td>\n",
       "      <td>438</td>\n",
       "    </tr>\n",
       "    <tr>\n",
       "      <th>SANKC. UROK</th>\n",
       "      <td>74</td>\n",
       "      <td>74</td>\n",
       "      <td>74</td>\n",
       "      <td>74</td>\n",
       "      <td>74</td>\n",
       "      <td>74</td>\n",
       "      <td>74</td>\n",
       "    </tr>\n",
       "    <tr>\n",
       "      <th>SIPO</th>\n",
       "      <td>2059</td>\n",
       "      <td>2059</td>\n",
       "      <td>2059</td>\n",
       "      <td>2059</td>\n",
       "      <td>2059</td>\n",
       "      <td>2059</td>\n",
       "      <td>2059</td>\n",
       "    </tr>\n",
       "    <tr>\n",
       "      <th>SLUZBY</th>\n",
       "      <td>4366</td>\n",
       "      <td>4366</td>\n",
       "      <td>4366</td>\n",
       "      <td>4366</td>\n",
       "      <td>4366</td>\n",
       "      <td>4366</td>\n",
       "      <td>4366</td>\n",
       "    </tr>\n",
       "    <tr>\n",
       "      <th>UROK</th>\n",
       "      <td>5568</td>\n",
       "      <td>5568</td>\n",
       "      <td>5568</td>\n",
       "      <td>5568</td>\n",
       "      <td>5568</td>\n",
       "      <td>5568</td>\n",
       "      <td>5568</td>\n",
       "    </tr>\n",
       "    <tr>\n",
       "      <th>UVER</th>\n",
       "      <td>1594</td>\n",
       "      <td>1594</td>\n",
       "      <td>1594</td>\n",
       "      <td>1594</td>\n",
       "      <td>1594</td>\n",
       "      <td>1594</td>\n",
       "      <td>1594</td>\n",
       "    </tr>\n",
       "    <tr>\n",
       "      <th rowspan=\"8\" valign=\"top\">48.0</th>\n",
       "      <th></th>\n",
       "      <td>13678</td>\n",
       "      <td>13678</td>\n",
       "      <td>13678</td>\n",
       "      <td>13678</td>\n",
       "      <td>13678</td>\n",
       "      <td>13678</td>\n",
       "      <td>13678</td>\n",
       "    </tr>\n",
       "    <tr>\n",
       "      <th></th>\n",
       "      <td>987</td>\n",
       "      <td>987</td>\n",
       "      <td>987</td>\n",
       "      <td>987</td>\n",
       "      <td>987</td>\n",
       "      <td>987</td>\n",
       "      <td>987</td>\n",
       "    </tr>\n",
       "    <tr>\n",
       "      <th>POJISTNE</th>\n",
       "      <td>364</td>\n",
       "      <td>364</td>\n",
       "      <td>364</td>\n",
       "      <td>364</td>\n",
       "      <td>364</td>\n",
       "      <td>364</td>\n",
       "      <td>364</td>\n",
       "    </tr>\n",
       "    <tr>\n",
       "      <th>SANKC. UROK</th>\n",
       "      <td>105</td>\n",
       "      <td>105</td>\n",
       "      <td>105</td>\n",
       "      <td>105</td>\n",
       "      <td>105</td>\n",
       "      <td>105</td>\n",
       "      <td>105</td>\n",
       "    </tr>\n",
       "    <tr>\n",
       "      <th>SIPO</th>\n",
       "      <td>1762</td>\n",
       "      <td>1762</td>\n",
       "      <td>1762</td>\n",
       "      <td>1762</td>\n",
       "      <td>1762</td>\n",
       "      <td>1762</td>\n",
       "      <td>1762</td>\n",
       "    </tr>\n",
       "    <tr>\n",
       "      <th>SLUZBY</th>\n",
       "      <td>4465</td>\n",
       "      <td>4465</td>\n",
       "      <td>4465</td>\n",
       "      <td>4465</td>\n",
       "      <td>4465</td>\n",
       "      <td>4465</td>\n",
       "      <td>4465</td>\n",
       "    </tr>\n",
       "    <tr>\n",
       "      <th>UROK</th>\n",
       "      <td>6074</td>\n",
       "      <td>6074</td>\n",
       "      <td>6074</td>\n",
       "      <td>6074</td>\n",
       "      <td>6074</td>\n",
       "      <td>6074</td>\n",
       "      <td>6074</td>\n",
       "    </tr>\n",
       "    <tr>\n",
       "      <th>UVER</th>\n",
       "      <td>1830</td>\n",
       "      <td>1830</td>\n",
       "      <td>1830</td>\n",
       "      <td>1830</td>\n",
       "      <td>1830</td>\n",
       "      <td>1830</td>\n",
       "      <td>1830</td>\n",
       "    </tr>\n",
       "    <tr>\n",
       "      <th rowspan=\"8\" valign=\"top\">60.0</th>\n",
       "      <th></th>\n",
       "      <td>14260</td>\n",
       "      <td>14260</td>\n",
       "      <td>14260</td>\n",
       "      <td>14260</td>\n",
       "      <td>14260</td>\n",
       "      <td>14260</td>\n",
       "      <td>14260</td>\n",
       "    </tr>\n",
       "    <tr>\n",
       "      <th></th>\n",
       "      <td>1324</td>\n",
       "      <td>1324</td>\n",
       "      <td>1324</td>\n",
       "      <td>1324</td>\n",
       "      <td>1324</td>\n",
       "      <td>1324</td>\n",
       "      <td>1324</td>\n",
       "    </tr>\n",
       "    <tr>\n",
       "      <th>POJISTNE</th>\n",
       "      <td>552</td>\n",
       "      <td>552</td>\n",
       "      <td>552</td>\n",
       "      <td>552</td>\n",
       "      <td>552</td>\n",
       "      <td>552</td>\n",
       "      <td>552</td>\n",
       "    </tr>\n",
       "    <tr>\n",
       "      <th>SANKC. UROK</th>\n",
       "      <td>132</td>\n",
       "      <td>132</td>\n",
       "      <td>132</td>\n",
       "      <td>132</td>\n",
       "      <td>132</td>\n",
       "      <td>132</td>\n",
       "      <td>132</td>\n",
       "    </tr>\n",
       "    <tr>\n",
       "      <th>SIPO</th>\n",
       "      <td>2262</td>\n",
       "      <td>2262</td>\n",
       "      <td>2262</td>\n",
       "      <td>2262</td>\n",
       "      <td>2262</td>\n",
       "      <td>2262</td>\n",
       "      <td>2262</td>\n",
       "    </tr>\n",
       "    <tr>\n",
       "      <th>SLUZBY</th>\n",
       "      <td>4878</td>\n",
       "      <td>4878</td>\n",
       "      <td>4878</td>\n",
       "      <td>4878</td>\n",
       "      <td>4878</td>\n",
       "      <td>4878</td>\n",
       "      <td>4878</td>\n",
       "    </tr>\n",
       "    <tr>\n",
       "      <th>UROK</th>\n",
       "      <td>6521</td>\n",
       "      <td>6521</td>\n",
       "      <td>6521</td>\n",
       "      <td>6521</td>\n",
       "      <td>6521</td>\n",
       "      <td>6521</td>\n",
       "      <td>6521</td>\n",
       "    </tr>\n",
       "    <tr>\n",
       "      <th>UVER</th>\n",
       "      <td>2113</td>\n",
       "      <td>2113</td>\n",
       "      <td>2113</td>\n",
       "      <td>2113</td>\n",
       "      <td>2113</td>\n",
       "      <td>2113</td>\n",
       "      <td>2113</td>\n",
       "    </tr>\n",
       "  </tbody>\n",
       "</table>\n",
       "</div>"
      ],
      "text/plain": [
       "                       type  operation  t_amount  balance  l_amount  payments  \\\n",
       "duration k_symbol                                                               \n",
       "12.0                  15875      15875     15875    15875     15875     15875   \n",
       "                       1533       1533      1533     1533      1533      1533   \n",
       "         POJISTNE       597        597       597      597       597       597   \n",
       "         SANKC. UROK    136        136       136      136       136       136   \n",
       "         SIPO          2160       2160      2160     2160      2160      2160   \n",
       "         SLUZBY        4764       4764      4764     4764      4764      4764   \n",
       "         UROK          6349       6349      6349     6349      6349      6349   \n",
       "         UVER           803        803       803      803       803       803   \n",
       "24.0                  16782      16782     16782    16782     16782     16782   \n",
       "                       1169       1169      1169     1169      1169      1169   \n",
       "         POJISTNE       461        461       461      461       461       461   \n",
       "         SANKC. UROK    142        142       142      142       142       142   \n",
       "         SIPO          2239       2239      2239     2239      2239      2239   \n",
       "         SLUZBY        5119       5119      5119     5119      5119      5119   \n",
       "         UROK          6825       6825      6825     6825      6825      6825   \n",
       "         UVER          1404       1404      1404     1404      1404      1404   \n",
       "36.0                  13351      13351     13351    13351     13351     13351   \n",
       "                        966        966       966      966       966       966   \n",
       "         POJISTNE       438        438       438      438       438       438   \n",
       "         SANKC. UROK     74         74        74       74        74        74   \n",
       "         SIPO          2059       2059      2059     2059      2059      2059   \n",
       "         SLUZBY        4366       4366      4366     4366      4366      4366   \n",
       "         UROK          5568       5568      5568     5568      5568      5568   \n",
       "         UVER          1594       1594      1594     1594      1594      1594   \n",
       "48.0                  13678      13678     13678    13678     13678     13678   \n",
       "                        987        987       987      987       987       987   \n",
       "         POJISTNE       364        364       364      364       364       364   \n",
       "         SANKC. UROK    105        105       105      105       105       105   \n",
       "         SIPO          1762       1762      1762     1762      1762      1762   \n",
       "         SLUZBY        4465       4465      4465     4465      4465      4465   \n",
       "         UROK          6074       6074      6074     6074      6074      6074   \n",
       "         UVER          1830       1830      1830     1830      1830      1830   \n",
       "60.0                  14260      14260     14260    14260     14260     14260   \n",
       "                       1324       1324      1324     1324      1324      1324   \n",
       "         POJISTNE       552        552       552      552       552       552   \n",
       "         SANKC. UROK    132        132       132      132       132       132   \n",
       "         SIPO          2262       2262      2262     2262      2262      2262   \n",
       "         SLUZBY        4878       4878      4878     4878      4878      4878   \n",
       "         UROK          6521       6521      6521     6521      6521      6521   \n",
       "         UVER          2113       2113      2113     2113      2113      2113   \n",
       "\n",
       "                      status  \n",
       "duration k_symbol             \n",
       "12.0                   15875  \n",
       "                        1533  \n",
       "         POJISTNE        597  \n",
       "         SANKC. UROK     136  \n",
       "         SIPO           2160  \n",
       "         SLUZBY         4764  \n",
       "         UROK           6349  \n",
       "         UVER            803  \n",
       "24.0                   16782  \n",
       "                        1169  \n",
       "         POJISTNE        461  \n",
       "         SANKC. UROK     142  \n",
       "         SIPO           2239  \n",
       "         SLUZBY         5119  \n",
       "         UROK           6825  \n",
       "         UVER           1404  \n",
       "36.0                   13351  \n",
       "                         966  \n",
       "         POJISTNE        438  \n",
       "         SANKC. UROK      74  \n",
       "         SIPO           2059  \n",
       "         SLUZBY         4366  \n",
       "         UROK           5568  \n",
       "         UVER           1594  \n",
       "48.0                   13678  \n",
       "                         987  \n",
       "         POJISTNE        364  \n",
       "         SANKC. UROK     105  \n",
       "         SIPO           1762  \n",
       "         SLUZBY         4465  \n",
       "         UROK           6074  \n",
       "         UVER           1830  \n",
       "60.0                   14260  \n",
       "                        1324  \n",
       "         POJISTNE        552  \n",
       "         SANKC. UROK     132  \n",
       "         SIPO           2262  \n",
       "         SLUZBY         4878  \n",
       "         UROK           6521  \n",
       "         UVER           2113  "
      ]
     },
     "execution_count": 17,
     "metadata": {},
     "output_type": "execute_result"
    }
   ],
   "source": [
    "data.groupby(['duration','k_symbol']).agg('count')"
   ]
  },
  {
   "cell_type": "code",
   "execution_count": 19,
   "metadata": {
    "id": "9Qk7Bce5myrh"
   },
   "outputs": [
    {
     "data": {
      "text/html": [
       "<div>\n",
       "<style scoped>\n",
       "    .dataframe tbody tr th:only-of-type {\n",
       "        vertical-align: middle;\n",
       "    }\n",
       "\n",
       "    .dataframe tbody tr th {\n",
       "        vertical-align: top;\n",
       "    }\n",
       "\n",
       "    .dataframe thead th {\n",
       "        text-align: right;\n",
       "    }\n",
       "</style>\n",
       "<table border=\"1\" class=\"dataframe\">\n",
       "  <thead>\n",
       "    <tr style=\"text-align: right;\">\n",
       "      <th></th>\n",
       "      <th>count</th>\n",
       "      <th>mean</th>\n",
       "      <th>std</th>\n",
       "      <th>min</th>\n",
       "      <th>25%</th>\n",
       "      <th>50%</th>\n",
       "      <th>75%</th>\n",
       "      <th>max</th>\n",
       "    </tr>\n",
       "  </thead>\n",
       "  <tbody>\n",
       "    <tr>\n",
       "      <th>t_amount</th>\n",
       "      <td>156081.0</td>\n",
       "      <td>7795.357503</td>\n",
       "      <td>11707.393031</td>\n",
       "      <td>0.0</td>\n",
       "      <td>144.1</td>\n",
       "      <td>2800.0</td>\n",
       "      <td>9902.0</td>\n",
       "      <td>87300.0</td>\n",
       "    </tr>\n",
       "    <tr>\n",
       "      <th>balance</th>\n",
       "      <td>156081.0</td>\n",
       "      <td>45353.630156</td>\n",
       "      <td>25028.806295</td>\n",
       "      <td>-19310.0</td>\n",
       "      <td>27291.7</td>\n",
       "      <td>40649.5</td>\n",
       "      <td>59162.0</td>\n",
       "      <td>209637.0</td>\n",
       "    </tr>\n",
       "    <tr>\n",
       "      <th>l_amount</th>\n",
       "      <td>156081.0</td>\n",
       "      <td>146822.230995</td>\n",
       "      <td>109974.568837</td>\n",
       "      <td>4980.0</td>\n",
       "      <td>65184.0</td>\n",
       "      <td>111384.0</td>\n",
       "      <td>203940.0</td>\n",
       "      <td>590820.0</td>\n",
       "    </tr>\n",
       "    <tr>\n",
       "      <th>duration</th>\n",
       "      <td>156081.0</td>\n",
       "      <td>35.598209</td>\n",
       "      <td>17.189519</td>\n",
       "      <td>12.0</td>\n",
       "      <td>24.0</td>\n",
       "      <td>36.0</td>\n",
       "      <td>48.0</td>\n",
       "      <td>60.0</td>\n",
       "    </tr>\n",
       "    <tr>\n",
       "      <th>payments</th>\n",
       "      <td>156081.0</td>\n",
       "      <td>4189.309205</td>\n",
       "      <td>2198.565442</td>\n",
       "      <td>304.0</td>\n",
       "      <td>2482.0</td>\n",
       "      <td>3900.0</td>\n",
       "      <td>5900.0</td>\n",
       "      <td>9910.0</td>\n",
       "    </tr>\n",
       "  </tbody>\n",
       "</table>\n",
       "</div>"
      ],
      "text/plain": [
       "             count           mean            std      min      25%       50%  \\\n",
       "t_amount  156081.0    7795.357503   11707.393031      0.0    144.1    2800.0   \n",
       "balance   156081.0   45353.630156   25028.806295 -19310.0  27291.7   40649.5   \n",
       "l_amount  156081.0  146822.230995  109974.568837   4980.0  65184.0  111384.0   \n",
       "duration  156081.0      35.598209      17.189519     12.0     24.0      36.0   \n",
       "payments  156081.0    4189.309205    2198.565442    304.0   2482.0    3900.0   \n",
       "\n",
       "               75%       max  \n",
       "t_amount    9902.0   87300.0  \n",
       "balance    59162.0  209637.0  \n",
       "l_amount  203940.0  590820.0  \n",
       "duration      48.0      60.0  \n",
       "payments    5900.0    9910.0  "
      ]
     },
     "execution_count": 19,
     "metadata": {},
     "output_type": "execute_result"
    }
   ],
   "source": [
    "data.describe().T"
   ]
  },
  {
   "cell_type": "code",
   "execution_count": 20,
   "metadata": {
    "id": "lK-pzuKHmyrh"
   },
   "outputs": [],
   "source": [
    "data['duration'] = data['duration'].astype('object') # This will be treated as categorical"
   ]
  },
  {
   "cell_type": "code",
   "execution_count": 21,
   "metadata": {},
   "outputs": [
    {
     "data": {
      "text/html": [
       "<div>\n",
       "<style scoped>\n",
       "    .dataframe tbody tr th:only-of-type {\n",
       "        vertical-align: middle;\n",
       "    }\n",
       "\n",
       "    .dataframe tbody tr th {\n",
       "        vertical-align: top;\n",
       "    }\n",
       "\n",
       "    .dataframe thead th {\n",
       "        text-align: right;\n",
       "    }\n",
       "</style>\n",
       "<table border=\"1\" class=\"dataframe\">\n",
       "  <thead>\n",
       "    <tr style=\"text-align: right;\">\n",
       "      <th></th>\n",
       "      <th>count</th>\n",
       "      <th>mean</th>\n",
       "      <th>std</th>\n",
       "      <th>min</th>\n",
       "      <th>25%</th>\n",
       "      <th>50%</th>\n",
       "      <th>75%</th>\n",
       "      <th>max</th>\n",
       "    </tr>\n",
       "  </thead>\n",
       "  <tbody>\n",
       "    <tr>\n",
       "      <th>t_amount</th>\n",
       "      <td>156081.0</td>\n",
       "      <td>7795.357503</td>\n",
       "      <td>11707.393031</td>\n",
       "      <td>0.0</td>\n",
       "      <td>144.1</td>\n",
       "      <td>2800.0</td>\n",
       "      <td>9902.0</td>\n",
       "      <td>87300.0</td>\n",
       "    </tr>\n",
       "    <tr>\n",
       "      <th>balance</th>\n",
       "      <td>156081.0</td>\n",
       "      <td>45353.630156</td>\n",
       "      <td>25028.806295</td>\n",
       "      <td>-19310.0</td>\n",
       "      <td>27291.7</td>\n",
       "      <td>40649.5</td>\n",
       "      <td>59162.0</td>\n",
       "      <td>209637.0</td>\n",
       "    </tr>\n",
       "    <tr>\n",
       "      <th>l_amount</th>\n",
       "      <td>156081.0</td>\n",
       "      <td>146822.230995</td>\n",
       "      <td>109974.568837</td>\n",
       "      <td>4980.0</td>\n",
       "      <td>65184.0</td>\n",
       "      <td>111384.0</td>\n",
       "      <td>203940.0</td>\n",
       "      <td>590820.0</td>\n",
       "    </tr>\n",
       "    <tr>\n",
       "      <th>payments</th>\n",
       "      <td>156081.0</td>\n",
       "      <td>4189.309205</td>\n",
       "      <td>2198.565442</td>\n",
       "      <td>304.0</td>\n",
       "      <td>2482.0</td>\n",
       "      <td>3900.0</td>\n",
       "      <td>5900.0</td>\n",
       "      <td>9910.0</td>\n",
       "    </tr>\n",
       "  </tbody>\n",
       "</table>\n",
       "</div>"
      ],
      "text/plain": [
       "             count           mean            std      min      25%       50%  \\\n",
       "t_amount  156081.0    7795.357503   11707.393031      0.0    144.1    2800.0   \n",
       "balance   156081.0   45353.630156   25028.806295 -19310.0  27291.7   40649.5   \n",
       "l_amount  156081.0  146822.230995  109974.568837   4980.0  65184.0  111384.0   \n",
       "payments  156081.0    4189.309205    2198.565442    304.0   2482.0    3900.0   \n",
       "\n",
       "               75%       max  \n",
       "t_amount    9902.0   87300.0  \n",
       "balance    59162.0  209637.0  \n",
       "l_amount  203940.0  590820.0  \n",
       "payments    5900.0    9910.0  "
      ]
     },
     "execution_count": 21,
     "metadata": {},
     "output_type": "execute_result"
    }
   ],
   "source": [
    "data.describe().T"
   ]
  },
  {
   "cell_type": "code",
   "execution_count": 22,
   "metadata": {},
   "outputs": [
    {
     "data": {
      "text/plain": [
       "24.0    34141\n",
       "12.0    32217\n",
       "60.0    32042\n",
       "48.0    29265\n",
       "36.0    28416\n",
       "Name: duration, dtype: int64"
      ]
     },
     "execution_count": 22,
     "metadata": {},
     "output_type": "execute_result"
    }
   ],
   "source": [
    "data['duration'].value_counts()"
   ]
  },
  {
   "cell_type": "code",
   "execution_count": 23,
   "metadata": {
    "id": "HWG9wVnSmyri"
   },
   "outputs": [
    {
     "data": {
      "text/plain": [
       "type         0\n",
       "operation    0\n",
       "t_amount     0\n",
       "balance      0\n",
       "k_symbol     0\n",
       "l_amount     0\n",
       "duration     0\n",
       "payments     0\n",
       "status       0\n",
       "dtype: int64"
      ]
     },
     "execution_count": 23,
     "metadata": {},
     "output_type": "execute_result"
    }
   ],
   "source": [
    "data.isna().sum()"
   ]
  },
  {
   "cell_type": "code",
   "execution_count": 24,
   "metadata": {
    "id": "GW0xT2k-myri",
    "scrolled": true
   },
   "outputs": [
    {
     "data": {
      "text/plain": [
       "VYBER             70189\n",
       "                  31337\n",
       "PREVOD NA UCET    25796\n",
       "VKLAD             22633\n",
       "PREVOD Z UCTU      5336\n",
       "VYBER KARTOU        790\n",
       "Name: operation, dtype: int64"
      ]
     },
     "execution_count": 24,
     "metadata": {},
     "output_type": "execute_result"
    }
   ],
   "source": [
    "data['operation'].value_counts()"
   ]
  },
  {
   "cell_type": "code",
   "execution_count": 25,
   "metadata": {
    "id": "PzTEarU1myri"
   },
   "outputs": [],
   "source": [
    "def cleanOperation(x):\n",
    "    x = x.lower()\n",
    "    if 'vyber' in x:\n",
    "        return \"vyber\"\n",
    "    elif 'prevod' in x:\n",
    "        return \"prevod\"\n",
    "    elif 'vklad' in x:\n",
    "        return 'vklad'\n",
    "    else:\n",
    "        return 'unknown'\n",
    "\n",
    "# data['operation'] = data['operation'].apply(cleanOperation)    \n",
    "data['operation'] = list(map(cleanOperation, data['operation']))"
   ]
  },
  {
   "cell_type": "code",
   "execution_count": 26,
   "metadata": {
    "id": "FFrUd8Qomyri"
   },
   "outputs": [
    {
     "data": {
      "text/plain": [
       "vyber      70979\n",
       "unknown    31337\n",
       "prevod     31132\n",
       "vklad      22633\n",
       "Name: operation, dtype: int64"
      ]
     },
     "execution_count": 26,
     "metadata": {},
     "output_type": "execute_result"
    }
   ],
   "source": [
    "data['operation'].value_counts()"
   ]
  },
  {
   "cell_type": "code",
   "execution_count": 27,
   "metadata": {
    "id": "stVSuVQRmyrj"
   },
   "outputs": [
    {
     "data": {
      "text/plain": [
       "               73946\n",
       "UROK           31337\n",
       "SLUZBY         23592\n",
       "SIPO           10482\n",
       "UVER            7744\n",
       "                5979\n",
       "POJISTNE        2412\n",
       "SANKC. UROK      589\n",
       "Name: k_symbol, dtype: int64"
      ]
     },
     "execution_count": 27,
     "metadata": {},
     "output_type": "execute_result"
    }
   ],
   "source": [
    "data['k_symbol'].value_counts()"
   ]
  },
  {
   "cell_type": "code",
   "execution_count": 28,
   "metadata": {
    "id": "820iye85myrj"
   },
   "outputs": [
    {
     "data": {
      "text/plain": [
       "Index(['', 'UROK', 'SLUZBY', 'SIPO', 'UVER', ' ', 'POJISTNE', 'SANKC. UROK'], dtype='object')"
      ]
     },
     "execution_count": 28,
     "metadata": {},
     "output_type": "execute_result"
    }
   ],
   "source": [
    "data['k_symbol'].value_counts().index"
   ]
  },
  {
   "cell_type": "code",
   "execution_count": 29,
   "metadata": {
    "id": "MEqES2o3myrj"
   },
   "outputs": [],
   "source": [
    "def cleankSymbol(x):\n",
    "    if x in ['', ' ']:\n",
    "        return 'unknown'\n",
    "    else:\n",
    "        return x\n",
    "\n",
    "data['k_symbol'] = list(map(cleankSymbol, data['k_symbol']))"
   ]
  },
  {
   "cell_type": "code",
   "execution_count": 30,
   "metadata": {
    "id": "e_6MaquMmyrj"
   },
   "outputs": [
    {
     "data": {
      "text/plain": [
       "unknown        79925\n",
       "UROK           31337\n",
       "SLUZBY         23592\n",
       "SIPO           10482\n",
       "UVER            7744\n",
       "POJISTNE        2412\n",
       "SANKC. UROK      589\n",
       "Name: k_symbol, dtype: int64"
      ]
     },
     "execution_count": 30,
     "metadata": {},
     "output_type": "execute_result"
    }
   ],
   "source": [
    "data['k_symbol'].value_counts()"
   ]
  },
  {
   "cell_type": "code",
   "execution_count": 31,
   "metadata": {
    "id": "AgQ-rOkJmyrj"
   },
   "outputs": [],
   "source": [
    "data = data[~data['k_symbol'].isin(['POJISTNE', 'SANKC. UROK', 'UVER'])] # ~ : NOT"
   ]
  },
  {
   "cell_type": "code",
   "execution_count": 32,
   "metadata": {},
   "outputs": [
    {
     "data": {
      "text/plain": [
       "62        False\n",
       "63        False\n",
       "69        False\n",
       "75        False\n",
       "96        False\n",
       "          ...  \n",
       "867954    False\n",
       "867981    False\n",
       "867986    False\n",
       "867997    False\n",
       "868011    False\n",
       "Name: k_symbol, Length: 145336, dtype: bool"
      ]
     },
     "execution_count": 32,
     "metadata": {},
     "output_type": "execute_result"
    }
   ],
   "source": [
    "data['k_symbol'].isin(['POJISTNE', 'SANKC. UROK', 'UVER'])"
   ]
  },
  {
   "cell_type": "code",
   "execution_count": null,
   "metadata": {
    "id": "yZf7s7GAmyrk"
   },
   "outputs": [],
   "source": [
    "# discuss disadvantages and alternatives to dropping rows"
   ]
  },
  {
   "cell_type": "code",
   "execution_count": 33,
   "metadata": {
    "id": "cANrMGI3myrk"
   },
   "outputs": [
    {
     "data": {
      "text/plain": [
       "VYDAJ     80683\n",
       "PRIJEM    59306\n",
       "VYBER      5347\n",
       "Name: type, dtype: int64"
      ]
     },
     "execution_count": 33,
     "metadata": {},
     "output_type": "execute_result"
    }
   ],
   "source": [
    "data['type'].value_counts()"
   ]
  },
  {
   "cell_type": "code",
   "execution_count": 36,
   "metadata": {
    "id": "V77dAiicmyrk"
   },
   "outputs": [
    {
     "data": {
      "text/html": [
       "<div>\n",
       "<style scoped>\n",
       "    .dataframe tbody tr th:only-of-type {\n",
       "        vertical-align: middle;\n",
       "    }\n",
       "\n",
       "    .dataframe tbody tr th {\n",
       "        vertical-align: top;\n",
       "    }\n",
       "\n",
       "    .dataframe thead th {\n",
       "        text-align: right;\n",
       "    }\n",
       "</style>\n",
       "<table border=\"1\" class=\"dataframe\">\n",
       "  <thead>\n",
       "    <tr style=\"text-align: right;\">\n",
       "      <th>operation</th>\n",
       "      <th>prevod</th>\n",
       "      <th>unknown</th>\n",
       "      <th>vklad</th>\n",
       "      <th>vyber</th>\n",
       "    </tr>\n",
       "    <tr>\n",
       "      <th>type</th>\n",
       "      <th></th>\n",
       "      <th></th>\n",
       "      <th></th>\n",
       "      <th></th>\n",
       "    </tr>\n",
       "  </thead>\n",
       "  <tbody>\n",
       "    <tr>\n",
       "      <th>PRIJEM</th>\n",
       "      <td>5336</td>\n",
       "      <td>31337</td>\n",
       "      <td>22633</td>\n",
       "      <td>0</td>\n",
       "    </tr>\n",
       "    <tr>\n",
       "      <th>VYBER</th>\n",
       "      <td>0</td>\n",
       "      <td>0</td>\n",
       "      <td>0</td>\n",
       "      <td>5347</td>\n",
       "    </tr>\n",
       "    <tr>\n",
       "      <th>VYDAJ</th>\n",
       "      <td>15640</td>\n",
       "      <td>0</td>\n",
       "      <td>0</td>\n",
       "      <td>65043</td>\n",
       "    </tr>\n",
       "  </tbody>\n",
       "</table>\n",
       "</div>"
      ],
      "text/plain": [
       "operation  prevod  unknown  vklad  vyber\n",
       "type                                    \n",
       "PRIJEM       5336    31337  22633      0\n",
       "VYBER           0        0      0   5347\n",
       "VYDAJ       15640        0      0  65043"
      ]
     },
     "execution_count": 36,
     "metadata": {},
     "output_type": "execute_result"
    }
   ],
   "source": [
    "# Activity 2:\n",
    "# Explore values in columns TYPE and OPERATION. \n",
    "# How many different combinations of each type and operation are there? \n",
    "# How many rows for each combination? \n",
    "# (You may want to check out pandas.crosstab function.)\n",
    "pd.crosstab(data['type'],data['operation'])\n",
    "\n"
   ]
  },
  {
   "cell_type": "code",
   "execution_count": 37,
   "metadata": {
    "id": "c747Nstxmyrk"
   },
   "outputs": [
    {
     "data": {
      "text/plain": [
       "VYDAJ     80683\n",
       "PRIJEM    59306\n",
       "VYBER      5347\n",
       "Name: type, dtype: int64"
      ]
     },
     "execution_count": 37,
     "metadata": {},
     "output_type": "execute_result"
    }
   ],
   "source": [
    "data.type.value_counts()"
   ]
  },
  {
   "cell_type": "code",
   "execution_count": 38,
   "metadata": {
    "id": "VoUzV98wmyrk"
   },
   "outputs": [
    {
     "data": {
      "text/plain": [
       "<AxesSubplot:xlabel='type', ylabel='count'>"
      ]
     },
     "execution_count": 38,
     "metadata": {},
     "output_type": "execute_result"
    },
    {
     "data": {
      "image/png": "[encoded data removed]",
      "text/plain": [
       "<Figure size 432x288 with 1 Axes>"
      ]
     },
     "metadata": {
      "needs_background": "light"
     },
     "output_type": "display_data"
    }
   ],
   "source": [
    "import seaborn as sns\n",
    "%matplotlib inline\n",
    "sns.countplot(x=data.type)"
   ]
  },
  {
   "cell_type": "code",
   "execution_count": 39,
   "metadata": {
    "id": "s59mwC8Gmyrk"
   },
   "outputs": [
    {
     "data": {
      "text/plain": [
       "vyber      70390\n",
       "unknown    31337\n",
       "vklad      22633\n",
       "prevod     20976\n",
       "Name: operation, dtype: int64"
      ]
     },
     "execution_count": 39,
     "metadata": {},
     "output_type": "execute_result"
    }
   ],
   "source": [
    "data.operation.value_counts()"
   ]
  },
  {
   "cell_type": "code",
   "execution_count": 40,
   "metadata": {
    "id": "FBBW7lhrmyrl"
   },
   "outputs": [
    {
     "data": {
      "text/plain": [
       "<AxesSubplot:xlabel='operation', ylabel='count'>"
      ]
     },
     "execution_count": 40,
     "metadata": {},
     "output_type": "execute_result"
    },
    {
     "data": {
      "image/png": "[encoded data removed]",
      "text/plain": [
       "<Figure size 432x288 with 1 Axes>"
      ]
     },
     "metadata": {
      "needs_background": "light"
     },
     "output_type": "display_data"
    }
   ],
   "source": [
    "sns.countplot(x=data.operation)"
   ]
  },
  {
   "cell_type": "code",
   "execution_count": 33,
   "metadata": {
    "id": "62M1nuY6myrl"
   },
   "outputs": [
    {
     "data": {
      "text/html": [
       "<div>\n",
       "<style scoped>\n",
       "    .dataframe tbody tr th:only-of-type {\n",
       "        vertical-align: middle;\n",
       "    }\n",
       "\n",
       "    .dataframe tbody tr th {\n",
       "        vertical-align: top;\n",
       "    }\n",
       "\n",
       "    .dataframe thead th {\n",
       "        text-align: right;\n",
       "    }\n",
       "</style>\n",
       "<table border=\"1\" class=\"dataframe\">\n",
       "  <thead>\n",
       "    <tr style=\"text-align: right;\">\n",
       "      <th>operation</th>\n",
       "      <th>prevod</th>\n",
       "      <th>unknown</th>\n",
       "      <th>vklad</th>\n",
       "      <th>vyber</th>\n",
       "    </tr>\n",
       "    <tr>\n",
       "      <th>type</th>\n",
       "      <th></th>\n",
       "      <th></th>\n",
       "      <th></th>\n",
       "      <th></th>\n",
       "    </tr>\n",
       "  </thead>\n",
       "  <tbody>\n",
       "    <tr>\n",
       "      <th>PRIJEM</th>\n",
       "      <td>5336</td>\n",
       "      <td>31337</td>\n",
       "      <td>22633</td>\n",
       "      <td>0</td>\n",
       "    </tr>\n",
       "    <tr>\n",
       "      <th>VYBER</th>\n",
       "      <td>0</td>\n",
       "      <td>0</td>\n",
       "      <td>0</td>\n",
       "      <td>5347</td>\n",
       "    </tr>\n",
       "    <tr>\n",
       "      <th>VYDAJ</th>\n",
       "      <td>15640</td>\n",
       "      <td>0</td>\n",
       "      <td>0</td>\n",
       "      <td>65043</td>\n",
       "    </tr>\n",
       "  </tbody>\n",
       "</table>\n",
       "</div>"
      ],
      "text/plain": [
       "operation  prevod  unknown  vklad  vyber\n",
       "type                                    \n",
       "PRIJEM       5336    31337  22633      0\n",
       "VYBER           0        0      0   5347\n",
       "VYDAJ       15640        0      0  65043"
      ]
     },
     "execution_count": 33,
     "metadata": {},
     "output_type": "execute_result"
    }
   ],
   "source": [
    "pd.crosstab(data.type, data.operation)"
   ]
  },
  {
   "cell_type": "code",
   "execution_count": null,
   "metadata": {
    "id": "CMnSwY1Hmyrl"
   },
   "outputs": [],
   "source": [
    "#End Activity 2"
   ]
  },
  {
   "cell_type": "code",
   "execution_count": 41,
   "metadata": {
    "id": "8HlGeRnfmyrl"
   },
   "outputs": [],
   "source": [
    "import matplotlib.pyplot as plt"
   ]
  },
  {
   "cell_type": "code",
   "execution_count": 42,
   "metadata": {
    "id": "4chcGB59myrl"
   },
   "outputs": [
    {
     "data": {
      "image/png": "[encoded data removed]",
      "text/plain": [
       "<Figure size 720x576 with 2 Axes>"
      ]
     },
     "metadata": {
      "needs_background": "light"
     },
     "output_type": "display_data"
    }
   ],
   "source": [
    "# look for multicolinearity (some columns having almost identical correlation to other variables)\n",
    "# why can't we look for correlation with our target variable (status)?\n",
    "corr_matrix=data.corr(method='pearson')  # default\n",
    "fig, ax = plt.subplots(figsize=(10, 8))\n",
    "ax = sns.heatmap(corr_matrix, annot=True)\n",
    "plt.show()"
   ]
  },
  {
   "cell_type": "code",
   "execution_count": 43,
   "metadata": {
    "id": "twruFD1rmyrl",
    "scrolled": true
   },
   "outputs": [
    {
     "name": "stderr",
     "output_type": "stream",
     "text": [
      "/opt/anaconda3/lib/python3.8/site-packages/seaborn/distributions.py:2619: FutureWarning: `distplot` is a deprecated function and will be removed in a future version. Please adapt your code to use either `displot` (a figure-level function with similar flexibility) or `histplot` (an axes-level function for histograms).\n",
      "  warnings.warn(msg, FutureWarning)\n"
     ]
    },
    {
     "data": {
      "image/png": "[encoded data removed]",
      "text/plain": [
       "<Figure size 432x288 with 1 Axes>"
      ]
     },
     "metadata": {
      "needs_background": "light"
     },
     "output_type": "display_data"
    },
    {
     "name": "stderr",
     "output_type": "stream",
     "text": [
      "/opt/anaconda3/lib/python3.8/site-packages/seaborn/distributions.py:2619: FutureWarning: `distplot` is a deprecated function and will be removed in a future version. Please adapt your code to use either `displot` (a figure-level function with similar flexibility) or `histplot` (an axes-level function for histograms).\n",
      "  warnings.warn(msg, FutureWarning)\n"
     ]
    },
    {
     "data": {
      "image/png": "[encoded data removed]",
      "text/plain": [
       "<Figure size 432x288 with 1 Axes>"
      ]
     },
     "metadata": {
      "needs_background": "light"
     },
     "output_type": "display_data"
    },
    {
     "name": "stderr",
     "output_type": "stream",
     "text": [
      "/opt/anaconda3/lib/python3.8/site-packages/seaborn/distributions.py:2619: FutureWarning: `distplot` is a deprecated function and will be removed in a future version. Please adapt your code to use either `displot` (a figure-level function with similar flexibility) or `histplot` (an axes-level function for histograms).\n",
      "  warnings.warn(msg, FutureWarning)\n"
     ]
    },
    {
     "data": {
      "image/png": "[encoded data removed]",
      "text/plain": [
       "<Figure size 432x288 with 1 Axes>"
      ]
     },
     "metadata": {
      "needs_background": "light"
     },
     "output_type": "display_data"
    },
    {
     "name": "stderr",
     "output_type": "stream",
     "text": [
      "/opt/anaconda3/lib/python3.8/site-packages/seaborn/distributions.py:2619: FutureWarning: `distplot` is a deprecated function and will be removed in a future version. Please adapt your code to use either `displot` (a figure-level function with similar flexibility) or `histplot` (an axes-level function for histograms).\n",
      "  warnings.warn(msg, FutureWarning)\n"
     ]
    },
    {
     "data": {
      "image/png": "[encoded data removed]",
      "text/plain": [
       "<Figure size 432x288 with 1 Axes>"
      ]
     },
     "metadata": {
      "needs_background": "light"
     },
     "output_type": "display_data"
    }
   ],
   "source": [
    "# look at the scale and distribution of values\n",
    "sns.distplot(data['t_amount'])\n",
    "plt.show()\n",
    "\n",
    "sns.distplot(data['l_amount'])\n",
    "plt.show()\n",
    "\n",
    "sns.distplot(data['balance'])\n",
    "plt.show()\n",
    "\n",
    "sns.distplot(data['payments'])\n",
    "plt.show()"
   ]
  },
  {
   "cell_type": "code",
   "execution_count": 46,
   "metadata": {
    "id": "9KUOmU4Kmyrm"
   },
   "outputs": [
    {
     "name": "stderr",
     "output_type": "stream",
     "text": [
      "<ipython-input-46-fb5ce4fb72e0>:7: DeprecationWarning: `np.object` is a deprecated alias for the builtin `object`. To silence this warning, use `object` by itself. Doing this will not modify any behavior and is safe. \n",
      "Deprecated in NumPy 1.20; for more details and guidance: https://numpy.org/devdocs/release/1.20.0-notes.html#deprecations\n",
      "  X_cat = data.select_dtypes(include = np.object)\n"
     ]
    },
    {
     "data": {
      "text/html": [
       "<div>\n",
       "<style scoped>\n",
       "    .dataframe tbody tr th:only-of-type {\n",
       "        vertical-align: middle;\n",
       "    }\n",
       "\n",
       "    .dataframe tbody tr th {\n",
       "        vertical-align: top;\n",
       "    }\n",
       "\n",
       "    .dataframe thead th {\n",
       "        text-align: right;\n",
       "    }\n",
       "</style>\n",
       "<table border=\"1\" class=\"dataframe\">\n",
       "  <thead>\n",
       "    <tr style=\"text-align: right;\">\n",
       "      <th></th>\n",
       "      <th>t_amount</th>\n",
       "      <th>balance</th>\n",
       "      <th>l_amount</th>\n",
       "      <th>payments</th>\n",
       "    </tr>\n",
       "  </thead>\n",
       "  <tbody>\n",
       "    <tr>\n",
       "      <th>0</th>\n",
       "      <td>0.512589</td>\n",
       "      <td>0.282709</td>\n",
       "      <td>0.127386</td>\n",
       "      <td>0.313658</td>\n",
       "    </tr>\n",
       "    <tr>\n",
       "      <th>1</th>\n",
       "      <td>0.011455</td>\n",
       "      <td>0.087968</td>\n",
       "      <td>0.081606</td>\n",
       "      <td>0.426296</td>\n",
       "    </tr>\n",
       "    <tr>\n",
       "      <th>2</th>\n",
       "      <td>0.012600</td>\n",
       "      <td>0.088405</td>\n",
       "      <td>0.028923</td>\n",
       "      <td>0.031751</td>\n",
       "    </tr>\n",
       "    <tr>\n",
       "      <th>3</th>\n",
       "      <td>0.008018</td>\n",
       "      <td>0.086657</td>\n",
       "      <td>0.030848</td>\n",
       "      <td>0.168332</td>\n",
       "    </tr>\n",
       "    <tr>\n",
       "      <th>4</th>\n",
       "      <td>0.010309</td>\n",
       "      <td>0.087531</td>\n",
       "      <td>0.063027</td>\n",
       "      <td>0.331876</td>\n",
       "    </tr>\n",
       "  </tbody>\n",
       "</table>\n",
       "</div>"
      ],
      "text/plain": [
       "   t_amount   balance  l_amount  payments\n",
       "0  0.512589  0.282709  0.127386  0.313658\n",
       "1  0.011455  0.087968  0.081606  0.426296\n",
       "2  0.012600  0.088405  0.028923  0.031751\n",
       "3  0.008018  0.086657  0.030848  0.168332\n",
       "4  0.010309  0.087531  0.063027  0.331876"
      ]
     },
     "execution_count": 46,
     "metadata": {},
     "output_type": "execute_result"
    }
   ],
   "source": [
    "import numpy as np\n",
    "\n",
    "from sklearn.preprocessing import MinMaxScaler \n",
    "# from sklearn.preprocessing import StandardScaler\n",
    "\n",
    "X_num = data.select_dtypes(include = np.number)\n",
    "X_cat = data.select_dtypes(include = np.object)\n",
    "\n",
    "# Scaling data\n",
    "transformer = MinMaxScaler().fit(X_num)\n",
    "x_normalized = transformer.transform(X_num)\n",
    "x_norm = pd.DataFrame(x_normalized, columns=X_num.columns)\n",
    "x_norm.head()"
   ]
  },
  {
   "cell_type": "code",
   "execution_count": 47,
   "metadata": {},
   "outputs": [],
   "source": [
    "# Need to X-y split and train-test-split BEFORE I apply transformations, \n",
    "# then train transformation on training set only\n",
    "y = data['status']\n",
    "X = data.drop('status', axis=1)\n",
    "\n",
    "from sklearn.model_selection import train_test_split\n",
    "\n",
    "X_train, X_test, y_train, y_test = train_test_split(X, y, test_size=0.2, random_state=1337)"
   ]
  },
  {
   "cell_type": "code",
   "execution_count": 49,
   "metadata": {},
   "outputs": [],
   "source": [
    "import numpy as np\n",
    "from sklearn.preprocessing import MinMaxScaler\n",
    "# from sklearn.preprocessing import StandardScaler\n",
    "\n",
    "X_train_num = X_train.select_dtypes(include = np.number)\n",
    "\n",
    "# Scaling data\n",
    "transformer = MinMaxScaler().fit(X_train_num) # need to keep transformer\n",
    "X_train_normalized = transformer.transform(X_train_num)\n",
    "X_train_norm = pd.DataFrame(X_train_normalized, columns=X_train_num.columns)"
   ]
  },
  {
   "cell_type": "code",
   "execution_count": 50,
   "metadata": {},
   "outputs": [
    {
     "data": {
      "text/html": [
       "<div>\n",
       "<style scoped>\n",
       "    .dataframe tbody tr th:only-of-type {\n",
       "        vertical-align: middle;\n",
       "    }\n",
       "\n",
       "    .dataframe tbody tr th {\n",
       "        vertical-align: top;\n",
       "    }\n",
       "\n",
       "    .dataframe thead th {\n",
       "        text-align: right;\n",
       "    }\n",
       "</style>\n",
       "<table border=\"1\" class=\"dataframe\">\n",
       "  <thead>\n",
       "    <tr style=\"text-align: right;\">\n",
       "      <th></th>\n",
       "      <th>t_amount</th>\n",
       "      <th>balance</th>\n",
       "      <th>l_amount</th>\n",
       "      <th>payments</th>\n",
       "    </tr>\n",
       "  </thead>\n",
       "  <tbody>\n",
       "    <tr>\n",
       "      <th>0</th>\n",
       "      <td>0.002688</td>\n",
       "      <td>0.366028</td>\n",
       "      <td>0.138058</td>\n",
       "      <td>0.117323</td>\n",
       "    </tr>\n",
       "    <tr>\n",
       "      <th>1</th>\n",
       "      <td>0.002611</td>\n",
       "      <td>0.334904</td>\n",
       "      <td>0.314625</td>\n",
       "      <td>0.296794</td>\n",
       "    </tr>\n",
       "    <tr>\n",
       "      <th>2</th>\n",
       "      <td>0.459416</td>\n",
       "      <td>0.411760</td>\n",
       "      <td>0.295002</td>\n",
       "      <td>0.482511</td>\n",
       "    </tr>\n",
       "    <tr>\n",
       "      <th>3</th>\n",
       "      <td>0.251718</td>\n",
       "      <td>0.187055</td>\n",
       "      <td>0.470197</td>\n",
       "      <td>0.454924</td>\n",
       "    </tr>\n",
       "    <tr>\n",
       "      <th>4</th>\n",
       "      <td>0.000167</td>\n",
       "      <td>0.357972</td>\n",
       "      <td>0.151884</td>\n",
       "      <td>0.131376</td>\n",
       "    </tr>\n",
       "    <tr>\n",
       "      <th>...</th>\n",
       "      <td>...</td>\n",
       "      <td>...</td>\n",
       "      <td>...</td>\n",
       "      <td>...</td>\n",
       "    </tr>\n",
       "    <tr>\n",
       "      <th>116263</th>\n",
       "      <td>0.271478</td>\n",
       "      <td>0.232193</td>\n",
       "      <td>0.347091</td>\n",
       "      <td>0.420154</td>\n",
       "    </tr>\n",
       "    <tr>\n",
       "      <th>116264</th>\n",
       "      <td>0.427721</td>\n",
       "      <td>0.378555</td>\n",
       "      <td>0.621159</td>\n",
       "      <td>0.608370</td>\n",
       "    </tr>\n",
       "    <tr>\n",
       "      <th>116265</th>\n",
       "      <td>0.264536</td>\n",
       "      <td>0.357496</td>\n",
       "      <td>0.220176</td>\n",
       "      <td>0.258901</td>\n",
       "    </tr>\n",
       "    <tr>\n",
       "      <th>116266</th>\n",
       "      <td>0.569084</td>\n",
       "      <td>0.496394</td>\n",
       "      <td>0.288181</td>\n",
       "      <td>0.722257</td>\n",
       "    </tr>\n",
       "    <tr>\n",
       "      <th>116267</th>\n",
       "      <td>0.365407</td>\n",
       "      <td>0.348174</td>\n",
       "      <td>0.107763</td>\n",
       "      <td>0.559234</td>\n",
       "    </tr>\n",
       "  </tbody>\n",
       "</table>\n",
       "<p>116268 rows × 4 columns</p>\n",
       "</div>"
      ],
      "text/plain": [
       "        t_amount   balance  l_amount  payments\n",
       "0       0.002688  0.366028  0.138058  0.117323\n",
       "1       0.002611  0.334904  0.314625  0.296794\n",
       "2       0.459416  0.411760  0.295002  0.482511\n",
       "3       0.251718  0.187055  0.470197  0.454924\n",
       "4       0.000167  0.357972  0.151884  0.131376\n",
       "...          ...       ...       ...       ...\n",
       "116263  0.271478  0.232193  0.347091  0.420154\n",
       "116264  0.427721  0.378555  0.621159  0.608370\n",
       "116265  0.264536  0.357496  0.220176  0.258901\n",
       "116266  0.569084  0.496394  0.288181  0.722257\n",
       "116267  0.365407  0.348174  0.107763  0.559234\n",
       "\n",
       "[116268 rows x 4 columns]"
      ]
     },
     "execution_count": 50,
     "metadata": {},
     "output_type": "execute_result"
    }
   ],
   "source": [
    "X_train_norm"
   ]
  },
  {
   "cell_type": "code",
   "execution_count": 41,
   "metadata": {},
   "outputs": [
    {
     "data": {
      "text/html": [
       "<div>\n",
       "<style scoped>\n",
       "    .dataframe tbody tr th:only-of-type {\n",
       "        vertical-align: middle;\n",
       "    }\n",
       "\n",
       "    .dataframe tbody tr th {\n",
       "        vertical-align: top;\n",
       "    }\n",
       "\n",
       "    .dataframe thead th {\n",
       "        text-align: right;\n",
       "    }\n",
       "</style>\n",
       "<table border=\"1\" class=\"dataframe\">\n",
       "  <thead>\n",
       "    <tr style=\"text-align: right;\">\n",
       "      <th></th>\n",
       "      <th>t_amount</th>\n",
       "      <th>balance</th>\n",
       "      <th>l_amount</th>\n",
       "      <th>payments</th>\n",
       "    </tr>\n",
       "  </thead>\n",
       "  <tbody>\n",
       "    <tr>\n",
       "      <th>0</th>\n",
       "      <td>0.002688</td>\n",
       "      <td>0.366028</td>\n",
       "      <td>0.138058</td>\n",
       "      <td>0.117323</td>\n",
       "    </tr>\n",
       "    <tr>\n",
       "      <th>1</th>\n",
       "      <td>0.002611</td>\n",
       "      <td>0.334904</td>\n",
       "      <td>0.314625</td>\n",
       "      <td>0.296794</td>\n",
       "    </tr>\n",
       "    <tr>\n",
       "      <th>2</th>\n",
       "      <td>0.459416</td>\n",
       "      <td>0.411760</td>\n",
       "      <td>0.295002</td>\n",
       "      <td>0.482511</td>\n",
       "    </tr>\n",
       "    <tr>\n",
       "      <th>3</th>\n",
       "      <td>0.251718</td>\n",
       "      <td>0.187055</td>\n",
       "      <td>0.470197</td>\n",
       "      <td>0.454924</td>\n",
       "    </tr>\n",
       "    <tr>\n",
       "      <th>4</th>\n",
       "      <td>0.000167</td>\n",
       "      <td>0.357972</td>\n",
       "      <td>0.151884</td>\n",
       "      <td>0.131376</td>\n",
       "    </tr>\n",
       "  </tbody>\n",
       "</table>\n",
       "</div>"
      ],
      "text/plain": [
       "   t_amount   balance  l_amount  payments\n",
       "0  0.002688  0.366028  0.138058  0.117323\n",
       "1  0.002611  0.334904  0.314625  0.296794\n",
       "2  0.459416  0.411760  0.295002  0.482511\n",
       "3  0.251718  0.187055  0.470197  0.454924\n",
       "4  0.000167  0.357972  0.151884  0.131376"
      ]
     },
     "execution_count": 41,
     "metadata": {},
     "output_type": "execute_result"
    }
   ],
   "source": [
    "X_train_norm.columns = X_train_num.columns\n",
    "X_train_norm.head()"
   ]
  },
  {
   "cell_type": "code",
   "execution_count": 51,
   "metadata": {
    "id": "q3zKkBWymyrm"
   },
   "outputs": [
    {
     "name": "stderr",
     "output_type": "stream",
     "text": [
      "<ipython-input-51-6dd11e4cf7e6>:1: DeprecationWarning: `np.object` is a deprecated alias for the builtin `object`. To silence this warning, use `object` by itself. Doing this will not modify any behavior and is safe. \n",
      "Deprecated in NumPy 1.20; for more details and guidance: https://numpy.org/devdocs/release/1.20.0-notes.html#deprecations\n",
      "  X_train_categorical = X_train.select_dtypes(include = np.object)\n",
      "/opt/anaconda3/lib/python3.8/site-packages/pandas/core/algorithms.py:798: FutureWarning: In a future version, the Index constructor will not infer numeric dtypes when passed object-dtype sequences (matching Series behavior)\n",
      "  uniques = Index(uniques)\n"
     ]
    },
    {
     "data": {
      "text/html": [
       "<div>\n",
       "<style scoped>\n",
       "    .dataframe tbody tr th:only-of-type {\n",
       "        vertical-align: middle;\n",
       "    }\n",
       "\n",
       "    .dataframe tbody tr th {\n",
       "        vertical-align: top;\n",
       "    }\n",
       "\n",
       "    .dataframe thead th {\n",
       "        text-align: right;\n",
       "    }\n",
       "</style>\n",
       "<table border=\"1\" class=\"dataframe\">\n",
       "  <thead>\n",
       "    <tr style=\"text-align: right;\">\n",
       "      <th></th>\n",
       "      <th>type_VYBER</th>\n",
       "      <th>type_VYDAJ</th>\n",
       "      <th>operation_unknown</th>\n",
       "      <th>operation_vklad</th>\n",
       "      <th>operation_vyber</th>\n",
       "      <th>k_symbol_SLUZBY</th>\n",
       "      <th>k_symbol_UROK</th>\n",
       "      <th>k_symbol_unknown</th>\n",
       "      <th>duration_24.0</th>\n",
       "      <th>duration_36.0</th>\n",
       "      <th>duration_48.0</th>\n",
       "      <th>duration_60.0</th>\n",
       "    </tr>\n",
       "  </thead>\n",
       "  <tbody>\n",
       "    <tr>\n",
       "      <th>723555</th>\n",
       "      <td>0</td>\n",
       "      <td>0</td>\n",
       "      <td>1</td>\n",
       "      <td>0</td>\n",
       "      <td>0</td>\n",
       "      <td>0</td>\n",
       "      <td>1</td>\n",
       "      <td>0</td>\n",
       "      <td>0</td>\n",
       "      <td>0</td>\n",
       "      <td>0</td>\n",
       "      <td>1</td>\n",
       "    </tr>\n",
       "    <tr>\n",
       "      <th>698742</th>\n",
       "      <td>0</td>\n",
       "      <td>0</td>\n",
       "      <td>1</td>\n",
       "      <td>0</td>\n",
       "      <td>0</td>\n",
       "      <td>0</td>\n",
       "      <td>1</td>\n",
       "      <td>0</td>\n",
       "      <td>0</td>\n",
       "      <td>0</td>\n",
       "      <td>0</td>\n",
       "      <td>1</td>\n",
       "    </tr>\n",
       "    <tr>\n",
       "      <th>662787</th>\n",
       "      <td>0</td>\n",
       "      <td>0</td>\n",
       "      <td>0</td>\n",
       "      <td>1</td>\n",
       "      <td>0</td>\n",
       "      <td>0</td>\n",
       "      <td>0</td>\n",
       "      <td>1</td>\n",
       "      <td>0</td>\n",
       "      <td>1</td>\n",
       "      <td>0</td>\n",
       "      <td>0</td>\n",
       "    </tr>\n",
       "    <tr>\n",
       "      <th>670903</th>\n",
       "      <td>1</td>\n",
       "      <td>0</td>\n",
       "      <td>0</td>\n",
       "      <td>0</td>\n",
       "      <td>1</td>\n",
       "      <td>0</td>\n",
       "      <td>0</td>\n",
       "      <td>1</td>\n",
       "      <td>0</td>\n",
       "      <td>0</td>\n",
       "      <td>0</td>\n",
       "      <td>1</td>\n",
       "    </tr>\n",
       "    <tr>\n",
       "      <th>311845</th>\n",
       "      <td>0</td>\n",
       "      <td>1</td>\n",
       "      <td>0</td>\n",
       "      <td>0</td>\n",
       "      <td>1</td>\n",
       "      <td>1</td>\n",
       "      <td>0</td>\n",
       "      <td>0</td>\n",
       "      <td>0</td>\n",
       "      <td>0</td>\n",
       "      <td>0</td>\n",
       "      <td>1</td>\n",
       "    </tr>\n",
       "  </tbody>\n",
       "</table>\n",
       "</div>"
      ],
      "text/plain": [
       "        type_VYBER  type_VYDAJ  operation_unknown  operation_vklad  \\\n",
       "723555           0           0                  1                0   \n",
       "698742           0           0                  1                0   \n",
       "662787           0           0                  0                1   \n",
       "670903           1           0                  0                0   \n",
       "311845           0           1                  0                0   \n",
       "\n",
       "        operation_vyber  k_symbol_SLUZBY  k_symbol_UROK  k_symbol_unknown  \\\n",
       "723555                0                0              1                 0   \n",
       "698742                0                0              1                 0   \n",
       "662787                0                0              0                 1   \n",
       "670903                1                0              0                 1   \n",
       "311845                1                1              0                 0   \n",
       "\n",
       "        duration_24.0  duration_36.0  duration_48.0  duration_60.0  \n",
       "723555              0              0              0              1  \n",
       "698742              0              0              0              1  \n",
       "662787              0              1              0              0  \n",
       "670903              0              0              0              1  \n",
       "311845              0              0              0              1  "
      ]
     },
     "execution_count": 51,
     "metadata": {},
     "output_type": "execute_result"
    }
   ],
   "source": [
    "X_train_categorical = X_train.select_dtypes(include = np.object)\n",
    "\n",
    "X_train_cat = pd.get_dummies(X_train_categorical, \n",
    "                             columns=['type', 'operation', 'k_symbol', 'duration'],\n",
    "                             drop_first=True)\n",
    "X_train_cat.head()"
   ]
  },
  {
   "cell_type": "code",
   "execution_count": null,
   "metadata": {
    "id": "ZAv0_WvJmyrm"
   },
   "outputs": [],
   "source": [
    "# Activity 3\n",
    "# Explore visually the transformed numerical columns. What do you see?\n",
    "# Another typical transformation for numerical columns is to take the logarithm. \n",
    "# Apply the log transform to columns balance and t_ammount and compare the results with the scaled data."
   ]
  },
  {
   "cell_type": "code",
   "execution_count": 52,
   "metadata": {
    "id": "xMR9c6-Omyrm",
    "scrolled": true
   },
   "outputs": [
    {
     "data": {
      "image/png": "[encoded data removed]",
      "text/plain": [
       "<Figure size 360x360 with 1 Axes>"
      ]
     },
     "metadata": {
      "needs_background": "light"
     },
     "output_type": "display_data"
    },
    {
     "data": {
      "image/png": "[encoded data removed]",
      "text/plain": [
       "<Figure size 360x360 with 1 Axes>"
      ]
     },
     "metadata": {
      "needs_background": "light"
     },
     "output_type": "display_data"
    },
    {
     "data": {
      "image/png": "[encoded data removed]",
      "text/plain": [
       "<Figure size 360x360 with 1 Axes>"
      ]
     },
     "metadata": {
      "needs_background": "light"
     },
     "output_type": "display_data"
    },
    {
     "data": {
      "image/png": "[encoded data removed]",
      "text/plain": [
       "<Figure size 360x360 with 1 Axes>"
      ]
     },
     "metadata": {
      "needs_background": "light"
     },
     "output_type": "display_data"
    }
   ],
   "source": [
    "sns.displot(X_train_norm['t_amount'])\n",
    "plt.show()\n",
    "\n",
    "sns.displot(X_train_norm['l_amount'])\n",
    "plt.show()\n",
    "\n",
    "sns.displot(X_train_norm['balance'])\n",
    "plt.show()\n",
    "\n",
    "sns.displot(X_train_norm['payments'])\n",
    "plt.show()"
   ]
  },
  {
   "cell_type": "code",
   "execution_count": 53,
   "metadata": {
    "id": "mx1BEfS3myrn"
   },
   "outputs": [
    {
     "name": "stderr",
     "output_type": "stream",
     "text": [
      "/opt/anaconda3/lib/python3.8/site-packages/seaborn/distributions.py:2619: FutureWarning: `distplot` is a deprecated function and will be removed in a future version. Please adapt your code to use either `displot` (a figure-level function with similar flexibility) or `histplot` (an axes-level function for histograms).\n",
      "  warnings.warn(msg, FutureWarning)\n",
      "/opt/anaconda3/lib/python3.8/site-packages/seaborn/distributions.py:2619: FutureWarning: `distplot` is a deprecated function and will be removed in a future version. Please adapt your code to use either `displot` (a figure-level function with similar flexibility) or `histplot` (an axes-level function for histograms).\n",
      "  warnings.warn(msg, FutureWarning)\n"
     ]
    },
    {
     "data": {
      "image/png": "[encoded data removed]",
      "text/plain": [
       "<Figure size 432x288 with 1 Axes>"
      ]
     },
     "metadata": {
      "needs_background": "light"
     },
     "output_type": "display_data"
    }
   ],
   "source": [
    "sns.distplot(X_train_norm['balance']) # normalized\n",
    "sns.distplot(X_train_num['balance'].apply(lambda x:np.log(x))) # divide by twelve to get a 0-1 scale\n",
    "plt.show()\n"
   ]
  },
  {
   "cell_type": "code",
   "execution_count": 45,
   "metadata": {
    "id": "s17sSbjumyrn"
   },
   "outputs": [
    {
     "data": {
      "image/png": "[encoded data removed]",
      "text/plain": [
       "<Figure size 360x360 with 1 Axes>"
      ]
     },
     "metadata": {
      "needs_background": "light"
     },
     "output_type": "display_data"
    },
    {
     "data": {
      "image/png": "[encoded data removed]",
      "text/plain": [
       "<Figure size 360x360 with 1 Axes>"
      ]
     },
     "metadata": {
      "needs_background": "light"
     },
     "output_type": "display_data"
    }
   ],
   "source": [
    "sns.displot(X_train_norm['t_amount']) # normalized\n",
    "sns.displot(X_train_num['t_amount'].apply(lambda x:np.log(x) if x>0 else x)) # /12? (log transformed)\n",
    "plt.show()"
   ]
  },
  {
   "cell_type": "code",
   "execution_count": null,
   "metadata": {
    "id": "q-HgdiaPmyrn"
   },
   "outputs": [],
   "source": [
    "# End Activity 3"
   ]
  },
  {
   "cell_type": "code",
   "execution_count": 54,
   "metadata": {
    "id": "S0htv5PKmyrn"
   },
   "outputs": [],
   "source": [
    "# build X_train and y_train\n",
    "# remember: y = data['status'], y_train selected in train_test_split\n",
    "X_train_transformed = np.concatenate([X_train_norm, X_train_cat], axis=1)"
   ]
  },
  {
   "cell_type": "code",
   "execution_count": 55,
   "metadata": {
    "id": "oYVSxoXimyrn"
   },
   "outputs": [
    {
     "data": {
      "text/plain": [
       "array([[0.00268843, 0.36602807, 0.13805817, ..., 0.        , 0.        ,\n",
       "        1.        ],\n",
       "       [0.00261054, 0.33490426, 0.31462515, ..., 0.        , 0.        ,\n",
       "        1.        ],\n",
       "       [0.45941581, 0.41176015, 0.29500205, ..., 1.        , 0.        ,\n",
       "        0.        ],\n",
       "       ...,\n",
       "       [0.26453608, 0.357496  , 0.22017616, ..., 0.        , 1.        ,\n",
       "        0.        ],\n",
       "       [0.56908362, 0.49639448, 0.28818107, ..., 0.        , 0.        ,\n",
       "        0.        ],\n",
       "       [0.36540664, 0.34817359, 0.10776321, ..., 0.        , 0.        ,\n",
       "        0.        ]])"
      ]
     },
     "execution_count": 55,
     "metadata": {},
     "output_type": "execute_result"
    }
   ],
   "source": [
    "X_train_transformed"
   ]
  },
  {
   "cell_type": "markdown",
   "metadata": {},
   "source": [
    "lbfgs:\n",
    "\n",
    "- Sets the coefficients of the linear model at random values\n",
    "- It selects one coefficient, and then it mofies it slightly b_{i,new} = b_{i,old} + small_change\n",
    "- It computes the new cost function\n",
    "- Compares the new cost function with the old one.\n",
    "If the change reduces the cost function, it keeps the new value of the coefficient\n",
    "Otherwise the change is discarded."
   ]
  },
  {
   "cell_type": "code",
   "execution_count": 56,
   "metadata": {
    "id": "1E8DiZc8myro"
   },
   "outputs": [
    {
     "name": "stderr",
     "output_type": "stream",
     "text": [
      "/opt/anaconda3/lib/python3.8/site-packages/sklearn/linear_model/_logistic.py:763: ConvergenceWarning: lbfgs failed to converge (status=1):\n",
      "STOP: TOTAL NO. of ITERATIONS REACHED LIMIT.\n",
      "\n",
      "Increase the number of iterations (max_iter) or scale the data as shown in:\n",
      "    https://scikit-learn.org/stable/modules/preprocessing.html\n",
      "Please also refer to the documentation for alternative solver options:\n",
      "    https://scikit-learn.org/stable/modules/linear_model.html#logistic-regression\n",
      "  n_iter_i = _check_optimize_result(\n"
     ]
    },
    {
     "data": {
      "text/plain": [
       "LogisticRegression(multi_class='multinomial', random_state=0)"
      ]
     },
     "execution_count": 56,
     "metadata": {},
     "output_type": "execute_result"
    }
   ],
   "source": [
    "from sklearn.linear_model import LogisticRegression\n",
    "\n",
    "classification = LogisticRegression(random_state=0, solver='lbfgs',\n",
    "                  multi_class='multinomial')\n",
    "\n",
    "classification.fit(X_train_transformed, y_train)"
   ]
  },
  {
   "cell_type": "code",
   "execution_count": 57,
   "metadata": {
    "id": "eyAugyQomyro"
   },
   "outputs": [],
   "source": [
    "classification = LogisticRegression(random_state=0, solver='saga',\n",
    "                  multi_class='multinomial').fit(X_train_transformed, y_train)"
   ]
  },
  {
   "cell_type": "code",
   "execution_count": null,
   "metadata": {
    "id": "4p-ypzaBmyro"
   },
   "outputs": [],
   "source": [
    "# Can we now make predictions on the X_test?\n",
    "# predictions = classification.predict(X_test)\n",
    "# classification.score(X_test, y_test)\n",
    "\n",
    "\n",
    "# NO - need to perform transformations on the X_test as well"
   ]
  },
  {
   "cell_type": "code",
   "execution_count": 58,
   "metadata": {},
   "outputs": [],
   "source": [
    "# for numericals\n",
    "X_test_num = X_test.select_dtypes(include = np.number)\n",
    "\n",
    "# Scaling data\n",
    "# we use the transformer that was trained on the training data\n",
    "X_test_normalized = transformer.transform(X_test_num)\n",
    "X_test_norm = pd.DataFrame(X_test_normalized)"
   ]
  },
  {
   "cell_type": "code",
   "execution_count": 59,
   "metadata": {},
   "outputs": [
    {
     "name": "stderr",
     "output_type": "stream",
     "text": [
      "/opt/anaconda3/lib/python3.8/site-packages/pandas/core/algorithms.py:798: FutureWarning: In a future version, the Index constructor will not infer numeric dtypes when passed object-dtype sequences (matching Series behavior)\n",
      "  uniques = Index(uniques)\n"
     ]
    }
   ],
   "source": [
    "# for categoricals\n",
    "X_test_categorical = X_test.select_dtypes(include = 'object')\n",
    "X_test_cat = pd.get_dummies(X_test_categorical, \n",
    "                            columns=['type', 'operation', 'k_symbol', 'duration'],\n",
    "                            drop_first=True)\n"
   ]
  },
  {
   "cell_type": "code",
   "execution_count": 60,
   "metadata": {},
   "outputs": [
    {
     "data": {
      "text/html": [
       "<div>\n",
       "<style scoped>\n",
       "    .dataframe tbody tr th:only-of-type {\n",
       "        vertical-align: middle;\n",
       "    }\n",
       "\n",
       "    .dataframe tbody tr th {\n",
       "        vertical-align: top;\n",
       "    }\n",
       "\n",
       "    .dataframe thead th {\n",
       "        text-align: right;\n",
       "    }\n",
       "</style>\n",
       "<table border=\"1\" class=\"dataframe\">\n",
       "  <thead>\n",
       "    <tr style=\"text-align: right;\">\n",
       "      <th></th>\n",
       "      <th>type_VYBER</th>\n",
       "      <th>type_VYDAJ</th>\n",
       "      <th>operation_unknown</th>\n",
       "      <th>operation_vklad</th>\n",
       "      <th>operation_vyber</th>\n",
       "      <th>k_symbol_SLUZBY</th>\n",
       "      <th>k_symbol_UROK</th>\n",
       "      <th>k_symbol_unknown</th>\n",
       "      <th>duration_24.0</th>\n",
       "      <th>duration_36.0</th>\n",
       "      <th>duration_48.0</th>\n",
       "      <th>duration_60.0</th>\n",
       "    </tr>\n",
       "  </thead>\n",
       "  <tbody>\n",
       "    <tr>\n",
       "      <th>478908</th>\n",
       "      <td>0</td>\n",
       "      <td>0</td>\n",
       "      <td>0</td>\n",
       "      <td>1</td>\n",
       "      <td>0</td>\n",
       "      <td>0</td>\n",
       "      <td>0</td>\n",
       "      <td>1</td>\n",
       "      <td>0</td>\n",
       "      <td>0</td>\n",
       "      <td>1</td>\n",
       "      <td>0</td>\n",
       "    </tr>\n",
       "    <tr>\n",
       "      <th>311954</th>\n",
       "      <td>0</td>\n",
       "      <td>1</td>\n",
       "      <td>0</td>\n",
       "      <td>0</td>\n",
       "      <td>1</td>\n",
       "      <td>0</td>\n",
       "      <td>0</td>\n",
       "      <td>1</td>\n",
       "      <td>0</td>\n",
       "      <td>0</td>\n",
       "      <td>1</td>\n",
       "      <td>0</td>\n",
       "    </tr>\n",
       "    <tr>\n",
       "      <th>556575</th>\n",
       "      <td>0</td>\n",
       "      <td>0</td>\n",
       "      <td>1</td>\n",
       "      <td>0</td>\n",
       "      <td>0</td>\n",
       "      <td>0</td>\n",
       "      <td>1</td>\n",
       "      <td>0</td>\n",
       "      <td>0</td>\n",
       "      <td>0</td>\n",
       "      <td>0</td>\n",
       "      <td>0</td>\n",
       "    </tr>\n",
       "    <tr>\n",
       "      <th>609597</th>\n",
       "      <td>0</td>\n",
       "      <td>1</td>\n",
       "      <td>0</td>\n",
       "      <td>0</td>\n",
       "      <td>1</td>\n",
       "      <td>0</td>\n",
       "      <td>0</td>\n",
       "      <td>1</td>\n",
       "      <td>1</td>\n",
       "      <td>0</td>\n",
       "      <td>0</td>\n",
       "      <td>0</td>\n",
       "    </tr>\n",
       "    <tr>\n",
       "      <th>398816</th>\n",
       "      <td>0</td>\n",
       "      <td>0</td>\n",
       "      <td>1</td>\n",
       "      <td>0</td>\n",
       "      <td>0</td>\n",
       "      <td>0</td>\n",
       "      <td>1</td>\n",
       "      <td>0</td>\n",
       "      <td>0</td>\n",
       "      <td>0</td>\n",
       "      <td>0</td>\n",
       "      <td>1</td>\n",
       "    </tr>\n",
       "  </tbody>\n",
       "</table>\n",
       "</div>"
      ],
      "text/plain": [
       "        type_VYBER  type_VYDAJ  operation_unknown  operation_vklad  \\\n",
       "478908           0           0                  0                1   \n",
       "311954           0           1                  0                0   \n",
       "556575           0           0                  1                0   \n",
       "609597           0           1                  0                0   \n",
       "398816           0           0                  1                0   \n",
       "\n",
       "        operation_vyber  k_symbol_SLUZBY  k_symbol_UROK  k_symbol_unknown  \\\n",
       "478908                0                0              0                 1   \n",
       "311954                1                0              0                 1   \n",
       "556575                0                0              1                 0   \n",
       "609597                1                0              0                 1   \n",
       "398816                0                0              1                 0   \n",
       "\n",
       "        duration_24.0  duration_36.0  duration_48.0  duration_60.0  \n",
       "478908              0              0              1              0  \n",
       "311954              0              0              1              0  \n",
       "556575              0              0              0              0  \n",
       "609597              1              0              0              0  \n",
       "398816              0              0              0              1  "
      ]
     },
     "execution_count": 60,
     "metadata": {},
     "output_type": "execute_result"
    }
   ],
   "source": [
    "X_test_cat.head()"
   ]
  },
  {
   "cell_type": "code",
   "execution_count": 63,
   "metadata": {},
   "outputs": [
    {
     "data": {
      "text/plain": [
       "[('type_VYBER', 'type_VYBER'),\n",
       " ('type_VYDAJ', 'type_VYDAJ'),\n",
       " ('operation_unknown', 'operation_unknown'),\n",
       " ('operation_vklad', 'operation_vklad'),\n",
       " ('operation_vyber', 'operation_vyber'),\n",
       " ('k_symbol_SLUZBY', 'k_symbol_SLUZBY'),\n",
       " ('k_symbol_UROK', 'k_symbol_UROK'),\n",
       " ('k_symbol_unknown', 'k_symbol_unknown'),\n",
       " ('duration_24.0', 'duration_24.0'),\n",
       " ('duration_36.0', 'duration_36.0'),\n",
       " ('duration_48.0', 'duration_48.0'),\n",
       " ('duration_60.0', 'duration_60.0')]"
      ]
     },
     "execution_count": 63,
     "metadata": {},
     "output_type": "execute_result"
    }
   ],
   "source": [
    "list(zip(list(X_train_cat.columns),list(X_test_cat.columns)))"
   ]
  },
  {
   "cell_type": "code",
   "execution_count": 64,
   "metadata": {},
   "outputs": [
    {
     "data": {
      "text/plain": [
       "[('type_VYBER', 'type_VYBER'),\n",
       " ('type_VYDAJ', 'type_VYDAJ'),\n",
       " ('operation_unknown', 'operation_unknown'),\n",
       " ('operation_vklad', 'operation_vklad'),\n",
       " ('operation_vyber', 'operation_vyber'),\n",
       " ('k_symbol_SLUZBY', 'k_symbol_SLUZBY'),\n",
       " ('k_symbol_UROK', 'k_symbol_UROK'),\n",
       " ('k_symbol_unknown', 'k_symbol_unknown'),\n",
       " ('duration_24.0', 'duration_24.0'),\n",
       " ('duration_36.0', 'duration_36.0'),\n",
       " ('duration_48.0', 'duration_48.0'),\n",
       " ('duration_60.0', 'duration_60.0')]"
      ]
     },
     "metadata": {},
     "output_type": "display_data"
    },
    {
     "data": {
      "text/html": [
       "<div>\n",
       "<style scoped>\n",
       "    .dataframe tbody tr th:only-of-type {\n",
       "        vertical-align: middle;\n",
       "    }\n",
       "\n",
       "    .dataframe tbody tr th {\n",
       "        vertical-align: top;\n",
       "    }\n",
       "\n",
       "    .dataframe thead th {\n",
       "        text-align: right;\n",
       "    }\n",
       "</style>\n",
       "<table border=\"1\" class=\"dataframe\">\n",
       "  <thead>\n",
       "    <tr style=\"text-align: right;\">\n",
       "      <th></th>\n",
       "      <th>type_VYBER</th>\n",
       "      <th>type_VYDAJ</th>\n",
       "      <th>operation_unknown</th>\n",
       "      <th>operation_vklad</th>\n",
       "      <th>operation_vyber</th>\n",
       "      <th>k_symbol_SLUZBY</th>\n",
       "      <th>k_symbol_UROK</th>\n",
       "      <th>k_symbol_unknown</th>\n",
       "      <th>duration_24.0</th>\n",
       "      <th>duration_36.0</th>\n",
       "      <th>duration_48.0</th>\n",
       "      <th>duration_60.0</th>\n",
       "    </tr>\n",
       "  </thead>\n",
       "  <tbody>\n",
       "    <tr>\n",
       "      <th>478908</th>\n",
       "      <td>0</td>\n",
       "      <td>0</td>\n",
       "      <td>0</td>\n",
       "      <td>1</td>\n",
       "      <td>0</td>\n",
       "      <td>0</td>\n",
       "      <td>0</td>\n",
       "      <td>1</td>\n",
       "      <td>0</td>\n",
       "      <td>0</td>\n",
       "      <td>1</td>\n",
       "      <td>0</td>\n",
       "    </tr>\n",
       "    <tr>\n",
       "      <th>311954</th>\n",
       "      <td>0</td>\n",
       "      <td>1</td>\n",
       "      <td>0</td>\n",
       "      <td>0</td>\n",
       "      <td>1</td>\n",
       "      <td>0</td>\n",
       "      <td>0</td>\n",
       "      <td>1</td>\n",
       "      <td>0</td>\n",
       "      <td>0</td>\n",
       "      <td>1</td>\n",
       "      <td>0</td>\n",
       "    </tr>\n",
       "    <tr>\n",
       "      <th>556575</th>\n",
       "      <td>0</td>\n",
       "      <td>0</td>\n",
       "      <td>1</td>\n",
       "      <td>0</td>\n",
       "      <td>0</td>\n",
       "      <td>0</td>\n",
       "      <td>1</td>\n",
       "      <td>0</td>\n",
       "      <td>0</td>\n",
       "      <td>0</td>\n",
       "      <td>0</td>\n",
       "      <td>0</td>\n",
       "    </tr>\n",
       "    <tr>\n",
       "      <th>609597</th>\n",
       "      <td>0</td>\n",
       "      <td>1</td>\n",
       "      <td>0</td>\n",
       "      <td>0</td>\n",
       "      <td>1</td>\n",
       "      <td>0</td>\n",
       "      <td>0</td>\n",
       "      <td>1</td>\n",
       "      <td>1</td>\n",
       "      <td>0</td>\n",
       "      <td>0</td>\n",
       "      <td>0</td>\n",
       "    </tr>\n",
       "    <tr>\n",
       "      <th>398816</th>\n",
       "      <td>0</td>\n",
       "      <td>0</td>\n",
       "      <td>1</td>\n",
       "      <td>0</td>\n",
       "      <td>0</td>\n",
       "      <td>0</td>\n",
       "      <td>1</td>\n",
       "      <td>0</td>\n",
       "      <td>0</td>\n",
       "      <td>0</td>\n",
       "      <td>0</td>\n",
       "      <td>1</td>\n",
       "    </tr>\n",
       "  </tbody>\n",
       "</table>\n",
       "</div>"
      ],
      "text/plain": [
       "        type_VYBER  type_VYDAJ  operation_unknown  operation_vklad  \\\n",
       "478908           0           0                  0                1   \n",
       "311954           0           1                  0                0   \n",
       "556575           0           0                  1                0   \n",
       "609597           0           1                  0                0   \n",
       "398816           0           0                  1                0   \n",
       "\n",
       "        operation_vyber  k_symbol_SLUZBY  k_symbol_UROK  k_symbol_unknown  \\\n",
       "478908                0                0              0                 1   \n",
       "311954                1                0              0                 1   \n",
       "556575                0                0              1                 0   \n",
       "609597                1                0              0                 1   \n",
       "398816                0                0              1                 0   \n",
       "\n",
       "        duration_24.0  duration_36.0  duration_48.0  duration_60.0  \n",
       "478908              0              0              1              0  \n",
       "311954              0              0              1              0  \n",
       "556575              0              0              0              0  \n",
       "609597              1              0              0              0  \n",
       "398816              0              0              0              1  "
      ]
     },
     "execution_count": 64,
     "metadata": {},
     "output_type": "execute_result"
    }
   ],
   "source": [
    "# verify that dummies columns are in the same order and that the same column was dropped\n",
    "display(list(zip(list(X_train_cat.columns),list(X_test_cat.columns))))\n",
    "# not needed if you treat each dataframe with one_hot_encoder and save the encode (and the column names)\n",
    "\n",
    "X_test_cat.head()"
   ]
  },
  {
   "cell_type": "code",
   "execution_count": 61,
   "metadata": {},
   "outputs": [],
   "source": [
    "X_test_transformed = np.concatenate([X_test_norm, X_test_cat], axis=1)"
   ]
  },
  {
   "cell_type": "code",
   "execution_count": null,
   "metadata": {},
   "outputs": [],
   "source": [
    "#.append()\n",
    "#function()"
   ]
  },
  {
   "cell_type": "code",
   "execution_count": 63,
   "metadata": {},
   "outputs": [
    {
     "name": "stdout",
     "output_type": "stream",
     "text": [
      "['C' 'C' 'A' ... 'C' 'A' 'A']\n",
      "0.7034883720930233\n"
     ]
    },
    {
     "data": {
      "text/plain": [
       "0.7034883720930233"
      ]
     },
     "execution_count": 63,
     "metadata": {},
     "output_type": "execute_result"
    }
   ],
   "source": [
    "# Now we can make predictions on the test set:\n",
    "y_test_pred = classification.predict(X_test_transformed)\n",
    "print(y_test_pred)\n",
    "\n",
    "from sklearn.metrics import accuracy_score\n",
    "\n",
    "print(accuracy_score(y_test,y_test_pred))\n",
    "classification.score(X_test_transformed, y_test) # Accuracy for classification models and R2 for regression mnodels"
   ]
  },
  {
   "cell_type": "code",
   "execution_count": 65,
   "metadata": {
    "id": "nKXKIjcPmyro",
    "scrolled": true
   },
   "outputs": [
    {
     "name": "stdout",
     "output_type": "stream",
     "text": [
      "C    13254\n",
      "A    12245\n",
      "B     1804\n",
      "D     1765\n",
      "Name: status, dtype: int64\n"
     ]
    }
   ],
   "source": [
    "print(y_test.value_counts())\n",
    "# As you would notice here, there is a huge imbalance in the data among the different classes. \n",
    "# We will talk more about imbalance and how to resolve it later (tomorrow)\n"
   ]
  },
  {
   "cell_type": "code",
   "execution_count": 74,
   "metadata": {},
   "outputs": [
    {
     "name": "stderr",
     "output_type": "stream",
     "text": [
      "/opt/anaconda3/lib/python3.8/site-packages/seaborn/_decorators.py:36: FutureWarning: Pass the following variable as a keyword arg: x. From version 0.12, the only valid positional argument will be `data`, and passing other arguments without an explicit keyword will result in an error or misinterpretation.\n",
      "  warnings.warn(\n"
     ]
    },
    {
     "data": {
      "image/png": "[encoded data removed]",
      "text/plain": [
       "<Figure size 432x288 with 1 Axes>"
      ]
     },
     "metadata": {
      "needs_background": "light"
     },
     "output_type": "display_data"
    }
   ],
   "source": [
    "sns.countplot(y_test)\n",
    "plt.show()"
   ]
  },
  {
   "cell_type": "code",
   "execution_count": 66,
   "metadata": {
    "id": "2fuNSGscmyro"
   },
   "outputs": [
    {
     "data": {
      "text/plain": [
       "C    16111\n",
       "A    12653\n",
       "B      257\n",
       "D       47\n",
       "dtype: int64"
      ]
     },
     "execution_count": 66,
     "metadata": {},
     "output_type": "execute_result"
    }
   ],
   "source": [
    "pd.Series(y_test_pred).value_counts()\n",
    "# This shows that the disparity in the numbers are amplified by the model"
   ]
  },
  {
   "cell_type": "code",
   "execution_count": 67,
   "metadata": {
    "id": "_YhhzlfOmyrp"
   },
   "outputs": [
    {
     "data": {
      "text/plain": [
       "array([[ 9184,    50,  3011,     0],\n",
       "       [ 1056,   160,   588,     0],\n",
       "       [ 2162,     8, 11071,    13],\n",
       "       [  251,    39,  1441,    34]])"
      ]
     },
     "execution_count": 67,
     "metadata": {},
     "output_type": "execute_result"
    }
   ],
   "source": [
    "from sklearn.metrics import confusion_matrix, ConfusionMatrixDisplay\n",
    "\n",
    "confusion_matrix(y_test, y_test_pred)"
   ]
  },
  {
   "cell_type": "code",
   "execution_count": 70,
   "metadata": {},
   "outputs": [
    {
     "data": {
      "image/png": "[encoded data removed]",
      "text/plain": [
       "<Figure size 432x288 with 2 Axes>"
      ]
     },
     "metadata": {
      "needs_background": "light"
     },
     "output_type": "display_data"
    }
   ],
   "source": [
    "cm_test = confusion_matrix(y_test, y_test_pred)\n",
    "\n",
    "disp = ConfusionMatrixDisplay(cm_test,display_labels=classification.classes_)\n",
    "disp.plot()\n",
    "plt.show()"
   ]
  },
  {
   "cell_type": "code",
   "execution_count": null,
   "metadata": {
    "id": "JwAsF1akmyrp"
   },
   "outputs": [],
   "source": [
    "# predicted | A | B | C | D |\n",
    "# --------------------------\n",
    "# actual  A | + |  |   |   |\n",
    "# --------------------------\n",
    "#         B |   | + |   |   |\n",
    "# --------------------------\n",
    "#         C |   |   | + |   |\n",
    "# --------------------------\n",
    "#         D |   |   |   | + |"
   ]
  },
  {
   "cell_type": "code",
   "execution_count": 68,
   "metadata": {
    "id": "QZeAzI8fmyrq"
   },
   "outputs": [],
   "source": [
    "from sklearn.metrics import cohen_kappa_score"
   ]
  },
  {
   "cell_type": "code",
   "execution_count": 69,
   "metadata": {},
   "outputs": [
    {
     "data": {
      "text/plain": [
       "0.47358511077182464"
      ]
     },
     "execution_count": 69,
     "metadata": {},
     "output_type": "execute_result"
    }
   ],
   "source": [
    "cohen_kappa_score(y_test, y_test_pred)"
   ]
  },
  {
   "cell_type": "code",
   "execution_count": 71,
   "metadata": {},
   "outputs": [
    {
     "name": "stdout",
     "output_type": "stream",
     "text": [
      "              precision    recall  f1-score   support\n",
      "\n",
      "           A       0.73      0.75      0.74     12245\n",
      "           B       0.62      0.09      0.16      1804\n",
      "           C       0.69      0.84      0.75     13254\n",
      "           D       0.72      0.02      0.04      1765\n",
      "\n",
      "    accuracy                           0.70     29068\n",
      "   macro avg       0.69      0.42      0.42     29068\n",
      "weighted avg       0.70      0.70      0.67     29068\n",
      "\n"
     ]
    }
   ],
   "source": [
    "from sklearn.metrics import classification_report\n",
    "\n",
    "print(classification_report(y_test, y_test_pred))"
   ]
  },
  {
   "cell_type": "code",
   "execution_count": null,
   "metadata": {},
   "outputs": [],
   "source": [
    "# real         | A  | B |  C  | D |\n",
    "# ----------------------------------\n",
    "# predicted  A | AA | AB| AC | AD |  Precission(A) = AA/(AA+AB+AC+AD)\n",
    "# ---------------------------------\n",
    "#            B | BA | BB | BC | BD | Precission(B) = BB/(BA+BB+BC+BD)\n",
    "# --------------------------------\n",
    "#           C |  CA |  CB | CC | CD |\n",
    "# --------------------------------\n",
    "#           D |   |   |   | + |"
   ]
  },
  {
   "cell_type": "code",
   "execution_count": null,
   "metadata": {},
   "outputs": [],
   "source": [
    "# real         | A  | B |  C  | D |\n",
    "# ----------------------------------\n",
    "# predicted  A | AA | AB| AC | AD |  Recall(A) = AA/(AA+BA+CA+DA)\n",
    "# ---------------------------------\n",
    "#            B | BA | BB | BC | BD | Recall(B) = BB/(AB+BB+CB+DB)\n",
    "# --------------------------------\n",
    "#           C |  CA |  CB | CC | CD |\n",
    "# --------------------------------\n",
    "#           D | DA | DB  | DC  | DD |"
   ]
  },
  {
   "cell_type": "markdown",
   "metadata": {},
   "source": [
    "-Get data\n",
    "-Clean data\n",
    "-Explore data (plot distributions, count plots,..)\n",
    "-X-y split\n",
    "-Train-Test split\n",
    "-Fit trainsformers/scalers train set\n",
    "-Transform train and test set\n",
    "-Fit model/models\n",
    "-Evaluate your models"
   ]
  },
  {
   "cell_type": "markdown",
   "metadata": {},
   "source": [
    "Data Analyst/BA:\n",
    "-Get data\n",
    "-Clean data\n",
    "-Explore data (plot distributions, count plots,..)\n",
    "-Explain data (with dashboards)"
   ]
  },
  {
   "cell_type": "markdown",
   "metadata": {},
   "source": [
    "Data Scientist:\n",
    "-Get data\n",
    "-Clean data\n",
    "-Explore data (plot distributions, count plots,..)\n",
    "-X-y split\n",
    "-Train-Test split\n",
    "-Fit trainsformers/scalers train set\n",
    "-Transform train and test set\n",
    "-Fit model/models\n",
    "-Evaluate your models \n",
    "It tries to generate the best possible models"
   ]
  },
  {
   "cell_type": "markdown",
   "metadata": {},
   "source": [
    "Data Engeneer:\n",
    "-Set ups all the insfraestructure to run and mantain the models\n",
    "-Create the MySQL database\n",
    "-Set up virtual machine to run the models\n",
    "-Update the models"
   ]
  }
 ],
 "metadata": {
  "colab": {
   "name": "L. 3.08.ipynb",
   "provenance": []
  },
  "kernelspec": {
   "display_name": "Python 3",
   "language": "python",
   "name": "python3"
  },
  "language_info": {
   "codemirror_mode": {
    "name": "ipython",
    "version": 3
   },
   "file_extension": ".py",
   "mimetype": "text/x-python",
   "name": "python",
   "nbconvert_exporter": "python",
   "pygments_lexer": "ipython3",
   "version": "3.8.8"
  },
  "toc": {
   "base_numbering": 1,
   "nav_menu": {},
   "number_sections": true,
   "sideBar": true,
   "skip_h1_title": false,
   "title_cell": "Table of Contents",
   "title_sidebar": "Contents",
   "toc_cell": false,
   "toc_position": {},
   "toc_section_display": true,
   "toc_window_display": false
  }
 },
 "nbformat": 4,
 "nbformat_minor": 1
}
