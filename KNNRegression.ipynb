{
 "cells": [
  {
   "cell_type": "code",
   "execution_count": 1,
   "metadata": {
    "id": "wYBkb68JBssi"
   },
   "outputs": [],
   "source": [
    "import pandas as pd\n",
    "import numpy as np \n",
    "import matplotlib.pyplot as plt\n",
    "import seaborn as sns"
   ]
  },
  {
   "cell_type": "code",
   "execution_count": 3,
   "metadata": {
    "colab": {
     "base_uri": "https://localhost:8080/",
     "height": 250
    },
    "executionInfo": {
     "elapsed": 829,
     "status": "ok",
     "timestamp": 1646558031142,
     "user": {
      "displayName": "Ignacio Soteras",
      "photoUrl": "https://lh3.googleusercontent.com/a/default-user=s64",
      "userId": "02050793736257155229"
     },
     "user_tz": -60
    },
    "id": "bAUPjE2LB14_",
    "outputId": "df01dcdf-900f-4c9d-dd3d-51bba50e5ff0"
   },
   "outputs": [
    {
     "data": {
      "text/html": [
       "<div>\n",
       "<style scoped>\n",
       "    .dataframe tbody tr th:only-of-type {\n",
       "        vertical-align: middle;\n",
       "    }\n",
       "\n",
       "    .dataframe tbody tr th {\n",
       "        vertical-align: top;\n",
       "    }\n",
       "\n",
       "    .dataframe thead th {\n",
       "        text-align: right;\n",
       "    }\n",
       "</style>\n",
       "<table border=\"1\" class=\"dataframe\">\n",
       "  <thead>\n",
       "    <tr style=\"text-align: right;\">\n",
       "      <th></th>\n",
       "      <th>HV1</th>\n",
       "      <th>IC1</th>\n",
       "      <th>IC5</th>\n",
       "      <th>CARDPROM</th>\n",
       "      <th>NUMPRM12</th>\n",
       "      <th>NGIFTALL</th>\n",
       "      <th>TIMELAG</th>\n",
       "      <th>year</th>\n",
       "      <th>GENDER</th>\n",
       "      <th>HOMEOWNR</th>\n",
       "      <th>DOMAIN_letters</th>\n",
       "      <th>RFA_frequency</th>\n",
       "      <th>RFA_monetary</th>\n",
       "      <th>AVGGIFT</th>\n",
       "    </tr>\n",
       "  </thead>\n",
       "  <tbody>\n",
       "    <tr>\n",
       "      <th>0</th>\n",
       "      <td>604</td>\n",
       "      <td>245</td>\n",
       "      <td>12536</td>\n",
       "      <td>8</td>\n",
       "      <td>15</td>\n",
       "      <td>3</td>\n",
       "      <td>3.000000</td>\n",
       "      <td>37.570799</td>\n",
       "      <td>F</td>\n",
       "      <td>other</td>\n",
       "      <td>T</td>\n",
       "      <td>3</td>\n",
       "      <td>G</td>\n",
       "      <td>15.000000</td>\n",
       "    </tr>\n",
       "    <tr>\n",
       "      <th>1</th>\n",
       "      <td>800</td>\n",
       "      <td>378</td>\n",
       "      <td>16743</td>\n",
       "      <td>12</td>\n",
       "      <td>11</td>\n",
       "      <td>4</td>\n",
       "      <td>15.000000</td>\n",
       "      <td>37.570799</td>\n",
       "      <td>other</td>\n",
       "      <td>other</td>\n",
       "      <td>S</td>\n",
       "      <td>2</td>\n",
       "      <td>F</td>\n",
       "      <td>8.250000</td>\n",
       "    </tr>\n",
       "    <tr>\n",
       "      <th>2</th>\n",
       "      <td>1395</td>\n",
       "      <td>283</td>\n",
       "      <td>11965</td>\n",
       "      <td>6</td>\n",
       "      <td>8</td>\n",
       "      <td>1</td>\n",
       "      <td>8.117886</td>\n",
       "      <td>37.570799</td>\n",
       "      <td>other</td>\n",
       "      <td>other</td>\n",
       "      <td>S</td>\n",
       "      <td>1</td>\n",
       "      <td>F</td>\n",
       "      <td>20.000000</td>\n",
       "    </tr>\n",
       "    <tr>\n",
       "      <th>3</th>\n",
       "      <td>846</td>\n",
       "      <td>440</td>\n",
       "      <td>14630</td>\n",
       "      <td>6</td>\n",
       "      <td>11</td>\n",
       "      <td>1</td>\n",
       "      <td>8.117886</td>\n",
       "      <td>59.000000</td>\n",
       "      <td>F</td>\n",
       "      <td>H</td>\n",
       "      <td>T</td>\n",
       "      <td>1</td>\n",
       "      <td>F</td>\n",
       "      <td>23.000000</td>\n",
       "    </tr>\n",
       "    <tr>\n",
       "      <th>4</th>\n",
       "      <td>1394</td>\n",
       "      <td>302</td>\n",
       "      <td>8510</td>\n",
       "      <td>18</td>\n",
       "      <td>14</td>\n",
       "      <td>7</td>\n",
       "      <td>7.000000</td>\n",
       "      <td>45.000000</td>\n",
       "      <td>F</td>\n",
       "      <td>H</td>\n",
       "      <td>U</td>\n",
       "      <td>3</td>\n",
       "      <td>G</td>\n",
       "      <td>16.714286</td>\n",
       "    </tr>\n",
       "  </tbody>\n",
       "</table>\n",
       "</div>"
      ],
      "text/plain": [
       "    HV1  IC1    IC5  CARDPROM  NUMPRM12  NGIFTALL    TIMELAG       year  \\\n",
       "0   604  245  12536         8        15         3   3.000000  37.570799   \n",
       "1   800  378  16743        12        11         4  15.000000  37.570799   \n",
       "2  1395  283  11965         6         8         1   8.117886  37.570799   \n",
       "3   846  440  14630         6        11         1   8.117886  59.000000   \n",
       "4  1394  302   8510        18        14         7   7.000000  45.000000   \n",
       "\n",
       "  GENDER HOMEOWNR DOMAIN_letters  RFA_frequency RFA_monetary    AVGGIFT  \n",
       "0      F    other              T              3            G  15.000000  \n",
       "1  other    other              S              2            F   8.250000  \n",
       "2  other    other              S              1            F  20.000000  \n",
       "3      F        H              T              1            F  23.000000  \n",
       "4      F        H              U              3            G  16.714286  "
      ]
     },
     "execution_count": 3,
     "metadata": {},
     "output_type": "execute_result"
    }
   ],
   "source": [
    "data = pd.read_csv('KNNRegression.csv')\n",
    "data.head()"
   ]
  },
  {
   "cell_type": "code",
   "execution_count": 4,
   "metadata": {
    "colab": {
     "base_uri": "https://localhost:8080/"
    },
    "executionInfo": {
     "elapsed": 234,
     "status": "ok",
     "timestamp": 1646558052200,
     "user": {
      "displayName": "Ignacio Soteras",
      "photoUrl": "https://lh3.googleusercontent.com/a/default-user=s64",
      "userId": "02050793736257155229"
     },
     "user_tz": -60
    },
    "id": "LXQLXz2xq5pv",
    "outputId": "9e5f169b-6579-4532-88a8-09a8f18a0b44"
   },
   "outputs": [
    {
     "data": {
      "text/plain": [
       "(10000, 14)"
      ]
     },
     "execution_count": 4,
     "metadata": {},
     "output_type": "execute_result"
    }
   ],
   "source": [
    "data.shape"
   ]
  },
  {
   "cell_type": "code",
   "execution_count": null,
   "metadata": {
    "id": "89_AHS9lq5pv"
   },
   "outputs": [],
   "source": [
    "# get data\n",
    "# clean data, dropping any rows and coluns that need to be dropped (1)\n",
    "# select features (could postpone this)\n",
    "# X/y split\n",
    "# Train/Test split\n",
    "# split both Train and Test in numericals and categoricals\n",
    "# transformations on numericals:\n",
    "#     fit ONLY on numercals_train\n",
    "#     transform BOTH numericals_train and numericals_test\n",
    "# encoding categoricals\n",
    "#     fit ONLY on categricals_train\n",
    "#     encode BOTH categoricals_train and categoricals_test\n",
    "# combine numericals_train and categoricals_train into train_processed\n",
    "# combine numericals_test and categoricals_test into test_processed\n",
    "# define model\n",
    "# fit model on train_processed\n",
    "# evaluate (score) model on test_processed\n",
    "\n",
    "# save model and transformers/encoders (2)\n",
    "\n",
    "# For unseen data:\n",
    "# drop columns and rows according to the criteria used in (1)\n",
    "# split in numericals and categoricals\n",
    "# transform numericals and encode categoricals using transformers/encoders saved in (2)\n",
    "# make predictions using model saved in (2)"
   ]
  },
  {
   "cell_type": "code",
   "execution_count": 5,
   "metadata": {
    "id": "p3ugMZVZEyZM"
   },
   "outputs": [],
   "source": [
    "X = data.drop(['AVGGIFT'],axis=1)\n",
    "y = data['AVGGIFT']"
   ]
  },
  {
   "cell_type": "code",
   "execution_count": 7,
   "metadata": {
    "id": "2VlhHk14S54K"
   },
   "outputs": [],
   "source": [
    "from sklearn.model_selection import train_test_split\n",
    "\n",
    "X_train, X_test, y_train, y_test = train_test_split(X, y, test_size=0.3, random_state=100)"
   ]
  },
  {
   "cell_type": "code",
   "execution_count": 8,
   "metadata": {
    "colab": {
     "base_uri": "https://localhost:8080/",
     "height": 206
    },
    "executionInfo": {
     "elapsed": 222,
     "status": "ok",
     "timestamp": 1646558135392,
     "user": {
      "displayName": "Ignacio Soteras",
      "photoUrl": "https://lh3.googleusercontent.com/a/default-user=s64",
      "userId": "02050793736257155229"
     },
     "user_tz": -60
    },
    "id": "K8u3mQlyDihq",
    "outputId": "1c180311-5c22-4087-908e-e1f7f564c957"
   },
   "outputs": [
    {
     "data": {
      "text/html": [
       "<div>\n",
       "<style scoped>\n",
       "    .dataframe tbody tr th:only-of-type {\n",
       "        vertical-align: middle;\n",
       "    }\n",
       "\n",
       "    .dataframe tbody tr th {\n",
       "        vertical-align: top;\n",
       "    }\n",
       "\n",
       "    .dataframe thead th {\n",
       "        text-align: right;\n",
       "    }\n",
       "</style>\n",
       "<table border=\"1\" class=\"dataframe\">\n",
       "  <thead>\n",
       "    <tr style=\"text-align: right;\">\n",
       "      <th></th>\n",
       "      <th>HV1</th>\n",
       "      <th>IC1</th>\n",
       "      <th>IC5</th>\n",
       "      <th>CARDPROM</th>\n",
       "      <th>NUMPRM12</th>\n",
       "      <th>NGIFTALL</th>\n",
       "      <th>TIMELAG</th>\n",
       "      <th>year</th>\n",
       "      <th>RFA_frequency</th>\n",
       "    </tr>\n",
       "  </thead>\n",
       "  <tbody>\n",
       "    <tr>\n",
       "      <th>1191</th>\n",
       "      <td>463</td>\n",
       "      <td>208</td>\n",
       "      <td>8898</td>\n",
       "      <td>10</td>\n",
       "      <td>11</td>\n",
       "      <td>2</td>\n",
       "      <td>16.0</td>\n",
       "      <td>54.000000</td>\n",
       "      <td>1</td>\n",
       "    </tr>\n",
       "    <tr>\n",
       "      <th>4458</th>\n",
       "      <td>790</td>\n",
       "      <td>353</td>\n",
       "      <td>15730</td>\n",
       "      <td>32</td>\n",
       "      <td>13</td>\n",
       "      <td>10</td>\n",
       "      <td>7.0</td>\n",
       "      <td>45.000000</td>\n",
       "      <td>1</td>\n",
       "    </tr>\n",
       "    <tr>\n",
       "      <th>1131</th>\n",
       "      <td>497</td>\n",
       "      <td>320</td>\n",
       "      <td>12383</td>\n",
       "      <td>31</td>\n",
       "      <td>9</td>\n",
       "      <td>21</td>\n",
       "      <td>4.0</td>\n",
       "      <td>25.000000</td>\n",
       "      <td>1</td>\n",
       "    </tr>\n",
       "    <tr>\n",
       "      <th>9562</th>\n",
       "      <td>572</td>\n",
       "      <td>199</td>\n",
       "      <td>10944</td>\n",
       "      <td>16</td>\n",
       "      <td>13</td>\n",
       "      <td>8</td>\n",
       "      <td>2.0</td>\n",
       "      <td>58.000000</td>\n",
       "      <td>1</td>\n",
       "    </tr>\n",
       "    <tr>\n",
       "      <th>6579</th>\n",
       "      <td>716</td>\n",
       "      <td>401</td>\n",
       "      <td>14903</td>\n",
       "      <td>32</td>\n",
       "      <td>11</td>\n",
       "      <td>36</td>\n",
       "      <td>6.0</td>\n",
       "      <td>37.570799</td>\n",
       "      <td>1</td>\n",
       "    </tr>\n",
       "  </tbody>\n",
       "</table>\n",
       "</div>"
      ],
      "text/plain": [
       "      HV1  IC1    IC5  CARDPROM  NUMPRM12  NGIFTALL  TIMELAG       year  \\\n",
       "1191  463  208   8898        10        11         2     16.0  54.000000   \n",
       "4458  790  353  15730        32        13        10      7.0  45.000000   \n",
       "1131  497  320  12383        31         9        21      4.0  25.000000   \n",
       "9562  572  199  10944        16        13         8      2.0  58.000000   \n",
       "6579  716  401  14903        32        11        36      6.0  37.570799   \n",
       "\n",
       "      RFA_frequency  \n",
       "1191              1  \n",
       "4458              1  \n",
       "1131              1  \n",
       "9562              1  \n",
       "6579              1  "
      ]
     },
     "execution_count": 8,
     "metadata": {},
     "output_type": "execute_result"
    }
   ],
   "source": [
    "numericals_train = X_train.select_dtypes(np.number)\n",
    "numericals_test = X_test.select_dtypes(np.number)\n",
    "numericals_train.head()"
   ]
  },
  {
   "cell_type": "code",
   "execution_count": 9,
   "metadata": {
    "colab": {
     "base_uri": "https://localhost:8080/"
    },
    "executionInfo": {
     "elapsed": 239,
     "status": "ok",
     "timestamp": 1646558140901,
     "user": {
      "displayName": "Ignacio Soteras",
      "photoUrl": "https://lh3.googleusercontent.com/a/default-user=s64",
      "userId": "02050793736257155229"
     },
     "user_tz": -60
    },
    "id": "aJnlFGq4q5py",
    "outputId": "e4e9fb07-67fc-4299-97f3-760db525b858"
   },
   "outputs": [
    {
     "data": {
      "text/plain": [
       "1191    15.000000\n",
       "4458     9.700000\n",
       "1131     5.571429\n",
       "9562    22.500000\n",
       "6579    11.388889\n",
       "Name: AVGGIFT, dtype: float64"
      ]
     },
     "execution_count": 9,
     "metadata": {},
     "output_type": "execute_result"
    }
   ],
   "source": [
    "y_train.head()"
   ]
  },
  {
   "cell_type": "code",
   "execution_count": 10,
   "metadata": {
    "id": "5Pp0JdMrDgpM"
   },
   "outputs": [],
   "source": [
    "from sklearn.preprocessing import StandardScaler\n",
    "\n",
    "transformer = StandardScaler()\n",
    "transformer.fit(numericals_train)\n",
    "numericals_train_standardized = transformer.transform(numericals_train)\n",
    "numericals_test_standardized = transformer.transform(numericals_test)"
   ]
  },
  {
   "cell_type": "code",
   "execution_count": 11,
   "metadata": {
    "colab": {
     "base_uri": "https://localhost:8080/",
     "height": 395
    },
    "executionInfo": {
     "elapsed": 235,
     "status": "ok",
     "timestamp": 1646558445346,
     "user": {
      "displayName": "Ignacio Soteras",
      "photoUrl": "https://lh3.googleusercontent.com/a/default-user=s64",
      "userId": "02050793736257155229"
     },
     "user_tz": -60
    },
    "id": "uegUjuRoVO_H",
    "outputId": "bac9cbc2-bd19-4ab3-a3de-5e32585715da"
   },
   "outputs": [
    {
     "data": {
      "text/html": [
       "<div>\n",
       "<style scoped>\n",
       "    .dataframe tbody tr th:only-of-type {\n",
       "        vertical-align: middle;\n",
       "    }\n",
       "\n",
       "    .dataframe tbody tr th {\n",
       "        vertical-align: top;\n",
       "    }\n",
       "\n",
       "    .dataframe thead th {\n",
       "        text-align: right;\n",
       "    }\n",
       "</style>\n",
       "<table border=\"1\" class=\"dataframe\">\n",
       "  <thead>\n",
       "    <tr style=\"text-align: right;\">\n",
       "      <th></th>\n",
       "      <th>HV1</th>\n",
       "      <th>IC1</th>\n",
       "      <th>IC5</th>\n",
       "      <th>CARDPROM</th>\n",
       "      <th>NUMPRM12</th>\n",
       "      <th>NGIFTALL</th>\n",
       "      <th>TIMELAG</th>\n",
       "      <th>year</th>\n",
       "      <th>RFA_frequency</th>\n",
       "    </tr>\n",
       "  </thead>\n",
       "  <tbody>\n",
       "    <tr>\n",
       "      <th>0</th>\n",
       "      <td>-0.633989</td>\n",
       "      <td>-0.819815</td>\n",
       "      <td>-0.807338</td>\n",
       "      <td>-0.976130</td>\n",
       "      <td>-0.414344</td>\n",
       "      <td>-0.893225</td>\n",
       "      <td>1.307816</td>\n",
       "      <td>1.226740</td>\n",
       "      <td>-0.857768</td>\n",
       "    </tr>\n",
       "    <tr>\n",
       "      <th>1</th>\n",
       "      <td>-0.283648</td>\n",
       "      <td>0.069333</td>\n",
       "      <td>-0.004106</td>\n",
       "      <td>1.587377</td>\n",
       "      <td>0.040979</td>\n",
       "      <td>0.052934</td>\n",
       "      <td>-0.191780</td>\n",
       "      <td>0.555293</td>\n",
       "      <td>-0.857768</td>\n",
       "    </tr>\n",
       "    <tr>\n",
       "      <th>2</th>\n",
       "      <td>-0.597562</td>\n",
       "      <td>-0.133025</td>\n",
       "      <td>-0.397610</td>\n",
       "      <td>1.470854</td>\n",
       "      <td>-0.869668</td>\n",
       "      <td>1.353904</td>\n",
       "      <td>-0.691646</td>\n",
       "      <td>-0.936810</td>\n",
       "      <td>-0.857768</td>\n",
       "    </tr>\n",
       "    <tr>\n",
       "      <th>3</th>\n",
       "      <td>-0.517208</td>\n",
       "      <td>-0.875004</td>\n",
       "      <td>-0.566792</td>\n",
       "      <td>-0.276992</td>\n",
       "      <td>0.040979</td>\n",
       "      <td>-0.183606</td>\n",
       "      <td>-1.024890</td>\n",
       "      <td>1.525161</td>\n",
       "      <td>-0.857768</td>\n",
       "    </tr>\n",
       "    <tr>\n",
       "      <th>4</th>\n",
       "      <td>-0.362930</td>\n",
       "      <td>0.363671</td>\n",
       "      <td>-0.101336</td>\n",
       "      <td>1.587377</td>\n",
       "      <td>-0.414344</td>\n",
       "      <td>3.127953</td>\n",
       "      <td>-0.358402</td>\n",
       "      <td>0.001037</td>\n",
       "      <td>-0.857768</td>\n",
       "    </tr>\n",
       "  </tbody>\n",
       "</table>\n",
       "</div>"
      ],
      "text/plain": [
       "        HV1       IC1       IC5  CARDPROM  NUMPRM12  NGIFTALL   TIMELAG  \\\n",
       "0 -0.633989 -0.819815 -0.807338 -0.976130 -0.414344 -0.893225  1.307816   \n",
       "1 -0.283648  0.069333 -0.004106  1.587377  0.040979  0.052934 -0.191780   \n",
       "2 -0.597562 -0.133025 -0.397610  1.470854 -0.869668  1.353904 -0.691646   \n",
       "3 -0.517208 -0.875004 -0.566792 -0.276992  0.040979 -0.183606 -1.024890   \n",
       "4 -0.362930  0.363671 -0.101336  1.587377 -0.414344  3.127953 -0.358402   \n",
       "\n",
       "       year  RFA_frequency  \n",
       "0  1.226740      -0.857768  \n",
       "1  0.555293      -0.857768  \n",
       "2 -0.936810      -0.857768  \n",
       "3  1.525161      -0.857768  \n",
       "4  0.001037      -0.857768  "
      ]
     },
     "metadata": {},
     "output_type": "display_data"
    },
    {
     "data": {
      "text/html": [
       "<div>\n",
       "<style scoped>\n",
       "    .dataframe tbody tr th:only-of-type {\n",
       "        vertical-align: middle;\n",
       "    }\n",
       "\n",
       "    .dataframe tbody tr th {\n",
       "        vertical-align: top;\n",
       "    }\n",
       "\n",
       "    .dataframe thead th {\n",
       "        text-align: right;\n",
       "    }\n",
       "</style>\n",
       "<table border=\"1\" class=\"dataframe\">\n",
       "  <thead>\n",
       "    <tr style=\"text-align: right;\">\n",
       "      <th></th>\n",
       "      <th>HV1</th>\n",
       "      <th>IC1</th>\n",
       "      <th>IC5</th>\n",
       "      <th>CARDPROM</th>\n",
       "      <th>NUMPRM12</th>\n",
       "      <th>NGIFTALL</th>\n",
       "      <th>TIMELAG</th>\n",
       "      <th>year</th>\n",
       "      <th>RFA_frequency</th>\n",
       "    </tr>\n",
       "  </thead>\n",
       "  <tbody>\n",
       "    <tr>\n",
       "      <th>0</th>\n",
       "      <td>-0.446497</td>\n",
       "      <td>-0.402836</td>\n",
       "      <td>-0.584427</td>\n",
       "      <td>-1.558745</td>\n",
       "      <td>-0.642006</td>\n",
       "      <td>-1.011495</td>\n",
       "      <td>-0.005516</td>\n",
       "      <td>0.001037</td>\n",
       "      <td>-0.857768</td>\n",
       "    </tr>\n",
       "    <tr>\n",
       "      <th>1</th>\n",
       "      <td>1.154142</td>\n",
       "      <td>0.087729</td>\n",
       "      <td>0.835925</td>\n",
       "      <td>-1.442222</td>\n",
       "      <td>-0.869668</td>\n",
       "      <td>-0.893225</td>\n",
       "      <td>0.474707</td>\n",
       "      <td>-1.459046</td>\n",
       "      <td>0.076911</td>\n",
       "    </tr>\n",
       "    <tr>\n",
       "      <th>2</th>\n",
       "      <td>-0.456140</td>\n",
       "      <td>-0.660382</td>\n",
       "      <td>-0.699057</td>\n",
       "      <td>-0.626561</td>\n",
       "      <td>0.040979</td>\n",
       "      <td>-0.656685</td>\n",
       "      <td>0.141463</td>\n",
       "      <td>0.107662</td>\n",
       "      <td>0.076911</td>\n",
       "    </tr>\n",
       "    <tr>\n",
       "      <th>3</th>\n",
       "      <td>-0.788267</td>\n",
       "      <td>-1.065097</td>\n",
       "      <td>-0.806985</td>\n",
       "      <td>1.470854</td>\n",
       "      <td>-1.097330</td>\n",
       "      <td>3.482763</td>\n",
       "      <td>-1.024890</td>\n",
       "      <td>0.001037</td>\n",
       "      <td>1.946267</td>\n",
       "    </tr>\n",
       "    <tr>\n",
       "      <th>4</th>\n",
       "      <td>0.105263</td>\n",
       "      <td>-0.102365</td>\n",
       "      <td>-0.052545</td>\n",
       "      <td>-0.043946</td>\n",
       "      <td>0.268641</td>\n",
       "      <td>0.289474</td>\n",
       "      <td>0.308085</td>\n",
       "      <td>0.001037</td>\n",
       "      <td>1.946267</td>\n",
       "    </tr>\n",
       "  </tbody>\n",
       "</table>\n",
       "</div>"
      ],
      "text/plain": [
       "        HV1       IC1       IC5  CARDPROM  NUMPRM12  NGIFTALL   TIMELAG  \\\n",
       "0 -0.446497 -0.402836 -0.584427 -1.558745 -0.642006 -1.011495 -0.005516   \n",
       "1  1.154142  0.087729  0.835925 -1.442222 -0.869668 -0.893225  0.474707   \n",
       "2 -0.456140 -0.660382 -0.699057 -0.626561  0.040979 -0.656685  0.141463   \n",
       "3 -0.788267 -1.065097 -0.806985  1.470854 -1.097330  3.482763 -1.024890   \n",
       "4  0.105263 -0.102365 -0.052545 -0.043946  0.268641  0.289474  0.308085   \n",
       "\n",
       "       year  RFA_frequency  \n",
       "0  0.001037      -0.857768  \n",
       "1 -1.459046       0.076911  \n",
       "2  0.107662       0.076911  \n",
       "3  0.001037       1.946267  \n",
       "4  0.001037       1.946267  "
      ]
     },
     "metadata": {},
     "output_type": "display_data"
    }
   ],
   "source": [
    "numericals_train_standardized = pd.DataFrame(numericals_train_standardized, columns = numericals_train.columns )\n",
    "numericals_test_standardized  = pd.DataFrame(numericals_test_standardized,  columns = numericals_test.columns  )\n",
    "display(numericals_train_standardized.head())\n",
    "display(numericals_test_standardized.head())"
   ]
  },
  {
   "cell_type": "code",
   "execution_count": 12,
   "metadata": {
    "colab": {
     "base_uri": "https://localhost:8080/",
     "height": 206
    },
    "executionInfo": {
     "elapsed": 351,
     "status": "ok",
     "timestamp": 1646558239943,
     "user": {
      "displayName": "Ignacio Soteras",
      "photoUrl": "https://lh3.googleusercontent.com/a/default-user=s64",
      "userId": "02050793736257155229"
     },
     "user_tz": -60
    },
    "id": "cPb3pxTcEACy",
    "outputId": "2dda6c0f-5c17-4e93-d2f1-932778d7264f"
   },
   "outputs": [
    {
     "data": {
      "text/html": [
       "<div>\n",
       "<style scoped>\n",
       "    .dataframe tbody tr th:only-of-type {\n",
       "        vertical-align: middle;\n",
       "    }\n",
       "\n",
       "    .dataframe tbody tr th {\n",
       "        vertical-align: top;\n",
       "    }\n",
       "\n",
       "    .dataframe thead th {\n",
       "        text-align: right;\n",
       "    }\n",
       "</style>\n",
       "<table border=\"1\" class=\"dataframe\">\n",
       "  <thead>\n",
       "    <tr style=\"text-align: right;\">\n",
       "      <th></th>\n",
       "      <th>GENDER</th>\n",
       "      <th>HOMEOWNR</th>\n",
       "      <th>DOMAIN_letters</th>\n",
       "      <th>RFA_monetary</th>\n",
       "    </tr>\n",
       "  </thead>\n",
       "  <tbody>\n",
       "    <tr>\n",
       "      <th>1191</th>\n",
       "      <td>M</td>\n",
       "      <td>H</td>\n",
       "      <td>T</td>\n",
       "      <td>F</td>\n",
       "    </tr>\n",
       "    <tr>\n",
       "      <th>4458</th>\n",
       "      <td>M</td>\n",
       "      <td>H</td>\n",
       "      <td>C</td>\n",
       "      <td>F</td>\n",
       "    </tr>\n",
       "    <tr>\n",
       "      <th>1131</th>\n",
       "      <td>F</td>\n",
       "      <td>H</td>\n",
       "      <td>U</td>\n",
       "      <td>E</td>\n",
       "    </tr>\n",
       "    <tr>\n",
       "      <th>9562</th>\n",
       "      <td>F</td>\n",
       "      <td>U</td>\n",
       "      <td>T</td>\n",
       "      <td>G</td>\n",
       "    </tr>\n",
       "    <tr>\n",
       "      <th>6579</th>\n",
       "      <td>M</td>\n",
       "      <td>U</td>\n",
       "      <td>T</td>\n",
       "      <td>F</td>\n",
       "    </tr>\n",
       "  </tbody>\n",
       "</table>\n",
       "</div>"
      ],
      "text/plain": [
       "     GENDER HOMEOWNR DOMAIN_letters RFA_monetary\n",
       "1191      M        H              T            F\n",
       "4458      M        H              C            F\n",
       "1131      F        H              U            E\n",
       "9562      F        U              T            G\n",
       "6579      M        U              T            F"
      ]
     },
     "execution_count": 12,
     "metadata": {},
     "output_type": "execute_result"
    }
   ],
   "source": [
    "categoricals_train= X_train.select_dtypes(object)\n",
    "categoricals_test= X_test.select_dtypes(object)\n",
    "categoricals_train.head()"
   ]
  },
  {
   "cell_type": "code",
   "execution_count": 14,
   "metadata": {
    "colab": {
     "base_uri": "https://localhost:8080/",
     "height": 459
    },
    "executionInfo": {
     "elapsed": 222,
     "status": "ok",
     "timestamp": 1646559941370,
     "user": {
      "displayName": "Ignacio Soteras",
      "photoUrl": "https://lh3.googleusercontent.com/a/default-user=s64",
      "userId": "02050793736257155229"
     },
     "user_tz": -60
    },
    "id": "rtNwHI5pD73I",
    "outputId": "eb1a7cc1-f095-4658-faa8-e80bc722a7e7"
   },
   "outputs": [
    {
     "data": {
      "text/html": [
       "<div>\n",
       "<style scoped>\n",
       "    .dataframe tbody tr th:only-of-type {\n",
       "        vertical-align: middle;\n",
       "    }\n",
       "\n",
       "    .dataframe tbody tr th {\n",
       "        vertical-align: top;\n",
       "    }\n",
       "\n",
       "    .dataframe thead th {\n",
       "        text-align: right;\n",
       "    }\n",
       "</style>\n",
       "<table border=\"1\" class=\"dataframe\">\n",
       "  <thead>\n",
       "    <tr style=\"text-align: right;\">\n",
       "      <th></th>\n",
       "      <th>GENDER_M</th>\n",
       "      <th>GENDER_other</th>\n",
       "      <th>HOMEOWNR_U</th>\n",
       "      <th>HOMEOWNR_other</th>\n",
       "      <th>DOMAIN_letters_R</th>\n",
       "      <th>DOMAIN_letters_S</th>\n",
       "      <th>DOMAIN_letters_T</th>\n",
       "      <th>DOMAIN_letters_U</th>\n",
       "      <th>RFA_monetary_E</th>\n",
       "      <th>RFA_monetary_F</th>\n",
       "      <th>RFA_monetary_G</th>\n",
       "    </tr>\n",
       "  </thead>\n",
       "  <tbody>\n",
       "    <tr>\n",
       "      <th>0</th>\n",
       "      <td>1.0</td>\n",
       "      <td>0.0</td>\n",
       "      <td>0.0</td>\n",
       "      <td>0.0</td>\n",
       "      <td>0.0</td>\n",
       "      <td>0.0</td>\n",
       "      <td>1.0</td>\n",
       "      <td>0.0</td>\n",
       "      <td>0.0</td>\n",
       "      <td>1.0</td>\n",
       "      <td>0.0</td>\n",
       "    </tr>\n",
       "    <tr>\n",
       "      <th>1</th>\n",
       "      <td>1.0</td>\n",
       "      <td>0.0</td>\n",
       "      <td>0.0</td>\n",
       "      <td>0.0</td>\n",
       "      <td>0.0</td>\n",
       "      <td>0.0</td>\n",
       "      <td>0.0</td>\n",
       "      <td>0.0</td>\n",
       "      <td>0.0</td>\n",
       "      <td>1.0</td>\n",
       "      <td>0.0</td>\n",
       "    </tr>\n",
       "    <tr>\n",
       "      <th>2</th>\n",
       "      <td>0.0</td>\n",
       "      <td>0.0</td>\n",
       "      <td>0.0</td>\n",
       "      <td>0.0</td>\n",
       "      <td>0.0</td>\n",
       "      <td>0.0</td>\n",
       "      <td>0.0</td>\n",
       "      <td>1.0</td>\n",
       "      <td>1.0</td>\n",
       "      <td>0.0</td>\n",
       "      <td>0.0</td>\n",
       "    </tr>\n",
       "    <tr>\n",
       "      <th>3</th>\n",
       "      <td>0.0</td>\n",
       "      <td>0.0</td>\n",
       "      <td>1.0</td>\n",
       "      <td>0.0</td>\n",
       "      <td>0.0</td>\n",
       "      <td>0.0</td>\n",
       "      <td>1.0</td>\n",
       "      <td>0.0</td>\n",
       "      <td>0.0</td>\n",
       "      <td>0.0</td>\n",
       "      <td>1.0</td>\n",
       "    </tr>\n",
       "    <tr>\n",
       "      <th>4</th>\n",
       "      <td>1.0</td>\n",
       "      <td>0.0</td>\n",
       "      <td>1.0</td>\n",
       "      <td>0.0</td>\n",
       "      <td>0.0</td>\n",
       "      <td>0.0</td>\n",
       "      <td>1.0</td>\n",
       "      <td>0.0</td>\n",
       "      <td>0.0</td>\n",
       "      <td>1.0</td>\n",
       "      <td>0.0</td>\n",
       "    </tr>\n",
       "  </tbody>\n",
       "</table>\n",
       "</div>"
      ],
      "text/plain": [
       "   GENDER_M  GENDER_other  HOMEOWNR_U  HOMEOWNR_other  DOMAIN_letters_R  \\\n",
       "0       1.0           0.0         0.0             0.0               0.0   \n",
       "1       1.0           0.0         0.0             0.0               0.0   \n",
       "2       0.0           0.0         0.0             0.0               0.0   \n",
       "3       0.0           0.0         1.0             0.0               0.0   \n",
       "4       1.0           0.0         1.0             0.0               0.0   \n",
       "\n",
       "   DOMAIN_letters_S  DOMAIN_letters_T  DOMAIN_letters_U  RFA_monetary_E  \\\n",
       "0               0.0               1.0               0.0             0.0   \n",
       "1               0.0               0.0               0.0             0.0   \n",
       "2               0.0               0.0               1.0             1.0   \n",
       "3               0.0               1.0               0.0             0.0   \n",
       "4               0.0               1.0               0.0             0.0   \n",
       "\n",
       "   RFA_monetary_F  RFA_monetary_G  \n",
       "0             1.0             0.0  \n",
       "1             1.0             0.0  \n",
       "2             0.0             0.0  \n",
       "3             0.0             1.0  \n",
       "4             1.0             0.0  "
      ]
     },
     "metadata": {},
     "output_type": "display_data"
    },
    {
     "data": {
      "text/html": [
       "<div>\n",
       "<style scoped>\n",
       "    .dataframe tbody tr th:only-of-type {\n",
       "        vertical-align: middle;\n",
       "    }\n",
       "\n",
       "    .dataframe tbody tr th {\n",
       "        vertical-align: top;\n",
       "    }\n",
       "\n",
       "    .dataframe thead th {\n",
       "        text-align: right;\n",
       "    }\n",
       "</style>\n",
       "<table border=\"1\" class=\"dataframe\">\n",
       "  <thead>\n",
       "    <tr style=\"text-align: right;\">\n",
       "      <th></th>\n",
       "      <th>GENDER_M</th>\n",
       "      <th>GENDER_other</th>\n",
       "      <th>HOMEOWNR_U</th>\n",
       "      <th>HOMEOWNR_other</th>\n",
       "      <th>DOMAIN_letters_R</th>\n",
       "      <th>DOMAIN_letters_S</th>\n",
       "      <th>DOMAIN_letters_T</th>\n",
       "      <th>DOMAIN_letters_U</th>\n",
       "      <th>RFA_monetary_E</th>\n",
       "      <th>RFA_monetary_F</th>\n",
       "      <th>RFA_monetary_G</th>\n",
       "    </tr>\n",
       "  </thead>\n",
       "  <tbody>\n",
       "    <tr>\n",
       "      <th>0</th>\n",
       "      <td>0.0</td>\n",
       "      <td>0.0</td>\n",
       "      <td>0.0</td>\n",
       "      <td>0.0</td>\n",
       "      <td>0.0</td>\n",
       "      <td>1.0</td>\n",
       "      <td>0.0</td>\n",
       "      <td>0.0</td>\n",
       "      <td>0.0</td>\n",
       "      <td>1.0</td>\n",
       "      <td>0.0</td>\n",
       "    </tr>\n",
       "    <tr>\n",
       "      <th>1</th>\n",
       "      <td>0.0</td>\n",
       "      <td>0.0</td>\n",
       "      <td>0.0</td>\n",
       "      <td>0.0</td>\n",
       "      <td>0.0</td>\n",
       "      <td>0.0</td>\n",
       "      <td>0.0</td>\n",
       "      <td>0.0</td>\n",
       "      <td>0.0</td>\n",
       "      <td>1.0</td>\n",
       "      <td>0.0</td>\n",
       "    </tr>\n",
       "    <tr>\n",
       "      <th>2</th>\n",
       "      <td>1.0</td>\n",
       "      <td>0.0</td>\n",
       "      <td>0.0</td>\n",
       "      <td>0.0</td>\n",
       "      <td>0.0</td>\n",
       "      <td>0.0</td>\n",
       "      <td>1.0</td>\n",
       "      <td>0.0</td>\n",
       "      <td>0.0</td>\n",
       "      <td>1.0</td>\n",
       "      <td>0.0</td>\n",
       "    </tr>\n",
       "    <tr>\n",
       "      <th>3</th>\n",
       "      <td>1.0</td>\n",
       "      <td>0.0</td>\n",
       "      <td>0.0</td>\n",
       "      <td>0.0</td>\n",
       "      <td>1.0</td>\n",
       "      <td>0.0</td>\n",
       "      <td>0.0</td>\n",
       "      <td>0.0</td>\n",
       "      <td>0.0</td>\n",
       "      <td>0.0</td>\n",
       "      <td>0.0</td>\n",
       "    </tr>\n",
       "    <tr>\n",
       "      <th>4</th>\n",
       "      <td>1.0</td>\n",
       "      <td>0.0</td>\n",
       "      <td>0.0</td>\n",
       "      <td>0.0</td>\n",
       "      <td>0.0</td>\n",
       "      <td>0.0</td>\n",
       "      <td>0.0</td>\n",
       "      <td>0.0</td>\n",
       "      <td>1.0</td>\n",
       "      <td>0.0</td>\n",
       "      <td>0.0</td>\n",
       "    </tr>\n",
       "  </tbody>\n",
       "</table>\n",
       "</div>"
      ],
      "text/plain": [
       "   GENDER_M  GENDER_other  HOMEOWNR_U  HOMEOWNR_other  DOMAIN_letters_R  \\\n",
       "0       0.0           0.0         0.0             0.0               0.0   \n",
       "1       0.0           0.0         0.0             0.0               0.0   \n",
       "2       1.0           0.0         0.0             0.0               0.0   \n",
       "3       1.0           0.0         0.0             0.0               1.0   \n",
       "4       1.0           0.0         0.0             0.0               0.0   \n",
       "\n",
       "   DOMAIN_letters_S  DOMAIN_letters_T  DOMAIN_letters_U  RFA_monetary_E  \\\n",
       "0               1.0               0.0               0.0             0.0   \n",
       "1               0.0               0.0               0.0             0.0   \n",
       "2               0.0               1.0               0.0             0.0   \n",
       "3               0.0               0.0               0.0             0.0   \n",
       "4               0.0               0.0               0.0             1.0   \n",
       "\n",
       "   RFA_monetary_F  RFA_monetary_G  \n",
       "0             1.0             0.0  \n",
       "1             1.0             0.0  \n",
       "2             1.0             0.0  \n",
       "3             0.0             0.0  \n",
       "4             0.0             0.0  "
      ]
     },
     "metadata": {},
     "output_type": "display_data"
    }
   ],
   "source": [
    "from sklearn.preprocessing import OneHotEncoder\n",
    "\n",
    "encoder = OneHotEncoder(handle_unknown='error', drop='first')\n",
    "encoder.fit(categoricals_train)\n",
    "\n",
    "# Here, after applying the encoder the resulting array will have lots of 0's. When this happens, by default \n",
    "# sklearn returns a new type of variable called \"np.sparse_array\". This new type of variable saves a lot of\n",
    "# memory because it only stores the location of the non 0 values for each row. However, we can't visualize it\n",
    "# To avoid this, we need to use .toarray()\n",
    "categoricals_train_encoded = encoder.transform(categoricals_train).toarray()\n",
    "categoricals_test_encoded  = encoder.transform(categoricals_test).toarray()\n",
    "\n",
    "# Here, the encoder will automatically assign new columns names based on the possible values of each column as\n",
    "# \"column_name\" + \"_\" + \"value\". Those values were NOT PRESENT in the original categoricals_train df. Therefore,\n",
    "# we can't simply add the option \"columns = categoricals_train df\" because we will have a missmatch. However,\n",
    "# the new column names are stored in the encoder and we can access to them with the method: encoder.get_feature_names_out()\n",
    "# that we need to assign to the option \"columns=\" when we define the df.\n",
    "categoricals_train_encoded = pd.DataFrame(categoricals_train_encoded, columns = encoder.get_feature_names_out())\n",
    "categoricals_test_encoded  = pd.DataFrame(categoricals_test_encoded, columns = encoder.get_feature_names_out())\n",
    "display(categoricals_train_encoded.head())\n",
    "display(categoricals_test_encoded.head())"
   ]
  },
  {
   "cell_type": "code",
   "execution_count": 15,
   "metadata": {
    "colab": {
     "base_uri": "https://localhost:8080/"
    },
    "executionInfo": {
     "elapsed": 571,
     "status": "ok",
     "timestamp": 1646560059028,
     "user": {
      "displayName": "Ignacio Soteras",
      "photoUrl": "https://lh3.googleusercontent.com/a/default-user=s64",
      "userId": "02050793736257155229"
     },
     "user_tz": -60
    },
    "id": "R5mJk02Aq5p0",
    "outputId": "846ce9bc-aedc-4639-ed25-759f313df468"
   },
   "outputs": [
    {
     "data": {
      "text/plain": [
       "[array(['F', 'M', 'other'], dtype=object),\n",
       " array(['H', 'U', 'other'], dtype=object),\n",
       " array(['C', 'R', 'S', 'T', 'U'], dtype=object),\n",
       " array(['D', 'E', 'F', 'G'], dtype=object)]"
      ]
     },
     "execution_count": 15,
     "metadata": {},
     "output_type": "execute_result"
    }
   ],
   "source": [
    "# We can have access to which labels the encoder kept for each column with the method: .categories_ which\n",
    "# returns an array of arrays. In other words, this aray contains as many rows as categorical columns in the \n",
    "# df. Each row contains the accepted values for the corresponding column.\n",
    "encoder.categories_"
   ]
  },
  {
   "cell_type": "code",
   "execution_count": 16,
   "metadata": {
    "colab": {
     "base_uri": "https://localhost:8080/",
     "height": 487
    },
    "executionInfo": {
     "elapsed": 264,
     "status": "ok",
     "timestamp": 1646560067189,
     "user": {
      "displayName": "Ignacio Soteras",
      "photoUrl": "https://lh3.googleusercontent.com/a/default-user=s64",
      "userId": "02050793736257155229"
     },
     "user_tz": -60
    },
    "id": "pZNWOKeNUjzw",
    "outputId": "43212675-5fcb-4129-a18c-12c16df01be9"
   },
   "outputs": [
    {
     "data": {
      "text/html": [
       "<div>\n",
       "<style scoped>\n",
       "    .dataframe tbody tr th:only-of-type {\n",
       "        vertical-align: middle;\n",
       "    }\n",
       "\n",
       "    .dataframe tbody tr th {\n",
       "        vertical-align: top;\n",
       "    }\n",
       "\n",
       "    .dataframe thead th {\n",
       "        text-align: right;\n",
       "    }\n",
       "</style>\n",
       "<table border=\"1\" class=\"dataframe\">\n",
       "  <thead>\n",
       "    <tr style=\"text-align: right;\">\n",
       "      <th></th>\n",
       "      <th>GENDER_M</th>\n",
       "      <th>GENDER_other</th>\n",
       "      <th>HOMEOWNR_U</th>\n",
       "      <th>HOMEOWNR_other</th>\n",
       "      <th>DOMAIN_letters_R</th>\n",
       "      <th>DOMAIN_letters_S</th>\n",
       "      <th>DOMAIN_letters_T</th>\n",
       "      <th>DOMAIN_letters_U</th>\n",
       "      <th>RFA_monetary_E</th>\n",
       "      <th>RFA_monetary_F</th>\n",
       "      <th>RFA_monetary_G</th>\n",
       "    </tr>\n",
       "  </thead>\n",
       "  <tbody>\n",
       "    <tr>\n",
       "      <th>0</th>\n",
       "      <td>1.0</td>\n",
       "      <td>0.0</td>\n",
       "      <td>0.0</td>\n",
       "      <td>0.0</td>\n",
       "      <td>0.0</td>\n",
       "      <td>0.0</td>\n",
       "      <td>1.0</td>\n",
       "      <td>0.0</td>\n",
       "      <td>0.0</td>\n",
       "      <td>1.0</td>\n",
       "      <td>0.0</td>\n",
       "    </tr>\n",
       "    <tr>\n",
       "      <th>1</th>\n",
       "      <td>1.0</td>\n",
       "      <td>0.0</td>\n",
       "      <td>0.0</td>\n",
       "      <td>0.0</td>\n",
       "      <td>0.0</td>\n",
       "      <td>0.0</td>\n",
       "      <td>0.0</td>\n",
       "      <td>0.0</td>\n",
       "      <td>0.0</td>\n",
       "      <td>1.0</td>\n",
       "      <td>0.0</td>\n",
       "    </tr>\n",
       "    <tr>\n",
       "      <th>2</th>\n",
       "      <td>0.0</td>\n",
       "      <td>0.0</td>\n",
       "      <td>0.0</td>\n",
       "      <td>0.0</td>\n",
       "      <td>0.0</td>\n",
       "      <td>0.0</td>\n",
       "      <td>0.0</td>\n",
       "      <td>1.0</td>\n",
       "      <td>1.0</td>\n",
       "      <td>0.0</td>\n",
       "      <td>0.0</td>\n",
       "    </tr>\n",
       "    <tr>\n",
       "      <th>3</th>\n",
       "      <td>0.0</td>\n",
       "      <td>0.0</td>\n",
       "      <td>1.0</td>\n",
       "      <td>0.0</td>\n",
       "      <td>0.0</td>\n",
       "      <td>0.0</td>\n",
       "      <td>1.0</td>\n",
       "      <td>0.0</td>\n",
       "      <td>0.0</td>\n",
       "      <td>0.0</td>\n",
       "      <td>1.0</td>\n",
       "    </tr>\n",
       "    <tr>\n",
       "      <th>4</th>\n",
       "      <td>1.0</td>\n",
       "      <td>0.0</td>\n",
       "      <td>1.0</td>\n",
       "      <td>0.0</td>\n",
       "      <td>0.0</td>\n",
       "      <td>0.0</td>\n",
       "      <td>1.0</td>\n",
       "      <td>0.0</td>\n",
       "      <td>0.0</td>\n",
       "      <td>1.0</td>\n",
       "      <td>0.0</td>\n",
       "    </tr>\n",
       "    <tr>\n",
       "      <th>...</th>\n",
       "      <td>...</td>\n",
       "      <td>...</td>\n",
       "      <td>...</td>\n",
       "      <td>...</td>\n",
       "      <td>...</td>\n",
       "      <td>...</td>\n",
       "      <td>...</td>\n",
       "      <td>...</td>\n",
       "      <td>...</td>\n",
       "      <td>...</td>\n",
       "      <td>...</td>\n",
       "    </tr>\n",
       "    <tr>\n",
       "      <th>6995</th>\n",
       "      <td>0.0</td>\n",
       "      <td>0.0</td>\n",
       "      <td>0.0</td>\n",
       "      <td>1.0</td>\n",
       "      <td>0.0</td>\n",
       "      <td>1.0</td>\n",
       "      <td>0.0</td>\n",
       "      <td>0.0</td>\n",
       "      <td>1.0</td>\n",
       "      <td>0.0</td>\n",
       "      <td>0.0</td>\n",
       "    </tr>\n",
       "    <tr>\n",
       "      <th>6996</th>\n",
       "      <td>1.0</td>\n",
       "      <td>0.0</td>\n",
       "      <td>0.0</td>\n",
       "      <td>0.0</td>\n",
       "      <td>0.0</td>\n",
       "      <td>0.0</td>\n",
       "      <td>0.0</td>\n",
       "      <td>1.0</td>\n",
       "      <td>0.0</td>\n",
       "      <td>1.0</td>\n",
       "      <td>0.0</td>\n",
       "    </tr>\n",
       "    <tr>\n",
       "      <th>6997</th>\n",
       "      <td>0.0</td>\n",
       "      <td>0.0</td>\n",
       "      <td>0.0</td>\n",
       "      <td>0.0</td>\n",
       "      <td>0.0</td>\n",
       "      <td>0.0</td>\n",
       "      <td>1.0</td>\n",
       "      <td>0.0</td>\n",
       "      <td>0.0</td>\n",
       "      <td>1.0</td>\n",
       "      <td>0.0</td>\n",
       "    </tr>\n",
       "    <tr>\n",
       "      <th>6998</th>\n",
       "      <td>0.0</td>\n",
       "      <td>1.0</td>\n",
       "      <td>0.0</td>\n",
       "      <td>1.0</td>\n",
       "      <td>0.0</td>\n",
       "      <td>0.0</td>\n",
       "      <td>0.0</td>\n",
       "      <td>0.0</td>\n",
       "      <td>0.0</td>\n",
       "      <td>1.0</td>\n",
       "      <td>0.0</td>\n",
       "    </tr>\n",
       "    <tr>\n",
       "      <th>6999</th>\n",
       "      <td>0.0</td>\n",
       "      <td>0.0</td>\n",
       "      <td>1.0</td>\n",
       "      <td>0.0</td>\n",
       "      <td>0.0</td>\n",
       "      <td>0.0</td>\n",
       "      <td>0.0</td>\n",
       "      <td>0.0</td>\n",
       "      <td>0.0</td>\n",
       "      <td>0.0</td>\n",
       "      <td>0.0</td>\n",
       "    </tr>\n",
       "  </tbody>\n",
       "</table>\n",
       "<p>7000 rows × 11 columns</p>\n",
       "</div>"
      ],
      "text/plain": [
       "      GENDER_M  GENDER_other  HOMEOWNR_U  HOMEOWNR_other  DOMAIN_letters_R  \\\n",
       "0          1.0           0.0         0.0             0.0               0.0   \n",
       "1          1.0           0.0         0.0             0.0               0.0   \n",
       "2          0.0           0.0         0.0             0.0               0.0   \n",
       "3          0.0           0.0         1.0             0.0               0.0   \n",
       "4          1.0           0.0         1.0             0.0               0.0   \n",
       "...        ...           ...         ...             ...               ...   \n",
       "6995       0.0           0.0         0.0             1.0               0.0   \n",
       "6996       1.0           0.0         0.0             0.0               0.0   \n",
       "6997       0.0           0.0         0.0             0.0               0.0   \n",
       "6998       0.0           1.0         0.0             1.0               0.0   \n",
       "6999       0.0           0.0         1.0             0.0               0.0   \n",
       "\n",
       "      DOMAIN_letters_S  DOMAIN_letters_T  DOMAIN_letters_U  RFA_monetary_E  \\\n",
       "0                  0.0               1.0               0.0             0.0   \n",
       "1                  0.0               0.0               0.0             0.0   \n",
       "2                  0.0               0.0               1.0             1.0   \n",
       "3                  0.0               1.0               0.0             0.0   \n",
       "4                  0.0               1.0               0.0             0.0   \n",
       "...                ...               ...               ...             ...   \n",
       "6995               1.0               0.0               0.0             1.0   \n",
       "6996               0.0               0.0               1.0             0.0   \n",
       "6997               0.0               1.0               0.0             0.0   \n",
       "6998               0.0               0.0               0.0             0.0   \n",
       "6999               0.0               0.0               0.0             0.0   \n",
       "\n",
       "      RFA_monetary_F  RFA_monetary_G  \n",
       "0                1.0             0.0  \n",
       "1                1.0             0.0  \n",
       "2                0.0             0.0  \n",
       "3                0.0             1.0  \n",
       "4                1.0             0.0  \n",
       "...              ...             ...  \n",
       "6995             0.0             0.0  \n",
       "6996             1.0             0.0  \n",
       "6997             1.0             0.0  \n",
       "6998             1.0             0.0  \n",
       "6999             0.0             0.0  \n",
       "\n",
       "[7000 rows x 11 columns]"
      ]
     },
     "execution_count": 16,
     "metadata": {},
     "output_type": "execute_result"
    }
   ],
   "source": [
    "# numericals_train_standardized\n",
    "categoricals_train_encoded"
   ]
  },
  {
   "cell_type": "code",
   "execution_count": 17,
   "metadata": {
    "id": "CExxL7nxUNxQ"
   },
   "outputs": [],
   "source": [
    "# Now, we concatenate the numericals and the categoricals df.\n",
    "# Please note that the numericals have been standarized first and then the numericals and the categoricals\n",
    "# will not be in the same range and this will hurt the model performance!!!\n",
    "# we do this deliberately for illustrative purposes. The correct way will be to standarize the full dataframe. \n",
    "X_train = np.concatenate([numericals_train_standardized,categoricals_train_encoded],axis=1)\n",
    "X_test = np.concatenate([numericals_test_standardized,categoricals_test_encoded],axis=1)"
   ]
  },
  {
   "cell_type": "code",
   "execution_count": 27,
   "metadata": {
    "colab": {
     "base_uri": "https://localhost:8080/"
    },
    "executionInfo": {
     "elapsed": 228,
     "status": "ok",
     "timestamp": 1646560677152,
     "user": {
      "displayName": "Ignacio Soteras",
      "photoUrl": "https://lh3.googleusercontent.com/a/default-user=s64",
      "userId": "02050793736257155229"
     },
     "user_tz": -60
    },
    "id": "Cl2S3lEGEiV9",
    "outputId": "6336bf20-5816-4217-fe7d-ef8385a91768"
   },
   "outputs": [
    {
     "data": {
      "text/html": [
       "<style>#sk-container-id-5 {color: black;background-color: white;}#sk-container-id-5 pre{padding: 0;}#sk-container-id-5 div.sk-toggleable {background-color: white;}#sk-container-id-5 label.sk-toggleable__label {cursor: pointer;display: block;width: 100%;margin-bottom: 0;padding: 0.3em;box-sizing: border-box;text-align: center;}#sk-container-id-5 label.sk-toggleable__label-arrow:before {content: \"▸\";float: left;margin-right: 0.25em;color: #696969;}#sk-container-id-5 label.sk-toggleable__label-arrow:hover:before {color: black;}#sk-container-id-5 div.sk-estimator:hover label.sk-toggleable__label-arrow:before {color: black;}#sk-container-id-5 div.sk-toggleable__content {max-height: 0;max-width: 0;overflow: hidden;text-align: left;background-color: #f0f8ff;}#sk-container-id-5 div.sk-toggleable__content pre {margin: 0.2em;color: black;border-radius: 0.25em;background-color: #f0f8ff;}#sk-container-id-5 input.sk-toggleable__control:checked~div.sk-toggleable__content {max-height: 200px;max-width: 100%;overflow: auto;}#sk-container-id-5 input.sk-toggleable__control:checked~label.sk-toggleable__label-arrow:before {content: \"▾\";}#sk-container-id-5 div.sk-estimator input.sk-toggleable__control:checked~label.sk-toggleable__label {background-color: #d4ebff;}#sk-container-id-5 div.sk-label input.sk-toggleable__control:checked~label.sk-toggleable__label {background-color: #d4ebff;}#sk-container-id-5 input.sk-hidden--visually {border: 0;clip: rect(1px 1px 1px 1px);clip: rect(1px, 1px, 1px, 1px);height: 1px;margin: -1px;overflow: hidden;padding: 0;position: absolute;width: 1px;}#sk-container-id-5 div.sk-estimator {font-family: monospace;background-color: #f0f8ff;border: 1px dotted black;border-radius: 0.25em;box-sizing: border-box;margin-bottom: 0.5em;}#sk-container-id-5 div.sk-estimator:hover {background-color: #d4ebff;}#sk-container-id-5 div.sk-parallel-item::after {content: \"\";width: 100%;border-bottom: 1px solid gray;flex-grow: 1;}#sk-container-id-5 div.sk-label:hover label.sk-toggleable__label {background-color: #d4ebff;}#sk-container-id-5 div.sk-serial::before {content: \"\";position: absolute;border-left: 1px solid gray;box-sizing: border-box;top: 0;bottom: 0;left: 50%;z-index: 0;}#sk-container-id-5 div.sk-serial {display: flex;flex-direction: column;align-items: center;background-color: white;padding-right: 0.2em;padding-left: 0.2em;position: relative;}#sk-container-id-5 div.sk-item {position: relative;z-index: 1;}#sk-container-id-5 div.sk-parallel {display: flex;align-items: stretch;justify-content: center;background-color: white;position: relative;}#sk-container-id-5 div.sk-item::before, #sk-container-id-5 div.sk-parallel-item::before {content: \"\";position: absolute;border-left: 1px solid gray;box-sizing: border-box;top: 0;bottom: 0;left: 50%;z-index: -1;}#sk-container-id-5 div.sk-parallel-item {display: flex;flex-direction: column;z-index: 1;position: relative;background-color: white;}#sk-container-id-5 div.sk-parallel-item:first-child::after {align-self: flex-end;width: 50%;}#sk-container-id-5 div.sk-parallel-item:last-child::after {align-self: flex-start;width: 50%;}#sk-container-id-5 div.sk-parallel-item:only-child::after {width: 0;}#sk-container-id-5 div.sk-dashed-wrapped {border: 1px dashed gray;margin: 0 0.4em 0.5em 0.4em;box-sizing: border-box;padding-bottom: 0.4em;background-color: white;}#sk-container-id-5 div.sk-label label {font-family: monospace;font-weight: bold;display: inline-block;line-height: 1.2em;}#sk-container-id-5 div.sk-label-container {text-align: center;}#sk-container-id-5 div.sk-container {/* jupyter's `normalize.less` sets `[hidden] { display: none; }` but bootstrap.min.css set `[hidden] { display: none !important; }` so we also need the `!important` here to be able to override the default hidden behavior on the sphinx rendered scikit-learn.org. See: https://github.com/scikit-learn/scikit-learn/issues/21755 */display: inline-block !important;position: relative;}#sk-container-id-5 div.sk-text-repr-fallback {display: none;}</style><div id=\"sk-container-id-5\" class=\"sk-top-container\"><div class=\"sk-text-repr-fallback\"><pre>KNeighborsRegressor(n_neighbors=4)</pre><b>In a Jupyter environment, please rerun this cell to show the HTML representation or trust the notebook. <br />On GitHub, the HTML representation is unable to render, please try loading this page with nbviewer.org.</b></div><div class=\"sk-container\" hidden><div class=\"sk-item\"><div class=\"sk-estimator sk-toggleable\"><input class=\"sk-toggleable__control sk-hidden--visually\" id=\"sk-estimator-id-5\" type=\"checkbox\" checked><label for=\"sk-estimator-id-5\" class=\"sk-toggleable__label sk-toggleable__label-arrow\">KNeighborsRegressor</label><div class=\"sk-toggleable__content\"><pre>KNeighborsRegressor(n_neighbors=4)</pre></div></div></div></div></div>"
      ],
      "text/plain": [
       "KNeighborsRegressor(n_neighbors=4)"
      ]
     },
     "execution_count": 27,
     "metadata": {},
     "output_type": "execute_result"
    }
   ],
   "source": [
    "# We're going to use the K-NN model for REGRESSION. Remember that this model can be used for\n",
    "# regression and classification. However in sklearn, this model has a different name if it's\n",
    "# used for classification or regression. For regression is called:KNeighborsRegressor\n",
    "# https://scikit-learn.org/stable/modules/generated/sklearn.neighbors.KNeighborsRegressor.html\n",
    "\n",
    "from sklearn.neighbors import KNeighborsRegressor\n",
    "\n",
    "# This method has several options like:\n",
    "# n_neighbors -> number ob neighbours to make the prediction: K\n",
    "# weights -> wether or not weigth each neighbour according to the distance to the observation to be predicted\n",
    "# p -> power of the minkowski distance (default value = 2, which corresponds to Euclidian distance)\n",
    "# However, for sake of simplicity we're only going to play with the option: n_neighbors\n",
    "knn = KNeighborsRegressor(n_neighbors=4)\n",
    "knn.fit(X_train, y_train)"
   ]
  },
  {
   "cell_type": "code",
   "execution_count": 28,
   "metadata": {
    "colab": {
     "base_uri": "https://localhost:8080/"
    },
    "executionInfo": {
     "elapsed": 582,
     "status": "ok",
     "timestamp": 1646560727077,
     "user": {
      "displayName": "Ignacio Soteras",
      "photoUrl": "https://lh3.googleusercontent.com/a/default-user=s64",
      "userId": "02050793736257155229"
     },
     "user_tz": -60
    },
    "id": "_O0hqn8_FGZ0",
    "outputId": "5fb06ec5-b4c1-4025-dfd1-7de77f4b0b47"
   },
   "outputs": [
    {
     "name": "stdout",
     "output_type": "stream",
     "text": [
      "The R2 of the k-NN model is 0.34\n"
     ]
    }
   ],
   "source": [
    "# Here .score will return the R2 of the model\n",
    "knn_score = knn.score(X_test, y_test)\n",
    "print(\"The R2 of the k-NN model is {:.2f}\".format(knn_score))"
   ]
  },
  {
   "cell_type": "code",
   "execution_count": 24,
   "metadata": {
    "id": "R-yw4dhWFRP6"
   },
   "outputs": [
    {
     "name": "stdout",
     "output_type": "stream",
     "text": [
      "The R2 of the linear model is 0.41\n"
     ]
    }
   ],
   "source": [
    "#ACTIVITY 1 - Build a linear model on the same data and compare the scores\n",
    "from sklearn.linear_model import LinearRegression\n",
    "\n",
    "linReg = LinearRegression()\n",
    "linReg.fit(X_train, y_train)\n",
    "lR_score = linReg.score(X_train, y_train)\n",
    "print(\"The R2 of the linear model is {:.2f}\".format(lR_score))\n",
    "\n",
    "\n",
    "# End Activity 1"
   ]
  },
  {
   "cell_type": "markdown",
   "metadata": {
    "id": "5DfzKeG_G_7y"
   },
   "source": [
    "# Choosing k"
   ]
  },
  {
   "cell_type": "code",
   "execution_count": null,
   "metadata": {
    "colab": {
     "base_uri": "https://localhost:8080/"
    },
    "executionInfo": {
     "elapsed": 8994,
     "status": "ok",
     "timestamp": 1646560899175,
     "user": {
      "displayName": "Ignacio Soteras",
      "photoUrl": "https://lh3.googleusercontent.com/a/default-user=s64",
      "userId": "02050793736257155229"
     },
     "user_tz": -60
    },
    "id": "TqBxbkLoG5kJ",
    "outputId": "4df59f5f-6673-4680-b0bd-3eba658c8094"
   },
   "outputs": [
    {
     "name": "stdout",
     "output_type": "stream",
     "text": [
      "Training the k-NN model with 2 neihgbours...\n",
      "\n",
      "Training the k-NN model with 3 neihgbours...\n",
      "\n",
      "Training the k-NN model with 4 neihgbours...\n",
      "\n",
      "Training the k-NN model with 5 neihgbours...\n",
      "\n",
      "Training the k-NN model with 6 neihgbours...\n",
      "\n",
      "Training the k-NN model with 7 neihgbours...\n",
      "\n",
      "Training the k-NN model with 8 neihgbours...\n",
      "\n",
      "Training the k-NN model with 9 neihgbours...\n",
      "\n",
      "Training the k-NN model with 10 neihgbours...\n",
      "\n",
      "Training the k-NN model with 11 neihgbours...\n",
      "\n",
      "Training the k-NN model with 12 neihgbours...\n",
      "\n",
      "Training the k-NN model with 13 neihgbours...\n",
      "\n",
      "Training the k-NN model with 14 neihgbours...\n",
      "\n"
     ]
    }
   ],
   "source": [
    "knn_models = []\n",
    "scores = []\n",
    "for k in range(2,15):\n",
    "    model = KNeighborsRegressor(n_neighbors=k)\n",
    "    print(\"Training the k-NN model with {} neihgbours...\".format(k))\n",
    "    model.fit(X_train, y_train)\n",
    "    knn_models.append(model)\n",
    "    scores.append(model.score(X_test, y_test))\n",
    "    print()"
   ]
  },
  {
   "cell_type": "code",
   "execution_count": null,
   "metadata": {
    "colab": {
     "base_uri": "https://localhost:8080/"
    },
    "executionInfo": {
     "elapsed": 221,
     "status": "ok",
     "timestamp": 1646561016244,
     "user": {
      "displayName": "Ignacio Soteras",
      "photoUrl": "https://lh3.googleusercontent.com/a/default-user=s64",
      "userId": "02050793736257155229"
     },
     "user_tz": -60
    },
    "id": "w-aJFduwq5p4",
    "outputId": "8298e804-57e3-4639-fc81-5610557fcfca"
   },
   "outputs": [
    {
     "name": "stdout",
     "output_type": "stream",
     "text": [
      "The R2 of the k-nn model with 2 neighbours on the TEST set was: 0.11\n",
      "The R2 of the k-nn model with 3 neighbours on the TEST set was: 0.27\n",
      "The R2 of the k-nn model with 4 neighbours on the TEST set was: 0.33\n",
      "The R2 of the k-nn model with 5 neighbours on the TEST set was: 0.38\n",
      "The R2 of the k-nn model with 6 neighbours on the TEST set was: 0.41\n",
      "The R2 of the k-nn model with 7 neighbours on the TEST set was: 0.42\n",
      "The R2 of the k-nn model with 8 neighbours on the TEST set was: 0.42\n",
      "The R2 of the k-nn model with 9 neighbours on the TEST set was: 0.42\n",
      "The R2 of the k-nn model with 10 neighbours on the TEST set was: 0.42\n",
      "The R2 of the k-nn model with 11 neighbours on the TEST set was: 0.43\n",
      "The R2 of the k-nn model with 12 neighbours on the TEST set was: 0.43\n",
      "The R2 of the k-nn model with 13 neighbours on the TEST set was: 0.43\n",
      "The R2 of the k-nn model with 14 neighbours on the TEST set was: 0.43\n"
     ]
    }
   ],
   "source": [
    "for index,score in enumerate(scores):\n",
    "    print(\"The R2 of the k-nn model with {} neighbours on the TEST set was: {:.2f}\".format(index+2,score))"
   ]
  },
  {
   "cell_type": "code",
   "execution_count": null,
   "metadata": {
    "colab": {
     "base_uri": "https://localhost:8080/",
     "height": 422
    },
    "executionInfo": {
     "elapsed": 759,
     "status": "ok",
     "timestamp": 1646561253096,
     "user": {
      "displayName": "Ignacio Soteras",
      "photoUrl": "https://lh3.googleusercontent.com/a/default-user=s64",
      "userId": "02050793736257155229"
     },
     "user_tz": -60
    },
    "id": "GrxISE3gHX-_",
    "outputId": "2f65385a-7f3f-4901-e17f-07664a546b0a"
   },
   "outputs": [
    {
     "data": {
      "text/plain": [
       "Text(0, 0.5, 'Accuracy')"
      ]
     },
     "execution_count": 47,
     "metadata": {},
     "output_type": "execute_result"
    },
    {
     "data": {
      "image/png": "[encoded data removed]",
      "text/plain": [
       "<Figure size 720x432 with 1 Axes>"
      ]
     },
     "metadata": {
      "needs_background": "light"
     },
     "output_type": "display_data"
    }
   ],
   "source": [
    "plt.figure(figsize=(10,6))\n",
    "plt.plot(range(2,15),scores,color = 'blue', linestyle='dashed',\n",
    "         marker='o', markerfacecolor='red', markersize=10)\n",
    "plt.title('R2-scores vs. K Value')\n",
    "plt.xticks(range(1,16))\n",
    "#plt.gca().invert_yaxis()\n",
    "plt.xlabel('K')\n",
    "plt.ylabel('Accuracy')"
   ]
  },
  {
   "cell_type": "code",
   "execution_count": null,
   "metadata": {
    "id": "nbWK3CTzIoDp"
   },
   "outputs": [],
   "source": [
    "# ACTIVITY 2\n",
    "# If you think a little bit about it, the number of neighbors might be very important for our results, but will it be the only parameter that matters? \n"
   ]
  },
  {
   "cell_type": "code",
   "execution_count": null,
   "metadata": {
    "colab": {
     "base_uri": "https://localhost:8080/"
    },
    "executionInfo": {
     "elapsed": 567,
     "status": "ok",
     "timestamp": 1646561499217,
     "user": {
      "displayName": "Ignacio Soteras",
      "photoUrl": "https://lh3.googleusercontent.com/a/default-user=s64",
      "userId": "02050793736257155229"
     },
     "user_tz": -60
    },
    "id": "Zr_BMTX4JjoT",
    "outputId": "4c00dbcf-249e-41f7-ebd3-2917a6c60611"
   },
   "outputs": [
    {
     "name": "stdout",
     "output_type": "stream",
     "text": [
      "The R2 for the k-nn model with 6 neighbours is 0.41\n"
     ]
    }
   ],
   "source": [
    "# Get and print the R2 score of the model with 6 neighbours.\n",
    "\n"
   ]
  },
  {
   "cell_type": "code",
   "execution_count": null,
   "metadata": {
    "colab": {
     "base_uri": "https://localhost:8080/"
    },
    "executionInfo": {
     "elapsed": 1073,
     "status": "ok",
     "timestamp": 1646561574279,
     "user": {
      "displayName": "Ignacio Soteras",
      "photoUrl": "https://lh3.googleusercontent.com/a/default-user=s64",
      "userId": "02050793736257155229"
     },
     "user_tz": -60
    },
    "id": "8UOYWDqFL3la",
    "outputId": "f7dd4049-8e51-4022-8134-2d2472f3a6f4"
   },
   "outputs": [
    {
     "name": "stdout",
     "output_type": "stream",
     "text": [
      "The R2 for the k-nn model with 6 neighbours, weighted by distance is 0.42\n"
     ]
    }
   ],
   "source": [
    "# Train a new k-NN model setting the value of weights = \"distance\" and keeping 6 neighbours.\n",
    "# Compare the R2 of both models\n",
    "\n"
   ]
  }
 ],
 "metadata": {
  "colab": {
   "name": "L. 4.05.ipynb",
   "provenance": []
  },
  "kernelspec": {
   "display_name": "Python 3 (ipykernel)",
   "language": "python",
   "name": "python3"
  },
  "language_info": {
   "codemirror_mode": {
    "name": "ipython",
    "version": 3
   },
   "file_extension": ".py",
   "mimetype": "text/x-python",
   "name": "python",
   "nbconvert_exporter": "python",
   "pygments_lexer": "ipython3",
   "version": "3.10.7"
  }
 },
 "nbformat": 4,
 "nbformat_minor": 1
}
