{
 "cells": [
  {
   "cell_type": "code",
   "execution_count": 1,
   "metadata": {
    "id": "2x1U3SDQkco3"
   },
   "outputs": [],
   "source": [
    "import openpyxl"
   ]
  },
  {
   "cell_type": "code",
   "execution_count": 2,
   "metadata": {
    "id": "yRgEuar1kkkx"
   },
   "outputs": [],
   "source": [
    "from openpyxl import Workbook, load_workbook"
   ]
  },
  {
   "cell_type": "markdown",
   "metadata": {
    "id": "w-H_m3G7zOYc"
   },
   "source": [
    "# Creating a new Excel file"
   ]
  },
  {
   "cell_type": "code",
   "execution_count": 3,
   "metadata": {
    "id": "4w5J8Hz8YzVi"
   },
   "outputs": [],
   "source": [
    "# We create a new \"virtual\" Excel file. It's virtual because it's defined \"in memory\"\n",
    "wb = Workbook()"
   ]
  },
  {
   "cell_type": "markdown",
   "metadata": {
    "id": "YIhWDeNMzRcq"
   },
   "source": [
    "# Adding sheets"
   ]
  },
  {
   "cell_type": "code",
   "execution_count": 4,
   "metadata": {
    "id": "pD0AV8lmksiM"
   },
   "outputs": [],
   "source": [
    "# We create two additional \"worksheets\" in the \"workbook\"\n",
    "# When a new sheet is created, the new one becomes the \"selected sheet\"\n",
    "ws = wb.create_sheet(\"Mysheet1\")\n",
    "ws = wb.create_sheet(\"Mysheet2\")"
   ]
  },
  {
   "cell_type": "markdown",
   "metadata": {
    "id": "ZFf6AQqxzWhS"
   },
   "source": [
    "# Modifying cell's content"
   ]
  },
  {
   "cell_type": "markdown",
   "metadata": {
    "id": "73OjXMHj0gMb"
   },
   "source": [
    "We can modifiy the cell content of the first sheet"
   ]
  },
  {
   "cell_type": "code",
   "execution_count": 5,
   "metadata": {
    "id": "4-lfriK8kwdb"
   },
   "outputs": [],
   "source": [
    "# This will be introduced in the current \"active sheet\" \"Mysheet2\"\n",
    "ws['A1'] = 42"
   ]
  },
  {
   "cell_type": "code",
   "execution_count": 6,
   "metadata": {
    "id": "OVFT33CVkyb6"
   },
   "outputs": [],
   "source": [
    "ws.append([1, 2, 3])"
   ]
  },
  {
   "cell_type": "markdown",
   "metadata": {
    "id": "t8jFg54916mx"
   },
   "source": [
    "# Switching to another sheet"
   ]
  },
  {
   "cell_type": "code",
   "execution_count": 10,
   "metadata": {
    "id": "bV90gfs0k24_"
   },
   "outputs": [],
   "source": [
    "ws = wb[\"Mysheet1\"]"
   ]
  },
  {
   "cell_type": "code",
   "execution_count": 11,
   "metadata": {
    "id": "4hyoRp-oleMf"
   },
   "outputs": [],
   "source": [
    "ws['A1'] = 100"
   ]
  },
  {
   "cell_type": "code",
   "execution_count": 12,
   "metadata": {
    "colab": {
     "base_uri": "https://localhost:8080/"
    },
    "id": "uDGNRA4rlpBs",
    "outputId": "deac57f9-775b-402b-b6a8-e7d977763064",
    "scrolled": true
   },
   "outputs": [
    {
     "data": {
      "text/plain": [
       "100"
      ]
     },
     "execution_count": 12,
     "metadata": {},
     "output_type": "execute_result"
    }
   ],
   "source": [
    "ws['A1'].value"
   ]
  },
  {
   "cell_type": "code",
   "execution_count": 14,
   "metadata": {
    "id": "1Vpd335vlqaI"
   },
   "outputs": [],
   "source": [
    "ws = wb[\"Mysheet2\"]"
   ]
  },
  {
   "cell_type": "code",
   "execution_count": 15,
   "metadata": {
    "colab": {
     "base_uri": "https://localhost:8080/"
    },
    "id": "JJnmmwDZl1q5",
    "outputId": "12773a9a-9824-4ed6-f19d-50fb8d309480"
   },
   "outputs": [
    {
     "data": {
      "text/plain": [
       "42"
      ]
     },
     "execution_count": 15,
     "metadata": {},
     "output_type": "execute_result"
    }
   ],
   "source": [
    "ws['A1'].value"
   ]
  },
  {
   "cell_type": "markdown",
   "metadata": {
    "id": "7DDJhM6vzvP7"
   },
   "source": [
    "# Saving the Excel file"
   ]
  },
  {
   "cell_type": "code",
   "execution_count": 16,
   "metadata": {
    "id": "xCYI3tnMyvw8"
   },
   "outputs": [],
   "source": [
    "wb.save(\"sample.xlsx\")"
   ]
  },
  {
   "cell_type": "markdown",
   "metadata": {
    "id": "M4pzgVso0HBe"
   },
   "source": [
    "# Getting the worksheets of a Workbook"
   ]
  },
  {
   "cell_type": "code",
   "execution_count": 17,
   "metadata": {
    "colab": {
     "base_uri": "https://localhost:8080/"
    },
    "id": "ubKP8QZ4yvw8",
    "outputId": "15ea85de-9a7a-446d-bc61-087a71300f4e"
   },
   "outputs": [
    {
     "data": {
      "text/plain": [
       "['Sheet', 'Mysheet1', 'Mysheet2']"
      ]
     },
     "execution_count": 17,
     "metadata": {},
     "output_type": "execute_result"
    }
   ],
   "source": [
    "wb.sheetnames"
   ]
  },
  {
   "cell_type": "markdown",
   "metadata": {
    "id": "KktVHPK72iNt"
   },
   "source": [
    "# Removing a Sheet"
   ]
  },
  {
   "cell_type": "code",
   "execution_count": 18,
   "metadata": {
    "id": "0yIubfCtyvw8"
   },
   "outputs": [],
   "source": [
    "wb.remove(wb['Sheet'])"
   ]
  },
  {
   "cell_type": "code",
   "execution_count": 19,
   "metadata": {
    "colab": {
     "base_uri": "https://localhost:8080/"
    },
    "id": "NGNx9Fjfyvw8",
    "outputId": "a9cc5598-6ab1-4d5a-e243-d0b7eb01dba7"
   },
   "outputs": [
    {
     "data": {
      "text/plain": [
       "['Mysheet1', 'Mysheet2']"
      ]
     },
     "execution_count": 19,
     "metadata": {},
     "output_type": "execute_result"
    }
   ],
   "source": [
    "wb.sheetnames"
   ]
  },
  {
   "cell_type": "code",
   "execution_count": 20,
   "metadata": {
    "id": "q3s0CGoXyvw9"
   },
   "outputs": [],
   "source": [
    "wb.save(\"sample.xlsx\")"
   ]
  },
  {
   "cell_type": "markdown",
   "metadata": {
    "id": "HClb35p2247s"
   },
   "source": [
    "# Opening an Excel file"
   ]
  },
  {
   "cell_type": "code",
   "execution_count": 22,
   "metadata": {
    "id": "fHSc95E9mGZr"
   },
   "outputs": [],
   "source": [
    "wb2 = load_workbook('L._8.01_exercise.xlsx')"
   ]
  },
  {
   "cell_type": "code",
   "execution_count": 23,
   "metadata": {
    "colab": {
     "base_uri": "https://localhost:8080/"
    },
    "id": "MMLC3LcgmNNW",
    "outputId": "ef51cde7-480a-4e3d-f700-91910a2d794e"
   },
   "outputs": [
    {
     "data": {
      "text/plain": [
       "['CONTENTS', 'POTENTIAL', 'ANALYTICS', 'REGIONS', 'POTENTIAL P SEG']"
      ]
     },
     "execution_count": 23,
     "metadata": {},
     "output_type": "execute_result"
    }
   ],
   "source": [
    "wb2.sheetnames"
   ]
  },
  {
   "cell_type": "code",
   "execution_count": 24,
   "metadata": {
    "id": "UmAWvFTimTjV"
   },
   "outputs": [],
   "source": [
    "regions = wb2['REGIONS']"
   ]
  },
  {
   "cell_type": "markdown",
   "metadata": {
    "id": "XdSS3Q1T3yse"
   },
   "source": [
    "# Iterating over a range of cells"
   ]
  },
  {
   "cell_type": "code",
   "execution_count": 25,
   "metadata": {
    "colab": {
     "base_uri": "https://localhost:8080/"
    },
    "id": "3t-PCtdvmeca",
    "outputId": "2870fc4e-3758-4e5c-f884-47144e4d5067"
   },
   "outputs": [
    {
     "name": "stdout",
     "output_type": "stream",
     "text": [
      "changing to row... (<Cell 'REGIONS'.A1>, <MergedCell 'REGIONS'.B1>, <MergedCell 'REGIONS'.C1>, <MergedCell 'REGIONS'.D1>)\n",
      "Cell:  <Cell 'REGIONS'.A1>\n",
      "REGIONS\n",
      "Cell:  <MergedCell 'REGIONS'.B1>\n",
      "None\n",
      "Cell:  <MergedCell 'REGIONS'.C1>\n",
      "None\n",
      "Cell:  <MergedCell 'REGIONS'.D1>\n",
      "None\n",
      "changing to row... (<Cell 'REGIONS'.A2>, <Cell 'REGIONS'.B2>, <Cell 'REGIONS'.C2>, <Cell 'REGIONS'.D2>)\n",
      "Cell:  <Cell 'REGIONS'.A2>\n",
      "Key\n",
      "Cell:  <Cell 'REGIONS'.B2>\n",
      "State\n",
      "Cell:  <Cell 'REGIONS'.C2>\n",
      "Postal code\n",
      "Cell:  <Cell 'REGIONS'.D2>\n",
      "Region\n",
      "changing to row... (<Cell 'REGIONS'.A3>, <Cell 'REGIONS'.B3>, <Cell 'REGIONS'.C3>, <Cell 'REGIONS'.D3>)\n",
      "Cell:  <Cell 'REGIONS'.A3>\n",
      "NT800\n",
      "Cell:  <Cell 'REGIONS'.B3>\n",
      "NT\n",
      "Cell:  <Cell 'REGIONS'.C3>\n",
      "800\n",
      "Cell:  <Cell 'REGIONS'.D3>\n",
      "DARWIN\n",
      "changing to row... (<Cell 'REGIONS'.A4>, <Cell 'REGIONS'.B4>, <Cell 'REGIONS'.C4>, <Cell 'REGIONS'.D4>)\n",
      "Cell:  <Cell 'REGIONS'.A4>\n",
      "NT810\n",
      "Cell:  <Cell 'REGIONS'.B4>\n",
      "NT\n",
      "Cell:  <Cell 'REGIONS'.C4>\n",
      "810\n",
      "Cell:  <Cell 'REGIONS'.D4>\n",
      "DARWIN\n"
     ]
    }
   ],
   "source": [
    "# Range (1:4, A:D) index starts in 1\n",
    "\n",
    "for row in regions.iter_rows(min_row=1, max_row=4, min_col=1, max_col=4):\n",
    "    \n",
    "    print(f'changing to row... {row}')\n",
    "\n",
    "    for cell in row:\n",
    "        print(\"Cell: \", cell)\n",
    "        print(cell.value)"
   ]
  }
 ],
 "metadata": {
  "colab": {
   "collapsed_sections": [],
   "name": "L. 8.01.ipynb",
   "provenance": []
  },
  "kernelspec": {
   "display_name": "Python 3 (ipykernel)",
   "language": "python",
   "name": "python3"
  },
  "language_info": {
   "codemirror_mode": {
    "name": "ipython",
    "version": 3
   },
   "file_extension": ".py",
   "mimetype": "text/x-python",
   "name": "python",
   "nbconvert_exporter": "python",
   "pygments_lexer": "ipython3",
   "version": "3.10.8"
  }
 },
 "nbformat": 4,
 "nbformat_minor": 1
}
